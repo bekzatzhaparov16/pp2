{
 "cells": [
  {
   "cell_type": "markdown",
   "id": "d23ed248-2005-488c-afc8-8216689b4680",
   "metadata": {},
   "source": [
    "Ex1"
   ]
  },
  {
   "cell_type": "code",
   "execution_count": 2,
   "id": "6872441f-0c15-42b9-ab33-99736130602c",
   "metadata": {},
   "outputs": [
    {
     "name": "stdout",
     "output_type": "stream",
     "text": [
      "True\n",
      "False\n",
      "False\n"
     ]
    }
   ],
   "source": [
    "print(10 > 9)\n",
    "print(10 == 9)\n",
    "print(10 < 9)"
   ]
  },
  {
   "cell_type": "markdown",
   "id": "d5a359c9-cff8-4d76-a769-15aa1bda1a5f",
   "metadata": {},
   "source": [
    "Ex2"
   ]
  },
  {
   "cell_type": "code",
   "execution_count": 7,
   "id": "298c050b-246e-4f64-b34f-ac97e1f66a19",
   "metadata": {},
   "outputs": [
    {
     "name": "stdout",
     "output_type": "stream",
     "text": [
      "b is not greater than a\n"
     ]
    }
   ],
   "source": [
    "a = 200\n",
    "b = 33\n",
    "if b>a:\n",
    "    print(\"b is greater than a\")\n",
    "else :\n",
    "    print(\"b is not greater than a\")"
   ]
  },
  {
   "cell_type": "markdown",
   "id": "c7fe42d2-6d8e-4fb2-a9d8-64c05d9ee26a",
   "metadata": {},
   "source": [
    "Ex3"
   ]
  },
  {
   "cell_type": "code",
   "execution_count": 10,
   "id": "281dc4bb-9d1e-4d7e-985a-74fe2f9ab348",
   "metadata": {},
   "outputs": [
    {
     "name": "stdout",
     "output_type": "stream",
     "text": [
      "True\n",
      "True\n"
     ]
    }
   ],
   "source": [
    "print(bool(\"Hello\"))\n",
    "print(bool(15))"
   ]
  },
  {
   "cell_type": "markdown",
   "id": "8e2a4e1f-5f2f-4618-9682-14ddc6278285",
   "metadata": {},
   "source": [
    "Ex4"
   ]
  },
  {
   "cell_type": "code",
   "execution_count": 15,
   "id": "0f6ab9c8-c481-498a-ab2b-5ef6c5ea57c0",
   "metadata": {},
   "outputs": [
    {
     "name": "stdout",
     "output_type": "stream",
     "text": [
      "True\n",
      "True\n"
     ]
    }
   ],
   "source": [
    "x = \"Hello\"\n",
    "y = 15\n",
    "print(bool(x))\n",
    "print(bool(y))"
   ]
  },
  {
   "cell_type": "markdown",
   "id": "436de203-f198-4eb9-a076-d9b53bb0a0ca",
   "metadata": {},
   "source": [
    "Ex5"
   ]
  },
  {
   "cell_type": "code",
   "execution_count": 19,
   "id": "ca4d48f2-2c03-47c0-a12e-6e005542e537",
   "metadata": {},
   "outputs": [
    {
     "data": {
      "text/plain": [
       "True"
      ]
     },
     "execution_count": 19,
     "metadata": {},
     "output_type": "execute_result"
    }
   ],
   "source": [
    "bool(\"abc\")\n",
    "bool(123)\n",
    "bool([\"apple\", \"cherry\", \"banana\"])"
   ]
  },
  {
   "cell_type": "markdown",
   "id": "2bc48fd6-3399-4396-8c10-eca907c34c81",
   "metadata": {},
   "source": [
    "Ex6"
   ]
  },
  {
   "cell_type": "code",
   "execution_count": 23,
   "id": "8f9e0841-25b3-4c72-b252-264afa3569c8",
   "metadata": {},
   "outputs": [
    {
     "data": {
      "text/plain": [
       "False"
      ]
     },
     "execution_count": 23,
     "metadata": {},
     "output_type": "execute_result"
    }
   ],
   "source": [
    "bool(False)\n",
    "bool(None)\n",
    "bool(0)\n",
    "bool(\"\")\n",
    "bool(())\n",
    "bool([])\n",
    "bool({})"
   ]
  },
  {
   "cell_type": "markdown",
   "id": "a79db728-0898-46f8-a157-8f1ca290c42d",
   "metadata": {},
   "source": [
    "Ex7"
   ]
  },
  {
   "cell_type": "code",
   "execution_count": 26,
   "id": "48594bed-3ef0-4039-a113-032292ad96b7",
   "metadata": {},
   "outputs": [
    {
     "name": "stdout",
     "output_type": "stream",
     "text": [
      "False\n"
     ]
    }
   ],
   "source": [
    "class myclass():\n",
    "  def __len__(self):\n",
    "    return 0\n",
    "\n",
    "myobj = myclass()\n",
    "print(bool(myobj))"
   ]
  },
  {
   "cell_type": "markdown",
   "id": "bba13e1e-717d-49f6-8586-cf31a629faa2",
   "metadata": {},
   "source": [
    "Ex8"
   ]
  },
  {
   "cell_type": "code",
   "execution_count": 2,
   "id": "ca22aa24-e850-4b28-8e5f-985efa42b782",
   "metadata": {},
   "outputs": [
    {
     "name": "stdout",
     "output_type": "stream",
     "text": [
      "True\n"
     ]
    }
   ],
   "source": [
    "def myFunction() :\n",
    "  return True\n",
    "\n",
    "print(myFunction())"
   ]
  },
  {
   "cell_type": "markdown",
   "id": "dd0dce28-7ab7-4fae-9362-c71c77f3c03e",
   "metadata": {},
   "source": [
    "Ex9"
   ]
  },
  {
   "cell_type": "code",
   "execution_count": 30,
   "id": "fb0ab854-e930-48a1-873c-6bd7bce70a9d",
   "metadata": {},
   "outputs": [
    {
     "name": "stdout",
     "output_type": "stream",
     "text": [
      "YES!\n"
     ]
    }
   ],
   "source": [
    "def myFunction() :\n",
    "  return True\n",
    "\n",
    "if myFunction():\n",
    "  print(\"YES!\")\n",
    "else:\n",
    "  print(\"NO!\")"
   ]
  },
  {
   "cell_type": "markdown",
   "id": "85d2ea50-197c-449e-8a61-7b4257cc3009",
   "metadata": {},
   "source": [
    "Ex10"
   ]
  },
  {
   "cell_type": "code",
   "execution_count": 32,
   "id": "5fed2641-3cf8-4f04-8749-bb5566e8a162",
   "metadata": {},
   "outputs": [
    {
     "name": "stdout",
     "output_type": "stream",
     "text": [
      "True\n"
     ]
    }
   ],
   "source": [
    "x = 200\n",
    "print(isinstance(x, int))"
   ]
  },
  {
   "cell_type": "markdown",
   "id": "db4ce35c-995b-407d-9cca-77cad6145a4a",
   "metadata": {},
   "source": [
    "Ex11"
   ]
  },
  {
   "cell_type": "code",
   "execution_count": 35,
   "id": "cdc0be87-346a-4518-bdd8-2fde65c41d28",
   "metadata": {},
   "outputs": [
    {
     "name": "stdout",
     "output_type": "stream",
     "text": [
      "15\n"
     ]
    }
   ],
   "source": [
    "print(10+5)"
   ]
  },
  {
   "cell_type": "markdown",
   "id": "74101582-32fe-4bf8-bd62-c46e33a5aee6",
   "metadata": {},
   "source": [
    "Ex12"
   ]
  },
  {
   "cell_type": "code",
   "execution_count": 38,
   "id": "4b4b67e2-d77d-4857-83b8-b2e4957d65da",
   "metadata": {},
   "outputs": [
    {
     "name": "stdout",
     "output_type": "stream",
     "text": [
      "0\n"
     ]
    }
   ],
   "source": [
    "print((6 + 3) - (6 + 3))"
   ]
  },
  {
   "cell_type": "markdown",
   "id": "d411b1e2-eb65-4286-a352-39707fb5203d",
   "metadata": {},
   "source": [
    "Ex13"
   ]
  },
  {
   "cell_type": "code",
   "execution_count": 41,
   "id": "6b68082f-fde8-4b85-ab4f-75d95f0f537c",
   "metadata": {},
   "outputs": [
    {
     "name": "stdout",
     "output_type": "stream",
     "text": [
      "115\n"
     ]
    }
   ],
   "source": [
    "print(100 + 5 * 3)"
   ]
  },
  {
   "cell_type": "markdown",
   "id": "a394bf6a-7b49-487a-863c-8c0273c3f82e",
   "metadata": {},
   "source": [
    "Ex14"
   ]
  },
  {
   "cell_type": "code",
   "execution_count": 44,
   "id": "f73dd559-0dd9-4a11-af1e-3ca07a378204",
   "metadata": {},
   "outputs": [
    {
     "name": "stdout",
     "output_type": "stream",
     "text": [
      "5\n"
     ]
    }
   ],
   "source": [
    "print(5 + 4 - 7 + 3)"
   ]
  },
  {
   "cell_type": "markdown",
   "id": "b3bc43a1-a481-46d5-a5d0-283aee591e98",
   "metadata": {},
   "source": [
    "Ex15"
   ]
  },
  {
   "cell_type": "code",
   "execution_count": 47,
   "id": "4af6aa3f-df25-4037-9ad4-4187a9c421a0",
   "metadata": {},
   "outputs": [
    {
     "name": "stdout",
     "output_type": "stream",
     "text": [
      "['apple', 'banana', 'cherry']\n"
     ]
    }
   ],
   "source": [
    "thislist = [\"apple\", \"banana\", \"cherry\"]\n",
    "print(thislist)"
   ]
  },
  {
   "cell_type": "markdown",
   "id": "cd2e6d35-714a-447c-a93b-968b65c951f2",
   "metadata": {},
   "source": [
    "Ex16"
   ]
  },
  {
   "cell_type": "code",
   "execution_count": 52,
   "id": "e1e6fa45-b622-45b4-82d4-88887925b556",
   "metadata": {},
   "outputs": [
    {
     "name": "stdout",
     "output_type": "stream",
     "text": [
      "['apple', 'banana', 'cherry', 'apple', 'cherry']\n"
     ]
    }
   ],
   "source": [
    "thislist = [\"apple\", \"banana\", \"cherry\", \"apple\", \"cherry\"]\n",
    "print(thislist)"
   ]
  },
  {
   "cell_type": "markdown",
   "id": "a49870a1-a9be-4eb7-b461-fbea7a75619e",
   "metadata": {},
   "source": [
    "Ex17"
   ]
  },
  {
   "cell_type": "code",
   "execution_count": 55,
   "id": "a1d1b398-1b84-461c-847b-0dfb9681fd10",
   "metadata": {},
   "outputs": [
    {
     "name": "stdout",
     "output_type": "stream",
     "text": [
      "3\n"
     ]
    }
   ],
   "source": [
    "thislist = [\"apple\", \"banana\", \"cherry\"]\n",
    "print(len(thislist))"
   ]
  },
  {
   "cell_type": "markdown",
   "id": "4f584d38-a8af-4f5b-86b3-1a7095869479",
   "metadata": {},
   "source": [
    "Ex18"
   ]
  },
  {
   "cell_type": "code",
   "execution_count": 58,
   "id": "8a32de56-5351-42a4-9cdf-804bf33dcbe7",
   "metadata": {},
   "outputs": [],
   "source": [
    "list1 = [\"apple\", \"banana\", \"cherry\"]\n",
    "list2 = [1, 5, 7, 9, 3]\n",
    "list3 = [True, False, False]"
   ]
  },
  {
   "cell_type": "markdown",
   "id": "c7d462f5-d064-4393-b2db-d2ab39ef37c1",
   "metadata": {},
   "source": [
    "Ex19"
   ]
  },
  {
   "cell_type": "code",
   "execution_count": 63,
   "id": "37aa9168-796f-4a97-af62-cd090b9d6109",
   "metadata": {},
   "outputs": [],
   "source": [
    "list1 = [\"abc\", 34, True, 40, \"male\"]"
   ]
  },
  {
   "cell_type": "markdown",
   "id": "439318d4-8cdd-40d7-afdc-6372289f1c40",
   "metadata": {},
   "source": [
    "Ex20"
   ]
  },
  {
   "cell_type": "code",
   "execution_count": 66,
   "id": "baaaa135-cc8c-466e-a275-965606a292d8",
   "metadata": {},
   "outputs": [
    {
     "name": "stdout",
     "output_type": "stream",
     "text": [
      "<class 'list'>\n"
     ]
    }
   ],
   "source": [
    "mylist = [\"apple\", \"banana\", \"cherry\"]\n",
    "print(type(mylist))"
   ]
  },
  {
   "cell_type": "markdown",
   "id": "3cf753bb-0779-46e5-9d25-fba1f06b9122",
   "metadata": {},
   "source": [
    "Ex21"
   ]
  },
  {
   "cell_type": "code",
   "execution_count": 69,
   "id": "ff275c4a-4185-4166-90c9-b5138e4a656c",
   "metadata": {},
   "outputs": [
    {
     "name": "stdout",
     "output_type": "stream",
     "text": [
      "['apple', 'banana', 'cherry']\n"
     ]
    }
   ],
   "source": [
    "thislist = list((\"apple\", \"banana\", \"cherry\")) # note the double round-brackets\n",
    "print(thislist)"
   ]
  },
  {
   "cell_type": "markdown",
   "id": "2da80b39-e3f9-43c8-ad78-c8182567cd46",
   "metadata": {},
   "source": [
    "Ex22"
   ]
  },
  {
   "cell_type": "code",
   "execution_count": 72,
   "id": "635a605e-1b77-450c-95b5-8bbfcaf8f980",
   "metadata": {},
   "outputs": [
    {
     "name": "stdout",
     "output_type": "stream",
     "text": [
      "banana\n"
     ]
    }
   ],
   "source": [
    "thislist = [\"apple\", \"banana\", \"cherry\"]\n",
    "print(thislist[1])"
   ]
  },
  {
   "cell_type": "markdown",
   "id": "88672caa-a59d-47e7-b7f8-d6e8540974f9",
   "metadata": {},
   "source": [
    "Ex23"
   ]
  },
  {
   "cell_type": "code",
   "execution_count": 76,
   "id": "0e279d59-9ce6-43f5-ad5d-6d4271f81560",
   "metadata": {},
   "outputs": [
    {
     "name": "stdout",
     "output_type": "stream",
     "text": [
      "banana\n"
     ]
    }
   ],
   "source": [
    "thislist = [\"apple\", \"banana\", \"cherry\"]\n",
    "print(thislist[1])"
   ]
  },
  {
   "cell_type": "markdown",
   "id": "14952bce-16fa-4e75-bc16-b4cc50c3d4e2",
   "metadata": {},
   "source": [
    "Ex24"
   ]
  },
  {
   "cell_type": "code",
   "execution_count": 79,
   "id": "670028b1-658e-4cf3-9dd7-91c0edd63b88",
   "metadata": {},
   "outputs": [
    {
     "name": "stdout",
     "output_type": "stream",
     "text": [
      "cherry\n"
     ]
    }
   ],
   "source": [
    "thislist = [\"apple\", \"banana\", \"cherry\"]\n",
    "print(thislist[-1])"
   ]
  },
  {
   "cell_type": "markdown",
   "id": "aa04bc9a-3591-46e5-9688-6f879d072189",
   "metadata": {},
   "source": [
    "Ex25"
   ]
  },
  {
   "cell_type": "code",
   "execution_count": 82,
   "id": "cfa3ef55-8266-428c-9bb5-fdc30bd0c9dd",
   "metadata": {},
   "outputs": [
    {
     "name": "stdout",
     "output_type": "stream",
     "text": [
      "['cherry', 'orange', 'kiwi']\n"
     ]
    }
   ],
   "source": [
    "thislist = [\"apple\", \"banana\", \"cherry\", \"orange\", \"kiwi\", \"melon\", \"mango\"]\n",
    "print(thislist[2:5])"
   ]
  },
  {
   "cell_type": "markdown",
   "id": "df003dce-9f77-43f4-80a8-90011895a16d",
   "metadata": {},
   "source": [
    "Ex26"
   ]
  },
  {
   "cell_type": "code",
   "execution_count": 85,
   "id": "093a5cfc-6e31-4aa2-ad8f-00a603112189",
   "metadata": {},
   "outputs": [
    {
     "name": "stdout",
     "output_type": "stream",
     "text": [
      "['apple', 'banana', 'cherry', 'orange']\n"
     ]
    }
   ],
   "source": [
    "thislist = [\"apple\", \"banana\", \"cherry\", \"orange\", \"kiwi\", \"melon\", \"mango\"]\n",
    "print(thislist[:4])"
   ]
  },
  {
   "cell_type": "markdown",
   "id": "5baf8fd5-1728-4be9-ab7d-42eefd978421",
   "metadata": {},
   "source": [
    "Ex27"
   ]
  },
  {
   "cell_type": "code",
   "execution_count": 89,
   "id": "38a29e24-4289-41a3-a219-7467ecc99cbd",
   "metadata": {},
   "outputs": [
    {
     "name": "stdout",
     "output_type": "stream",
     "text": [
      "['cherry', 'orange', 'kiwi', 'melon', 'mango']\n"
     ]
    }
   ],
   "source": [
    "thislist = [\"apple\", \"banana\", \"cherry\", \"orange\", \"kiwi\", \"melon\", \"mango\"]\n",
    "print(thislist[2:])"
   ]
  },
  {
   "cell_type": "markdown",
   "id": "e950a9a4-9e78-45e4-ba6b-4a0bd16b6cc7",
   "metadata": {},
   "source": [
    "Ex28"
   ]
  },
  {
   "cell_type": "code",
   "execution_count": 92,
   "id": "c2eea66a-3160-46f9-8095-79b3c82b112c",
   "metadata": {},
   "outputs": [
    {
     "name": "stdout",
     "output_type": "stream",
     "text": [
      "['orange', 'kiwi', 'melon']\n"
     ]
    }
   ],
   "source": [
    "thislist = [\"apple\", \"banana\", \"cherry\", \"orange\", \"kiwi\", \"melon\", \"mango\"]\n",
    "print(thislist[-4:-1])"
   ]
  },
  {
   "cell_type": "markdown",
   "id": "d93c0304-3dda-4960-82a9-f494b7056124",
   "metadata": {},
   "source": [
    "Ex29"
   ]
  },
  {
   "cell_type": "code",
   "execution_count": 95,
   "id": "acd3d723-b4a9-4719-adf3-038aa4756b00",
   "metadata": {},
   "outputs": [
    {
     "name": "stdout",
     "output_type": "stream",
     "text": [
      "Yes, 'apple' is in the fruits list\n"
     ]
    }
   ],
   "source": [
    "thislist = [\"apple\", \"banana\", \"cherry\"]\n",
    "if \"apple\" in thislist:\n",
    "  print(\"Yes, 'apple' is in the fruits list\")"
   ]
  },
  {
   "cell_type": "markdown",
   "id": "8b7ef7a7-6338-4597-9b85-d9033af198d9",
   "metadata": {},
   "source": [
    "Ex30"
   ]
  },
  {
   "cell_type": "code",
   "execution_count": 98,
   "id": "68ece4e0-44b6-47ea-a155-469003e4c6e3",
   "metadata": {},
   "outputs": [
    {
     "name": "stdout",
     "output_type": "stream",
     "text": [
      "['apple', 'blackcurrant', 'cherry']\n"
     ]
    }
   ],
   "source": [
    "thislist = [\"apple\", \"banana\", \"cherry\"]\n",
    "thislist[1] = \"blackcurrant\"\n",
    "print(thislist)"
   ]
  },
  {
   "cell_type": "markdown",
   "id": "530086f3-73af-4f61-88a9-af9e6bb2ff95",
   "metadata": {},
   "source": [
    "Ex31"
   ]
  },
  {
   "cell_type": "code",
   "execution_count": 102,
   "id": "7abd98a4-f910-4199-b57e-7e6e1806e47a",
   "metadata": {},
   "outputs": [
    {
     "name": "stdout",
     "output_type": "stream",
     "text": [
      "['apple', 'blackcurrant', 'watermelon', 'orange', 'kiwi', 'mango']\n"
     ]
    }
   ],
   "source": [
    "thislist = [\"apple\", \"banana\", \"cherry\", \"orange\", \"kiwi\", \"mango\"]\n",
    "thislist[1:3] = [\"blackcurrant\", \"watermelon\"]\n",
    "print(thislist)"
   ]
  },
  {
   "cell_type": "markdown",
   "id": "1389738c-e972-497d-8201-f43ff59a5ee1",
   "metadata": {},
   "source": [
    "Ex32"
   ]
  },
  {
   "cell_type": "code",
   "execution_count": 105,
   "id": "403d7c32-4bf7-490d-97cb-eb911512b1e6",
   "metadata": {},
   "outputs": [
    {
     "name": "stdout",
     "output_type": "stream",
     "text": [
      "['apple', 'blackcurrant', 'watermelon', 'cherry']\n"
     ]
    }
   ],
   "source": [
    "thislist = [\"apple\", \"banana\", \"cherry\"]\n",
    "thislist[1:2] = [\"blackcurrant\", \"watermelon\"]\n",
    "print(thislist)"
   ]
  },
  {
   "cell_type": "markdown",
   "id": "13f97a9d-b09c-4a46-85b9-150e6c39be68",
   "metadata": {},
   "source": [
    "Ex33"
   ]
  },
  {
   "cell_type": "code",
   "execution_count": 108,
   "id": "be4f9633-d3a8-4e74-9c6a-c9f88664e95b",
   "metadata": {},
   "outputs": [
    {
     "name": "stdout",
     "output_type": "stream",
     "text": [
      "['apple', 'watermelon']\n"
     ]
    }
   ],
   "source": [
    "thislist = [\"apple\", \"banana\", \"cherry\"]\n",
    "thislist[1:3] = [\"watermelon\"]\n",
    "print(thislist)"
   ]
  },
  {
   "cell_type": "markdown",
   "id": "5ba64e73-b982-4c5c-a8b0-7d915ba063a0",
   "metadata": {},
   "source": [
    "Ex34"
   ]
  },
  {
   "cell_type": "code",
   "execution_count": 111,
   "id": "ff36c116-24db-4770-bf08-45c39df784a3",
   "metadata": {},
   "outputs": [
    {
     "name": "stdout",
     "output_type": "stream",
     "text": [
      "['apple', 'banana', 'watermelon', 'cherry']\n"
     ]
    }
   ],
   "source": [
    "thislist = [\"apple\", \"banana\", \"cherry\"]\n",
    "thislist.insert(2, \"watermelon\")\n",
    "print(thislist)"
   ]
  },
  {
   "cell_type": "markdown",
   "id": "48430742-7d1c-4ffd-97db-416225052ef4",
   "metadata": {},
   "source": [
    "Ex35"
   ]
  },
  {
   "cell_type": "code",
   "execution_count": 114,
   "id": "c0a9a925-8743-4483-aa2e-c9506bd793e6",
   "metadata": {},
   "outputs": [
    {
     "name": "stdout",
     "output_type": "stream",
     "text": [
      "['apple', 'banana', 'cherry', 'orange']\n"
     ]
    }
   ],
   "source": [
    "thislist = [\"apple\", \"banana\", \"cherry\"]\n",
    "thislist.append(\"orange\")\n",
    "print(thislist)"
   ]
  },
  {
   "cell_type": "markdown",
   "id": "0533814b-c9ab-491a-ab0f-be18fe548c95",
   "metadata": {},
   "source": [
    "Ex36"
   ]
  },
  {
   "cell_type": "code",
   "execution_count": 117,
   "id": "26d42a1c-4efa-4b8d-b48c-9ad59d21cf94",
   "metadata": {},
   "outputs": [
    {
     "name": "stdout",
     "output_type": "stream",
     "text": [
      "['apple', 'orange', 'banana', 'cherry']\n"
     ]
    }
   ],
   "source": [
    "thislist = [\"apple\", \"banana\", \"cherry\"]\n",
    "thislist.insert(1, \"orange\")\n",
    "print(thislist)"
   ]
  },
  {
   "cell_type": "markdown",
   "id": "81cb82c2-427d-4c92-864f-b04d3003c0af",
   "metadata": {},
   "source": [
    "Ex37"
   ]
  },
  {
   "cell_type": "code",
   "execution_count": 120,
   "id": "875dbc13-714f-43fa-8428-37d90cb6f72e",
   "metadata": {},
   "outputs": [
    {
     "name": "stdout",
     "output_type": "stream",
     "text": [
      "['apple', 'banana', 'cherry', 'mango', 'pineapple', 'papaya']\n"
     ]
    }
   ],
   "source": [
    "thislist = [\"apple\", \"banana\", \"cherry\"]\n",
    "tropical = [\"mango\", \"pineapple\", \"papaya\"]\n",
    "thislist.extend(tropical)\n",
    "print(thislist)"
   ]
  },
  {
   "cell_type": "markdown",
   "id": "f29cd3a5-954b-4eca-badc-5f301d1ed211",
   "metadata": {},
   "source": [
    "Ex38"
   ]
  },
  {
   "cell_type": "code",
   "execution_count": 124,
   "id": "6ad69024-3684-4e6c-af62-1a7afb9f220f",
   "metadata": {},
   "outputs": [
    {
     "name": "stdout",
     "output_type": "stream",
     "text": [
      "['apple', 'banana', 'cherry', 'kiwi', 'orange']\n"
     ]
    }
   ],
   "source": [
    "thislist = [\"apple\", \"banana\", \"cherry\"]\n",
    "thistuple = (\"kiwi\", \"orange\")\n",
    "thislist.extend(thistuple)\n",
    "print(thislist)"
   ]
  },
  {
   "cell_type": "markdown",
   "id": "17925e72-3feb-4ce8-a3ca-a21499e0690e",
   "metadata": {},
   "source": [
    "Ex39"
   ]
  },
  {
   "cell_type": "code",
   "execution_count": 127,
   "id": "a976cf97-fabe-4f0d-89ba-35f1b2e9d83a",
   "metadata": {},
   "outputs": [
    {
     "name": "stdout",
     "output_type": "stream",
     "text": [
      "['apple', 'cherry']\n"
     ]
    }
   ],
   "source": [
    "thislist = [\"apple\", \"banana\", \"cherry\"]\n",
    "thislist.remove(\"banana\")\n",
    "print(thislist)"
   ]
  },
  {
   "cell_type": "markdown",
   "id": "82731c8e-4346-4a94-a490-2f153ba37da4",
   "metadata": {},
   "source": [
    "Ex40"
   ]
  },
  {
   "cell_type": "code",
   "execution_count": 130,
   "id": "d4774941-0565-4e96-9898-63ffa8513ec8",
   "metadata": {},
   "outputs": [
    {
     "name": "stdout",
     "output_type": "stream",
     "text": [
      "['apple', 'cherry', 'banana', 'kiwi']\n"
     ]
    }
   ],
   "source": [
    "thislist = [\"apple\", \"banana\", \"cherry\", \"banana\", \"kiwi\"]\n",
    "thislist.remove(\"banana\")\n",
    "print(thislist)"
   ]
  },
  {
   "cell_type": "markdown",
   "id": "fc406be8-eb91-4b9c-9981-30fa05612a30",
   "metadata": {},
   "source": [
    "Ex41"
   ]
  },
  {
   "cell_type": "code",
   "execution_count": 133,
   "id": "1ec3bf61-7f5b-43ac-9b90-185a0326d686",
   "metadata": {},
   "outputs": [
    {
     "name": "stdout",
     "output_type": "stream",
     "text": [
      "['apple', 'cherry']\n"
     ]
    }
   ],
   "source": [
    "thislist = [\"apple\", \"banana\", \"cherry\"]\n",
    "thislist.pop(1)\n",
    "print(thislist)"
   ]
  },
  {
   "cell_type": "markdown",
   "id": "59f00ea6-8232-4642-9a3e-236f2f7e9447",
   "metadata": {},
   "source": [
    "Ex42"
   ]
  },
  {
   "cell_type": "code",
   "execution_count": 136,
   "id": "c330e164-0163-44e1-8560-682901f74cd0",
   "metadata": {},
   "outputs": [
    {
     "name": "stdout",
     "output_type": "stream",
     "text": [
      "['apple', 'banana']\n"
     ]
    }
   ],
   "source": [
    "thislist = [\"apple\", \"banana\", \"cherry\"]\n",
    "thislist.pop()\n",
    "print(thislist)"
   ]
  },
  {
   "cell_type": "markdown",
   "id": "a1b5c3e3-c7d1-450c-8379-4a4f10d22e75",
   "metadata": {},
   "source": [
    "Ex43"
   ]
  },
  {
   "cell_type": "code",
   "execution_count": 139,
   "id": "a0d90036-f043-4329-895e-c0b32a64f0de",
   "metadata": {},
   "outputs": [
    {
     "name": "stdout",
     "output_type": "stream",
     "text": [
      "['banana', 'cherry']\n"
     ]
    }
   ],
   "source": [
    "thislist = [\"apple\", \"banana\", \"cherry\"]\n",
    "del thislist[0]\n",
    "print(thislist)"
   ]
  },
  {
   "cell_type": "markdown",
   "id": "adaf3b70-dadb-4051-9171-3ee540e957b7",
   "metadata": {},
   "source": [
    "Ex44"
   ]
  },
  {
   "cell_type": "code",
   "execution_count": 142,
   "id": "5440070e-e4db-46af-b592-2035abf2b09d",
   "metadata": {},
   "outputs": [],
   "source": [
    "thislist = [\"apple\", \"banana\", \"cherry\"]\n",
    "del thislist"
   ]
  },
  {
   "cell_type": "markdown",
   "id": "bb5665a6-e1c9-4040-8968-95d423bfc331",
   "metadata": {},
   "source": [
    "Ex45"
   ]
  },
  {
   "cell_type": "code",
   "execution_count": 145,
   "id": "802a1998-a135-4272-8a3b-c6cd99d0e788",
   "metadata": {},
   "outputs": [
    {
     "name": "stdout",
     "output_type": "stream",
     "text": [
      "[]\n"
     ]
    }
   ],
   "source": [
    "thislist = [\"apple\", \"banana\", \"cherry\"]\n",
    "thislist.clear()\n",
    "print(thislist)"
   ]
  },
  {
   "cell_type": "markdown",
   "id": "d22262f2-531a-40ff-b8f6-96a802974be9",
   "metadata": {},
   "source": [
    "Ex46"
   ]
  },
  {
   "cell_type": "code",
   "execution_count": 148,
   "id": "ec4bb664-c7c0-4b56-a365-efa2f458e616",
   "metadata": {},
   "outputs": [
    {
     "name": "stdout",
     "output_type": "stream",
     "text": [
      "apple\n",
      "banana\n",
      "cherry\n"
     ]
    }
   ],
   "source": [
    "thislist = [\"apple\", \"banana\", \"cherry\"]\n",
    "for x in thislist:\n",
    "  print(x)"
   ]
  },
  {
   "cell_type": "markdown",
   "id": "fef7531f-6f6d-4f5a-a1f3-8be949d9ecbe",
   "metadata": {},
   "source": [
    "Ex47"
   ]
  },
  {
   "cell_type": "code",
   "execution_count": 151,
   "id": "35431da4-c2c4-4dfd-8ec4-dc826e97f4aa",
   "metadata": {},
   "outputs": [
    {
     "name": "stdout",
     "output_type": "stream",
     "text": [
      "apple\n",
      "banana\n",
      "cherry\n"
     ]
    }
   ],
   "source": [
    "thislist = [\"apple\", \"banana\", \"cherry\"]\n",
    "for i in range(len(thislist)):\n",
    "  print(thislist[i])"
   ]
  },
  {
   "cell_type": "markdown",
   "id": "c45a3ece-bccf-4bf8-b50f-c7cbf481b02d",
   "metadata": {},
   "source": [
    "Ex48"
   ]
  },
  {
   "cell_type": "code",
   "execution_count": 155,
   "id": "a1a7a7f6-3dc4-41bd-acc7-c5e47aae056e",
   "metadata": {},
   "outputs": [
    {
     "name": "stdout",
     "output_type": "stream",
     "text": [
      "apple\n",
      "banana\n",
      "cherry\n"
     ]
    }
   ],
   "source": [
    "thislist = [\"apple\", \"banana\", \"cherry\"]\n",
    "i = 0\n",
    "while i < len(thislist):\n",
    "  print(thislist[i])\n",
    "  i = i + 1"
   ]
  },
  {
   "cell_type": "markdown",
   "id": "c90e5da2-310f-40a6-a5bc-6968e5cc2acb",
   "metadata": {},
   "source": [
    "Ex49"
   ]
  },
  {
   "cell_type": "code",
   "execution_count": 159,
   "id": "7c3817f5-eb07-4e45-93cd-943f7b44f357",
   "metadata": {},
   "outputs": [
    {
     "name": "stdout",
     "output_type": "stream",
     "text": [
      "apple\n",
      "banana\n",
      "cherry\n"
     ]
    },
    {
     "data": {
      "text/plain": [
       "[None, None, None]"
      ]
     },
     "execution_count": 159,
     "metadata": {},
     "output_type": "execute_result"
    }
   ],
   "source": [
    "thislist = [\"apple\", \"banana\", \"cherry\"]\n",
    "[print(x) for x in thislist]"
   ]
  },
  {
   "cell_type": "markdown",
   "id": "ac3a9e01-67c1-42d2-a897-0179fed8764b",
   "metadata": {},
   "source": [
    "Ex50"
   ]
  },
  {
   "cell_type": "code",
   "execution_count": 162,
   "id": "c55f02e3-14f0-4d09-a2c1-00908c3646b4",
   "metadata": {},
   "outputs": [
    {
     "name": "stdout",
     "output_type": "stream",
     "text": [
      "['apple', 'banana', 'mango']\n"
     ]
    }
   ],
   "source": [
    "fruits = [\"apple\", \"banana\", \"cherry\", \"kiwi\", \"mango\"]\n",
    "newlist = []\n",
    "\n",
    "for x in fruits:\n",
    "  if \"a\" in x:\n",
    "    newlist.append(x)\n",
    "\n",
    "print(newlist)"
   ]
  },
  {
   "cell_type": "markdown",
   "id": "90b9c476-4e0f-492a-901d-9c99886ff6fa",
   "metadata": {},
   "source": [
    "Ex51"
   ]
  },
  {
   "cell_type": "code",
   "execution_count": 165,
   "id": "ccf970c2-3e3e-4741-9e9d-0497530eb378",
   "metadata": {},
   "outputs": [
    {
     "name": "stdout",
     "output_type": "stream",
     "text": [
      "['apple', 'banana', 'mango']\n"
     ]
    }
   ],
   "source": [
    "fruits = [\"apple\", \"banana\", \"cherry\", \"kiwi\", \"mango\"]\n",
    "\n",
    "newlist = [x for x in fruits if \"a\" in x]\n",
    "\n",
    "print(newlist)"
   ]
  },
  {
   "cell_type": "markdown",
   "id": "e1a68faf-58b5-4a72-9ad1-9be7df10d050",
   "metadata": {},
   "source": [
    "Ex52"
   ]
  },
  {
   "cell_type": "code",
   "execution_count": 168,
   "id": "7dfa0b4a-382d-492e-88bf-6eecafa76d13",
   "metadata": {},
   "outputs": [],
   "source": [
    "newlist = [x for x in fruits if x != \"apple\"]"
   ]
  },
  {
   "cell_type": "markdown",
   "id": "55caac73-1f28-4be8-a016-0f9e742bdfd5",
   "metadata": {},
   "source": [
    "Ex53"
   ]
  },
  {
   "cell_type": "code",
   "execution_count": 171,
   "id": "e6eb56ea-541b-4352-837a-9c762e9bd561",
   "metadata": {},
   "outputs": [],
   "source": [
    "newlist = [x for x in fruits]"
   ]
  },
  {
   "cell_type": "markdown",
   "id": "75b0246d-e8cc-41ce-9203-793404a04e97",
   "metadata": {},
   "source": [
    "Ex54"
   ]
  },
  {
   "cell_type": "code",
   "execution_count": 176,
   "id": "3faa28b0-d383-4e03-9e7d-52f3d3f2e6f7",
   "metadata": {},
   "outputs": [],
   "source": [
    "newlist = [x for x in range(10)]"
   ]
  },
  {
   "cell_type": "markdown",
   "id": "4afcdcef-833d-4c04-a06a-851bc3feda97",
   "metadata": {},
   "source": [
    "Ex55"
   ]
  },
  {
   "cell_type": "code",
   "execution_count": 181,
   "id": "b442ceb9-0f03-4f54-a38b-25c4b0f31dd7",
   "metadata": {},
   "outputs": [],
   "source": [
    "newlist = [x for x in range(10) if x < 5]"
   ]
  },
  {
   "cell_type": "markdown",
   "id": "4d3ce892-e8f0-4e3c-9f7e-fb0628f8fdd9",
   "metadata": {},
   "source": [
    "Ex56"
   ]
  },
  {
   "cell_type": "code",
   "execution_count": 184,
   "id": "460a2f2f-73e4-4722-99db-7c3ffbd82e3f",
   "metadata": {},
   "outputs": [],
   "source": [
    "newlist = [x.upper() for x in fruits]"
   ]
  },
  {
   "cell_type": "markdown",
   "id": "1bf75d23-d76a-4606-a313-f60e886b39f2",
   "metadata": {},
   "source": [
    "Ex57"
   ]
  },
  {
   "cell_type": "code",
   "execution_count": 187,
   "id": "e796c4c5-bb0d-477f-896a-047fe3ce6d6b",
   "metadata": {},
   "outputs": [],
   "source": [
    "newlist = ['hello' for x in fruits]"
   ]
  },
  {
   "cell_type": "markdown",
   "id": "34e1f919-69f4-44c9-b9ca-d60eee30469c",
   "metadata": {},
   "source": [
    "Ex58"
   ]
  },
  {
   "cell_type": "code",
   "execution_count": 190,
   "id": "387585eb-0ab5-4363-a7f8-a7d404106bda",
   "metadata": {},
   "outputs": [],
   "source": [
    "newlist = [x if x != \"banana\" else \"orange\" for x in fruits]"
   ]
  },
  {
   "cell_type": "markdown",
   "id": "3bde898f-9467-4a50-aa52-41fb63f28a21",
   "metadata": {},
   "source": [
    "Ex59"
   ]
  },
  {
   "cell_type": "code",
   "execution_count": 193,
   "id": "60968565-5688-4505-9313-ecb1074f8251",
   "metadata": {},
   "outputs": [
    {
     "name": "stdout",
     "output_type": "stream",
     "text": [
      "['banana', 'kiwi', 'mango', 'orange', 'pineapple']\n"
     ]
    }
   ],
   "source": [
    "thislist = [\"orange\", \"mango\", \"kiwi\", \"pineapple\", \"banana\"]\n",
    "thislist.sort()\n",
    "print(thislist)"
   ]
  },
  {
   "cell_type": "markdown",
   "id": "962b9654-a1fe-43a9-ab6f-29056da8497d",
   "metadata": {},
   "source": [
    "Ex60"
   ]
  },
  {
   "cell_type": "code",
   "execution_count": 197,
   "id": "f4fe0de7-f9bf-4cb5-98c9-3b94fb9d98f3",
   "metadata": {},
   "outputs": [
    {
     "name": "stdout",
     "output_type": "stream",
     "text": [
      "[23, 50, 65, 82, 100]\n"
     ]
    }
   ],
   "source": [
    "thislist = [100, 50, 65, 82, 23]\n",
    "thislist.sort()\n",
    "print(thislist)"
   ]
  },
  {
   "cell_type": "markdown",
   "id": "34060c03-e349-4516-ae39-2264aad4dd8b",
   "metadata": {},
   "source": [
    "Ex61"
   ]
  },
  {
   "cell_type": "code",
   "execution_count": 200,
   "id": "03b37b02-053f-45de-8e11-daf37dd98a35",
   "metadata": {},
   "outputs": [
    {
     "name": "stdout",
     "output_type": "stream",
     "text": [
      "['pineapple', 'orange', 'mango', 'kiwi', 'banana']\n"
     ]
    }
   ],
   "source": [
    "thislist = [\"orange\", \"mango\", \"kiwi\", \"pineapple\", \"banana\"]\n",
    "thislist.sort(reverse = True)\n",
    "print(thislist)"
   ]
  },
  {
   "cell_type": "markdown",
   "id": "21a26f68-cce1-43f8-a85e-8fa9bd72ac94",
   "metadata": {},
   "source": [
    "Ex62"
   ]
  },
  {
   "cell_type": "code",
   "execution_count": 203,
   "id": "143cec47-dd96-4ed8-8e4a-3bb660c7e7fa",
   "metadata": {},
   "outputs": [
    {
     "name": "stdout",
     "output_type": "stream",
     "text": [
      "[100, 82, 65, 50, 23]\n"
     ]
    }
   ],
   "source": [
    "thislist = [100, 50, 65, 82, 23]\n",
    "thislist.sort(reverse = True)\n",
    "print(thislist)"
   ]
  },
  {
   "cell_type": "markdown",
   "id": "0b58757b-7954-4954-ab0c-0e1f4b169ebd",
   "metadata": {},
   "source": [
    "Ex63"
   ]
  },
  {
   "cell_type": "code",
   "execution_count": 206,
   "id": "bac6d8ef-91d0-419f-b652-e21ed1f02238",
   "metadata": {},
   "outputs": [
    {
     "name": "stdout",
     "output_type": "stream",
     "text": [
      "[50, 65, 23, 82, 100]\n"
     ]
    }
   ],
   "source": [
    "def myfunc(n):\n",
    "  return abs(n - 50)\n",
    "\n",
    "thislist = [100, 50, 65, 82, 23]\n",
    "thislist.sort(key = myfunc)\n",
    "print(thislist)"
   ]
  },
  {
   "cell_type": "markdown",
   "id": "12864463-9376-48c6-8c55-0a401882a196",
   "metadata": {},
   "source": [
    "Ex64"
   ]
  },
  {
   "cell_type": "code",
   "execution_count": 209,
   "id": "e89774a3-0dcf-4a16-999a-a087a86a9408",
   "metadata": {},
   "outputs": [
    {
     "name": "stdout",
     "output_type": "stream",
     "text": [
      "['Kiwi', 'Orange', 'banana', 'cherry']\n"
     ]
    }
   ],
   "source": [
    "thislist = [\"banana\", \"Orange\", \"Kiwi\", \"cherry\"]\n",
    "thislist.sort()\n",
    "print(thislist)"
   ]
  },
  {
   "cell_type": "markdown",
   "id": "1eb48fbc-5d8b-489b-923a-ac38c9832e2a",
   "metadata": {},
   "source": [
    "Ex65"
   ]
  },
  {
   "cell_type": "code",
   "execution_count": 212,
   "id": "d3ea9916-fabe-4ad2-a989-ec2ef2a69fe9",
   "metadata": {},
   "outputs": [
    {
     "name": "stdout",
     "output_type": "stream",
     "text": [
      "['banana', 'cherry', 'Kiwi', 'Orange']\n"
     ]
    }
   ],
   "source": [
    "thislist = [\"banana\", \"Orange\", \"Kiwi\", \"cherry\"]\n",
    "thislist.sort(key = str.lower)\n",
    "print(thislist)"
   ]
  },
  {
   "cell_type": "markdown",
   "id": "5602e7cf-ee33-47bb-aa71-abc50aa68e67",
   "metadata": {},
   "source": [
    "Ex66"
   ]
  },
  {
   "cell_type": "code",
   "execution_count": 215,
   "id": "7eea87ff-988c-4909-9a56-d1ad2e160f83",
   "metadata": {},
   "outputs": [
    {
     "name": "stdout",
     "output_type": "stream",
     "text": [
      "['cherry', 'Kiwi', 'Orange', 'banana']\n"
     ]
    }
   ],
   "source": [
    "thislist = [\"banana\", \"Orange\", \"Kiwi\", \"cherry\"]\n",
    "thislist.reverse()\n",
    "print(thislist)"
   ]
  },
  {
   "cell_type": "markdown",
   "id": "e7f6e587-9742-46c4-aa17-595e9fe16552",
   "metadata": {},
   "source": [
    "Ex67"
   ]
  },
  {
   "cell_type": "code",
   "execution_count": 219,
   "id": "c1d5d665-257c-4cca-b263-cf866c3385d2",
   "metadata": {},
   "outputs": [
    {
     "name": "stdout",
     "output_type": "stream",
     "text": [
      "['apple', 'banana', 'cherry']\n"
     ]
    }
   ],
   "source": [
    "thislist = [\"apple\", \"banana\", \"cherry\"]\n",
    "mylist = thislist.copy()\n",
    "print(mylist)"
   ]
  },
  {
   "cell_type": "markdown",
   "id": "e0278582-29cc-4b21-b75d-ee57533525b7",
   "metadata": {},
   "source": [
    "Ex68"
   ]
  },
  {
   "cell_type": "code",
   "execution_count": 222,
   "id": "476a2d11-3a7a-4e8a-9c25-a2184866ee59",
   "metadata": {},
   "outputs": [
    {
     "name": "stdout",
     "output_type": "stream",
     "text": [
      "['apple', 'banana', 'cherry']\n"
     ]
    }
   ],
   "source": [
    "thislist = [\"apple\", \"banana\", \"cherry\"]\n",
    "mylist = list(thislist)\n",
    "print(mylist)"
   ]
  },
  {
   "cell_type": "markdown",
   "id": "55c17e3e-f0ca-41f0-9f32-f752badd85c7",
   "metadata": {},
   "source": [
    "Ex69"
   ]
  },
  {
   "cell_type": "code",
   "execution_count": 225,
   "id": "50e88c5e-d3f7-4a32-b2c7-37ad7eb56acf",
   "metadata": {},
   "outputs": [
    {
     "name": "stdout",
     "output_type": "stream",
     "text": [
      "['apple', 'banana', 'cherry']\n"
     ]
    }
   ],
   "source": [
    "thislist = [\"apple\", \"banana\", \"cherry\"]\n",
    "mylist = thislist[:]\n",
    "print(mylist)"
   ]
  },
  {
   "cell_type": "markdown",
   "id": "65a373f0-e070-4f9e-adcf-4f042bcc23f1",
   "metadata": {},
   "source": [
    "Ex70"
   ]
  },
  {
   "cell_type": "code",
   "execution_count": 228,
   "id": "6cc6d90a-5b72-4706-be88-b25aa2ecc9a2",
   "metadata": {},
   "outputs": [
    {
     "name": "stdout",
     "output_type": "stream",
     "text": [
      "['a', 'b', 'c', 1, 2, 3]\n"
     ]
    }
   ],
   "source": [
    "list1 = [\"a\", \"b\", \"c\"]\n",
    "list2 = [1, 2, 3]\n",
    "\n",
    "list3 = list1 + list2\n",
    "print(list3)"
   ]
  },
  {
   "cell_type": "markdown",
   "id": "038b17d5-da90-43c7-996a-e9ff4b760538",
   "metadata": {},
   "source": [
    "Ex71"
   ]
  },
  {
   "cell_type": "code",
   "execution_count": 231,
   "id": "a97cfd3d-5fe5-4038-982f-1a61fe017190",
   "metadata": {},
   "outputs": [
    {
     "name": "stdout",
     "output_type": "stream",
     "text": [
      "['a', 'b', 'c', 1, 2, 3]\n"
     ]
    }
   ],
   "source": [
    "list1 = [\"a\", \"b\" , \"c\"]\n",
    "list2 = [1, 2, 3]\n",
    "\n",
    "for x in list2:\n",
    "  list1.append(x)\n",
    "\n",
    "print(list1)"
   ]
  },
  {
   "cell_type": "markdown",
   "id": "23817d30-e30c-429a-b649-712adf24fb6d",
   "metadata": {},
   "source": [
    "Ex72"
   ]
  },
  {
   "cell_type": "code",
   "execution_count": 234,
   "id": "a4d7dd7b-885e-4746-856e-d1330b792e84",
   "metadata": {},
   "outputs": [
    {
     "name": "stdout",
     "output_type": "stream",
     "text": [
      "['a', 'b', 'c', 1, 2, 3]\n"
     ]
    }
   ],
   "source": [
    "list1 = [\"a\", \"b\" , \"c\"]\n",
    "list2 = [1, 2, 3]\n",
    "\n",
    "list1.extend(list2)\n",
    "print(list1)"
   ]
  },
  {
   "cell_type": "markdown",
   "id": "c9ef9882-1e20-4615-8716-3a211b4ee4bc",
   "metadata": {},
   "source": [
    "Ex73"
   ]
  },
  {
   "cell_type": "code",
   "execution_count": 237,
   "id": "43068f8e-ae19-47be-8a32-0444012cc473",
   "metadata": {},
   "outputs": [
    {
     "name": "stdout",
     "output_type": "stream",
     "text": [
      "('apple', 'banana', 'cherry')\n"
     ]
    }
   ],
   "source": [
    "thistuple = (\"apple\", \"banana\", \"cherry\")\n",
    "print(thistuple)"
   ]
  },
  {
   "cell_type": "markdown",
   "id": "00839dfd-40b0-49aa-8b96-11d12a3d4a78",
   "metadata": {},
   "source": [
    "Ex74"
   ]
  },
  {
   "cell_type": "code",
   "execution_count": 240,
   "id": "ee2b28d2-bb4f-498c-a3ff-652483bf0337",
   "metadata": {},
   "outputs": [
    {
     "name": "stdout",
     "output_type": "stream",
     "text": [
      "('apple', 'banana', 'cherry', 'apple', 'cherry')\n"
     ]
    }
   ],
   "source": [
    "thistuple = (\"apple\", \"banana\", \"cherry\", \"apple\", \"cherry\")\n",
    "print(thistuple)"
   ]
  },
  {
   "cell_type": "markdown",
   "id": "b0b29897-5ab6-44a8-ad0a-7ce699e412c0",
   "metadata": {},
   "source": [
    "Ex75"
   ]
  },
  {
   "cell_type": "code",
   "execution_count": 243,
   "id": "35767738-4062-42ab-9afd-1403320888d7",
   "metadata": {},
   "outputs": [
    {
     "name": "stdout",
     "output_type": "stream",
     "text": [
      "3\n"
     ]
    }
   ],
   "source": [
    "thistuple = (\"apple\", \"banana\", \"cherry\")\n",
    "print(len(thistuple))"
   ]
  },
  {
   "cell_type": "markdown",
   "id": "a5e3d8c2-2667-48f7-98a3-ecb931fe40be",
   "metadata": {},
   "source": [
    "Ex76"
   ]
  },
  {
   "cell_type": "code",
   "execution_count": 655,
   "id": "c5b1300c-ccfe-42ef-ab82-6906464b02c3",
   "metadata": {},
   "outputs": [
    {
     "name": "stdout",
     "output_type": "stream",
     "text": [
      "<class 'tuple'>\n",
      "<class 'str'>\n"
     ]
    }
   ],
   "source": [
    "thistuple = (\"apple\",)\n",
    "print(type(thistuple))\n",
    "thistuple = (\"apple\")\n",
    "print(type(thistuple))"
   ]
  },
  {
   "cell_type": "markdown",
   "id": "1c53501a-777d-440d-9cc6-5fffe82b22ce",
   "metadata": {},
   "source": [
    "Ex77"
   ]
  },
  {
   "cell_type": "code",
   "execution_count": 249,
   "id": "f833ea06-7851-4c49-b88d-59ebce0e2f19",
   "metadata": {},
   "outputs": [],
   "source": [
    "tuple1 = (\"apple\", \"banana\", \"cherry\")\n",
    "tuple2 = (1, 5, 7, 9, 3)\n",
    "tuple3 = (True, False, False)"
   ]
  },
  {
   "cell_type": "markdown",
   "id": "870cf970-ff35-4bab-b88f-c37db7eef350",
   "metadata": {},
   "source": [
    "Ex78"
   ]
  },
  {
   "cell_type": "code",
   "execution_count": 257,
   "id": "a0ddbcb7-ea08-4ce8-8c30-8ab68edc7c73",
   "metadata": {},
   "outputs": [],
   "source": [
    "tuple1 = (\"abc\", 34, True, 40, \"male\")"
   ]
  },
  {
   "cell_type": "markdown",
   "id": "35d063c9-986d-49b9-9fde-36d3c833efde",
   "metadata": {},
   "source": [
    "Ex79"
   ]
  },
  {
   "cell_type": "code",
   "execution_count": 260,
   "id": "34b2cf11-5302-4b18-998b-27bbe4e6758b",
   "metadata": {},
   "outputs": [
    {
     "name": "stdout",
     "output_type": "stream",
     "text": [
      "<class 'tuple'>\n"
     ]
    }
   ],
   "source": [
    "mytuple = (\"apple\", \"banana\", \"cherry\")\n",
    "print(type(mytuple))"
   ]
  },
  {
   "cell_type": "markdown",
   "id": "e6226548-d5ed-4f8c-997b-d35d2ad19c9a",
   "metadata": {},
   "source": [
    "Ex80"
   ]
  },
  {
   "cell_type": "code",
   "execution_count": 263,
   "id": "06807c28-a8bb-4fce-910d-0f2cb669a410",
   "metadata": {},
   "outputs": [
    {
     "name": "stdout",
     "output_type": "stream",
     "text": [
      "('apple', 'banana', 'cherry')\n"
     ]
    }
   ],
   "source": [
    "thistuple = tuple((\"apple\", \"banana\", \"cherry\"))\n",
    "print(thistuple)"
   ]
  },
  {
   "cell_type": "markdown",
   "id": "c558b76d-9de8-4f60-8e0e-271774636804",
   "metadata": {},
   "source": [
    "Ex81"
   ]
  },
  {
   "cell_type": "code",
   "execution_count": 266,
   "id": "d962ded7-dfe5-4286-a843-bb8b8aee68f9",
   "metadata": {},
   "outputs": [
    {
     "name": "stdout",
     "output_type": "stream",
     "text": [
      "banana\n"
     ]
    }
   ],
   "source": [
    "thistuple = (\"apple\", \"banana\", \"cherry\")\n",
    "print(thistuple[1])"
   ]
  },
  {
   "cell_type": "markdown",
   "id": "b11291a5-721d-4908-9236-32116a9d2daf",
   "metadata": {},
   "source": [
    "Ex82"
   ]
  },
  {
   "cell_type": "code",
   "execution_count": 269,
   "id": "236191ef-7227-494c-901e-3b0b28bffb57",
   "metadata": {},
   "outputs": [
    {
     "name": "stdout",
     "output_type": "stream",
     "text": [
      "cherry\n"
     ]
    }
   ],
   "source": [
    "thistuple = (\"apple\", \"banana\", \"cherry\")\n",
    "print(thistuple[-1])"
   ]
  },
  {
   "cell_type": "markdown",
   "id": "2b7bd0ca-7d34-4043-93c6-b6da5f8f666c",
   "metadata": {},
   "source": [
    "Ex83"
   ]
  },
  {
   "cell_type": "code",
   "execution_count": 272,
   "id": "0958fc5d-c805-4bdf-a49e-a55b7de297dd",
   "metadata": {},
   "outputs": [
    {
     "name": "stdout",
     "output_type": "stream",
     "text": [
      "('cherry', 'orange', 'kiwi')\n"
     ]
    }
   ],
   "source": [
    "thistuple = (\"apple\", \"banana\", \"cherry\", \"orange\", \"kiwi\", \"melon\", \"mango\")\n",
    "print(thistuple[2:5])"
   ]
  },
  {
   "cell_type": "markdown",
   "id": "61a1897c-db4b-4d2f-87be-2436f4db1880",
   "metadata": {},
   "source": [
    "Ex84"
   ]
  },
  {
   "cell_type": "code",
   "execution_count": 275,
   "id": "5542912b-3948-4331-93f4-1542e2d2dd21",
   "metadata": {},
   "outputs": [
    {
     "name": "stdout",
     "output_type": "stream",
     "text": [
      "('apple', 'banana', 'cherry', 'orange')\n"
     ]
    }
   ],
   "source": [
    "thistuple = (\"apple\", \"banana\", \"cherry\", \"orange\", \"kiwi\", \"melon\", \"mango\")\n",
    "print(thistuple[:4])"
   ]
  },
  {
   "cell_type": "markdown",
   "id": "afdc3136-bb2f-44e7-b7ea-7588c93c04c5",
   "metadata": {},
   "source": [
    "Ex85"
   ]
  },
  {
   "cell_type": "code",
   "execution_count": 278,
   "id": "96cd7495-438f-4bc1-88c7-1fd39429a081",
   "metadata": {},
   "outputs": [
    {
     "name": "stdout",
     "output_type": "stream",
     "text": [
      "('cherry', 'orange', 'kiwi', 'melon', 'mango')\n"
     ]
    }
   ],
   "source": [
    "thistuple = (\"apple\", \"banana\", \"cherry\", \"orange\", \"kiwi\", \"melon\", \"mango\")\n",
    "print(thistuple[2:])"
   ]
  },
  {
   "cell_type": "markdown",
   "id": "52046dfe-b989-476a-bb25-a10924bab495",
   "metadata": {},
   "source": [
    "Ex86"
   ]
  },
  {
   "cell_type": "code",
   "execution_count": 281,
   "id": "8b6e6a1c-f6d3-418c-9a9d-7f2247b9e0c4",
   "metadata": {},
   "outputs": [
    {
     "name": "stdout",
     "output_type": "stream",
     "text": [
      "('orange', 'kiwi', 'melon')\n"
     ]
    }
   ],
   "source": [
    "thistuple = (\"apple\", \"banana\", \"cherry\", \"orange\", \"kiwi\", \"melon\", \"mango\")\n",
    "print(thistuple[-4:-1])"
   ]
  },
  {
   "cell_type": "markdown",
   "id": "7ad36855-2cad-40ff-a078-307d8ec81e09",
   "metadata": {},
   "source": [
    "Ex87"
   ]
  },
  {
   "cell_type": "code",
   "execution_count": 284,
   "id": "df100d72-2f95-4386-8e87-8677373dba64",
   "metadata": {},
   "outputs": [
    {
     "name": "stdout",
     "output_type": "stream",
     "text": [
      "Yes, 'apple' is in the fruits tuple\n"
     ]
    }
   ],
   "source": [
    "thistuple = (\"apple\", \"banana\", \"cherry\")\n",
    "if \"apple\" in thistuple:\n",
    "  print(\"Yes, 'apple' is in the fruits tuple\")"
   ]
  },
  {
   "cell_type": "markdown",
   "id": "dab8ca68-885d-4da1-9bf0-638c065fe9be",
   "metadata": {},
   "source": [
    "Ex88"
   ]
  },
  {
   "cell_type": "code",
   "execution_count": 287,
   "id": "acb4975b-3223-4f0c-bb32-1d80f6a92d7e",
   "metadata": {},
   "outputs": [
    {
     "name": "stdout",
     "output_type": "stream",
     "text": [
      "('apple', 'kiwi', 'cherry')\n"
     ]
    }
   ],
   "source": [
    "x = (\"apple\", \"banana\", \"cherry\")\n",
    "y = list(x)\n",
    "y[1] = \"kiwi\"\n",
    "x = tuple(y)\n",
    "\n",
    "print(x)"
   ]
  },
  {
   "cell_type": "markdown",
   "id": "bfb17cd8-3f9c-4029-909d-c281e20932b3",
   "metadata": {},
   "source": [
    "Ex89"
   ]
  },
  {
   "cell_type": "code",
   "execution_count": 290,
   "id": "af1f1d42-2c0e-43da-bded-e852c8b8d931",
   "metadata": {},
   "outputs": [],
   "source": [
    "thistuple = (\"apple\", \"banana\", \"cherry\")\n",
    "y = list(thistuple)\n",
    "y.append(\"orange\")\n",
    "thistuple = tuple(y)"
   ]
  },
  {
   "cell_type": "markdown",
   "id": "a61c0738-9ab5-4deb-96b7-fe8e6db38fb5",
   "metadata": {},
   "source": [
    "Ex90"
   ]
  },
  {
   "cell_type": "code",
   "execution_count": 293,
   "id": "efa85eed-b7ca-48a5-b7a5-cfb1511c17d6",
   "metadata": {},
   "outputs": [
    {
     "name": "stdout",
     "output_type": "stream",
     "text": [
      "('apple', 'banana', 'cherry', 'orange')\n"
     ]
    }
   ],
   "source": [
    "thistuple = (\"apple\", \"banana\", \"cherry\")\n",
    "y = (\"orange\",)\n",
    "thistuple += y\n",
    "\n",
    "print(thistuple)"
   ]
  },
  {
   "cell_type": "markdown",
   "id": "aae9f2c4-15eb-4d04-a1d7-208eb9b13f1f",
   "metadata": {},
   "source": [
    "Ex91"
   ]
  },
  {
   "cell_type": "code",
   "execution_count": 296,
   "id": "3178ef61-c25e-4155-a7fb-47676dcc2dcb",
   "metadata": {},
   "outputs": [],
   "source": [
    "thistuple = (\"apple\", \"banana\", \"cherry\")\n",
    "y = list(thistuple)\n",
    "y.remove(\"apple\")\n",
    "thistuple = tuple(y)"
   ]
  },
  {
   "cell_type": "markdown",
   "id": "a8cd7ebc-12f2-4015-a269-cd60bf6f91df",
   "metadata": {},
   "source": [
    "Ex92"
   ]
  },
  {
   "cell_type": "code",
   "execution_count": 653,
   "id": "8b4a7683-ea7c-41e4-801b-c3417f57540f",
   "metadata": {},
   "outputs": [
    {
     "name": "stdout",
     "output_type": "stream",
     "text": [
      "('apple', 'banana', 'cherry')\n"
     ]
    }
   ],
   "source": [
    "thistuple = (\"apple\", \"banana\", \"cherry\")\n",
    "print(thistuple)"
   ]
  },
  {
   "cell_type": "markdown",
   "id": "1ce74ce2-172c-45d0-864e-a8f7d3b1590f",
   "metadata": {},
   "source": [
    "Ex93"
   ]
  },
  {
   "cell_type": "code",
   "execution_count": 304,
   "id": "b1db936f-80b2-4df1-b392-ea0e2072f0fc",
   "metadata": {},
   "outputs": [],
   "source": [
    "fruits = (\"apple\", \"banana\", \"cherry\")"
   ]
  },
  {
   "cell_type": "markdown",
   "id": "49bbe3fb-380d-4185-9267-b3de9954dabf",
   "metadata": {},
   "source": [
    "Ex94"
   ]
  },
  {
   "cell_type": "code",
   "execution_count": 307,
   "id": "182985b9-c11a-4ddf-97d4-af6991536343",
   "metadata": {},
   "outputs": [
    {
     "name": "stdout",
     "output_type": "stream",
     "text": [
      "apple\n",
      "banana\n",
      "cherry\n"
     ]
    }
   ],
   "source": [
    "fruits = (\"apple\", \"banana\", \"cherry\")\n",
    "\n",
    "(green, yellow, red) = fruits\n",
    "\n",
    "print(green)\n",
    "print(yellow)\n",
    "print(red)"
   ]
  },
  {
   "cell_type": "markdown",
   "id": "aaf4f815-460c-493c-9856-2e861af76e9f",
   "metadata": {},
   "source": [
    "Ex95"
   ]
  },
  {
   "cell_type": "code",
   "execution_count": 310,
   "id": "26b23d92-aa09-4cf9-8d48-f9cac4f877bf",
   "metadata": {},
   "outputs": [
    {
     "name": "stdout",
     "output_type": "stream",
     "text": [
      "apple\n",
      "banana\n",
      "['cherry', 'strawberry', 'raspberry']\n"
     ]
    }
   ],
   "source": [
    "fruits = (\"apple\", \"banana\", \"cherry\", \"strawberry\", \"raspberry\")\n",
    "\n",
    "(green, yellow, *red) = fruits\n",
    "\n",
    "print(green)\n",
    "print(yellow)\n",
    "print(red)"
   ]
  },
  {
   "cell_type": "markdown",
   "id": "81d5b2d3-246f-463f-b794-f40fc9e73087",
   "metadata": {},
   "source": [
    "Ex96"
   ]
  },
  {
   "cell_type": "code",
   "execution_count": 313,
   "id": "22fdcb5f-bf30-4987-b3ad-9de18400bfb6",
   "metadata": {},
   "outputs": [
    {
     "name": "stdout",
     "output_type": "stream",
     "text": [
      "apple\n",
      "['mango', 'papaya', 'pineapple']\n",
      "cherry\n"
     ]
    }
   ],
   "source": [
    "fruits = (\"apple\", \"mango\", \"papaya\", \"pineapple\", \"cherry\")\n",
    "\n",
    "(green, *tropic, red) = fruits\n",
    "\n",
    "print(green)\n",
    "print(tropic)\n",
    "print(red)"
   ]
  },
  {
   "cell_type": "markdown",
   "id": "bb61fcc9-19df-4ba1-8cfd-3e0a51774bce",
   "metadata": {},
   "source": [
    "Ex97"
   ]
  },
  {
   "cell_type": "code",
   "execution_count": 316,
   "id": "21dffc95-8370-490c-996d-0b861fc9678f",
   "metadata": {},
   "outputs": [
    {
     "name": "stdout",
     "output_type": "stream",
     "text": [
      "apple\n",
      "banana\n",
      "cherry\n"
     ]
    }
   ],
   "source": [
    "thistuple = (\"apple\", \"banana\", \"cherry\")\n",
    "for x in thistuple:\n",
    "  print(x)"
   ]
  },
  {
   "cell_type": "markdown",
   "id": "76da324d-a34c-4045-9575-a9b60cc787a0",
   "metadata": {},
   "source": [
    "Ex98"
   ]
  },
  {
   "cell_type": "code",
   "execution_count": 319,
   "id": "f664c270-99b9-441e-8255-41254f6983cc",
   "metadata": {},
   "outputs": [
    {
     "name": "stdout",
     "output_type": "stream",
     "text": [
      "apple\n",
      "banana\n",
      "cherry\n"
     ]
    }
   ],
   "source": [
    "thistuple = (\"apple\", \"banana\", \"cherry\")\n",
    "for i in range(len(thistuple)):\n",
    "  print(thistuple[i])"
   ]
  },
  {
   "cell_type": "markdown",
   "id": "bb7f58db-f219-4afc-80ce-83c20b5b2e26",
   "metadata": {},
   "source": [
    "Ex99"
   ]
  },
  {
   "cell_type": "code",
   "execution_count": 322,
   "id": "40c96f51-045c-479e-97a9-d12df4ac39d0",
   "metadata": {},
   "outputs": [
    {
     "name": "stdout",
     "output_type": "stream",
     "text": [
      "apple\n",
      "banana\n",
      "cherry\n"
     ]
    }
   ],
   "source": [
    "thistuple = (\"apple\", \"banana\", \"cherry\")\n",
    "i = 0\n",
    "while i < len(thistuple):\n",
    "  print(thistuple[i])\n",
    "  i = i + 1"
   ]
  },
  {
   "cell_type": "markdown",
   "id": "8aca612a-f8f2-4380-9cb2-f7059140792e",
   "metadata": {},
   "source": [
    "Ex100"
   ]
  },
  {
   "cell_type": "code",
   "execution_count": 325,
   "id": "8804ff94-8b95-4fbe-bdb7-c141c3269fd8",
   "metadata": {},
   "outputs": [
    {
     "name": "stdout",
     "output_type": "stream",
     "text": [
      "('a', 'b', 'c', 1, 2, 3)\n"
     ]
    }
   ],
   "source": [
    "tuple1 = (\"a\", \"b\" , \"c\")\n",
    "tuple2 = (1, 2, 3)\n",
    "\n",
    "tuple3 = tuple1 + tuple2\n",
    "print(tuple3)"
   ]
  },
  {
   "cell_type": "markdown",
   "id": "a08b65bc-10a2-473f-85a2-20712c94fc20",
   "metadata": {},
   "source": [
    "Ex101"
   ]
  },
  {
   "cell_type": "code",
   "execution_count": 328,
   "id": "dc24470d-989a-4b23-a507-fac5d10b24f7",
   "metadata": {},
   "outputs": [
    {
     "name": "stdout",
     "output_type": "stream",
     "text": [
      "('apple', 'banana', 'cherry', 'apple', 'banana', 'cherry')\n"
     ]
    }
   ],
   "source": [
    "fruits = (\"apple\", \"banana\", \"cherry\")\n",
    "mytuple = fruits * 2\n",
    "\n",
    "print(mytuple)"
   ]
  },
  {
   "cell_type": "markdown",
   "id": "314baea7-eec8-4574-bb89-1213d27df5c6",
   "metadata": {},
   "source": [
    "Ex102"
   ]
  },
  {
   "cell_type": "code",
   "execution_count": 331,
   "id": "d914be8f-2224-4439-b38e-1c29364b939b",
   "metadata": {},
   "outputs": [],
   "source": [
    "myset = {\"apple\", \"banana\", \"cherry\"}"
   ]
  },
  {
   "cell_type": "markdown",
   "id": "0620d6b3-0afb-4740-8263-dcc75c2c5d1b",
   "metadata": {},
   "source": [
    "Ex103"
   ]
  },
  {
   "cell_type": "code",
   "execution_count": 334,
   "id": "253129f5-4b11-47f7-9e12-fb2967b99e06",
   "metadata": {},
   "outputs": [
    {
     "name": "stdout",
     "output_type": "stream",
     "text": [
      "{'banana', 'cherry', 'apple'}\n"
     ]
    }
   ],
   "source": [
    "thisset = {\"apple\", \"banana\", \"cherry\"}\n",
    "print(thisset)"
   ]
  },
  {
   "cell_type": "markdown",
   "id": "2c9cb9ff-e1d5-4b12-8279-2c5a0f82b900",
   "metadata": {},
   "source": [
    "Ex104"
   ]
  },
  {
   "cell_type": "code",
   "execution_count": 337,
   "id": "fa80ccaf-3a3e-4d02-bc78-54563bba8530",
   "metadata": {},
   "outputs": [
    {
     "name": "stdout",
     "output_type": "stream",
     "text": [
      "{'banana', 'cherry', 'apple'}\n"
     ]
    }
   ],
   "source": [
    "thisset = {\"apple\", \"banana\", \"cherry\", \"apple\"}\n",
    "\n",
    "print(thisset)"
   ]
  },
  {
   "cell_type": "markdown",
   "id": "0eb4f42a-c9cb-4802-9e8a-7e3f4343b543",
   "metadata": {},
   "source": [
    "Ex105"
   ]
  },
  {
   "cell_type": "code",
   "execution_count": 340,
   "id": "63d7c6bd-4f4a-469d-8125-1b61d62e66f9",
   "metadata": {},
   "outputs": [
    {
     "name": "stdout",
     "output_type": "stream",
     "text": [
      "{'banana', True, 2, 'cherry', 'apple'}\n"
     ]
    }
   ],
   "source": [
    "thisset = {\"apple\", \"banana\", \"cherry\", True, 1, 2}\n",
    "\n",
    "print(thisset)"
   ]
  },
  {
   "cell_type": "markdown",
   "id": "79b64c8e-c4ef-4235-a3e4-c7e32a35321d",
   "metadata": {},
   "source": [
    "Ex106"
   ]
  },
  {
   "cell_type": "code",
   "execution_count": 343,
   "id": "897912f6-73b4-49a7-8279-abea3f79a6a9",
   "metadata": {},
   "outputs": [
    {
     "name": "stdout",
     "output_type": "stream",
     "text": [
      "{'banana', False, True, 'cherry', 'apple'}\n"
     ]
    }
   ],
   "source": [
    "thisset = {\"apple\", \"banana\", \"cherry\", False, True, 0}\n",
    "\n",
    "print(thisset)"
   ]
  },
  {
   "cell_type": "markdown",
   "id": "a8998544-3412-4649-acb6-3a2ca6449fea",
   "metadata": {},
   "source": [
    "Ex107"
   ]
  },
  {
   "cell_type": "code",
   "execution_count": 348,
   "id": "b2e1fc58-763f-4f21-ae46-49cca97437ee",
   "metadata": {},
   "outputs": [
    {
     "name": "stdout",
     "output_type": "stream",
     "text": [
      "3\n"
     ]
    }
   ],
   "source": [
    "thisset = {\"apple\", \"banana\", \"cherry\"}\n",
    "\n",
    "print(len(thisset))"
   ]
  },
  {
   "cell_type": "markdown",
   "id": "c345ab54-0788-426d-9af6-478fd62aca01",
   "metadata": {},
   "source": [
    "Ex108"
   ]
  },
  {
   "cell_type": "code",
   "execution_count": 351,
   "id": "bc82775f-cd3b-4d2c-be6c-9d5020243bcc",
   "metadata": {},
   "outputs": [],
   "source": [
    "set1 = {\"apple\", \"banana\", \"cherry\"}\n",
    "set2 = {1, 5, 7, 9, 3}\n",
    "set3 = {True, False, False}"
   ]
  },
  {
   "cell_type": "markdown",
   "id": "d5f908e9-0deb-4308-ac8a-a7860bc0ec80",
   "metadata": {},
   "source": [
    "Ex109"
   ]
  },
  {
   "cell_type": "code",
   "execution_count": 355,
   "id": "a96d786d-1762-4c25-b868-a548daec49a4",
   "metadata": {},
   "outputs": [],
   "source": [
    "set1 = {\"abc\", 34, True, 40, \"male\"}"
   ]
  },
  {
   "cell_type": "markdown",
   "id": "dfff3fdf-27f4-4f06-b0d9-b55889e24b8d",
   "metadata": {},
   "source": [
    "Ex110"
   ]
  },
  {
   "cell_type": "code",
   "execution_count": 360,
   "id": "38492338-1cca-4488-9a09-a0436e72c7b8",
   "metadata": {},
   "outputs": [
    {
     "name": "stdout",
     "output_type": "stream",
     "text": [
      "<class 'set'>\n"
     ]
    }
   ],
   "source": [
    "myset = {\"apple\", \"banana\", \"cherry\"}\n",
    "print(type(myset))"
   ]
  },
  {
   "cell_type": "markdown",
   "id": "7d992474-e2ba-4c00-baab-4e8d59485fd6",
   "metadata": {},
   "source": [
    "Ex111"
   ]
  },
  {
   "cell_type": "code",
   "execution_count": 363,
   "id": "7561bafd-f27c-4a83-845b-45dc29a55fef",
   "metadata": {},
   "outputs": [
    {
     "name": "stdout",
     "output_type": "stream",
     "text": [
      "{'banana', 'cherry', 'apple'}\n"
     ]
    }
   ],
   "source": [
    "thisset = set((\"apple\", \"banana\", \"cherry\")) \n",
    "print(thisset)"
   ]
  },
  {
   "cell_type": "markdown",
   "id": "06571fb8-0cac-4400-aa66-b41fcf27a4f1",
   "metadata": {},
   "source": [
    "Ex112"
   ]
  },
  {
   "cell_type": "code",
   "execution_count": 366,
   "id": "03050532-9e2a-4842-825b-9c0161d57a60",
   "metadata": {},
   "outputs": [
    {
     "name": "stdout",
     "output_type": "stream",
     "text": [
      "banana\n",
      "cherry\n",
      "apple\n"
     ]
    }
   ],
   "source": [
    "thisset = {\"apple\", \"banana\", \"cherry\"}\n",
    "\n",
    "for x in thisset:\n",
    "  print(x)"
   ]
  },
  {
   "cell_type": "markdown",
   "id": "33f89f14-1747-469c-8406-57a670613c42",
   "metadata": {},
   "source": [
    "Ex113"
   ]
  },
  {
   "cell_type": "code",
   "execution_count": 369,
   "id": "5a7c2e62-a946-4fe5-bb88-f992c5d5c474",
   "metadata": {},
   "outputs": [
    {
     "name": "stdout",
     "output_type": "stream",
     "text": [
      "True\n"
     ]
    }
   ],
   "source": [
    "thisset = {\"apple\", \"banana\", \"cherry\"}\n",
    "\n",
    "print(\"banana\" in thisset)"
   ]
  },
  {
   "cell_type": "markdown",
   "id": "05f31730-e8e4-49b1-ab82-0c7367acb754",
   "metadata": {},
   "source": [
    "Ex114"
   ]
  },
  {
   "cell_type": "code",
   "execution_count": 372,
   "id": "b470e231-4ff7-49b1-b7ec-930f61afab12",
   "metadata": {},
   "outputs": [
    {
     "name": "stdout",
     "output_type": "stream",
     "text": [
      "False\n"
     ]
    }
   ],
   "source": [
    "thisset = {\"apple\", \"banana\", \"cherry\"}\n",
    "\n",
    "print(\"banana\" not in thisset)"
   ]
  },
  {
   "cell_type": "markdown",
   "id": "410e1e43-439d-4c88-8532-1037c4b73d8e",
   "metadata": {},
   "source": [
    "Ex115"
   ]
  },
  {
   "cell_type": "code",
   "execution_count": 375,
   "id": "bc26ce4c-9e0b-4aea-a6fb-d4c1f6692cde",
   "metadata": {},
   "outputs": [
    {
     "name": "stdout",
     "output_type": "stream",
     "text": [
      "{'banana', 'cherry', 'orange', 'apple'}\n"
     ]
    }
   ],
   "source": [
    "thisset = {\"apple\", \"banana\", \"cherry\"}\n",
    "\n",
    "thisset.add(\"orange\")\n",
    "\n",
    "print(thisset)"
   ]
  },
  {
   "cell_type": "markdown",
   "id": "8731c313-e530-400c-a192-786c0a564e87",
   "metadata": {},
   "source": [
    "Ex116"
   ]
  },
  {
   "cell_type": "code",
   "execution_count": 378,
   "id": "5b241efb-b264-49e0-ba33-6b4e1a34c600",
   "metadata": {},
   "outputs": [
    {
     "name": "stdout",
     "output_type": "stream",
     "text": [
      "{'banana', 'pineapple', 'cherry', 'apple', 'papaya', 'mango'}\n"
     ]
    }
   ],
   "source": [
    "thisset = {\"apple\", \"banana\", \"cherry\"}\n",
    "tropical = {\"pineapple\", \"mango\", \"papaya\"}\n",
    "\n",
    "thisset.update(tropical)\n",
    "\n",
    "print(thisset)"
   ]
  },
  {
   "cell_type": "markdown",
   "id": "7b6cac33-f6a1-4554-ade9-04ed3d0e9e79",
   "metadata": {},
   "source": [
    "Ex117"
   ]
  },
  {
   "cell_type": "code",
   "execution_count": 381,
   "id": "cd779c0a-8ef8-41ad-b70a-01942b330812",
   "metadata": {},
   "outputs": [
    {
     "name": "stdout",
     "output_type": "stream",
     "text": [
      "{'banana', 'cherry', 'orange', 'apple', 'kiwi'}\n"
     ]
    }
   ],
   "source": [
    "thisset = {\"apple\", \"banana\", \"cherry\"}\n",
    "mylist = [\"kiwi\", \"orange\"]\n",
    "\n",
    "thisset.update(mylist)\n",
    "\n",
    "print(thisset)"
   ]
  },
  {
   "cell_type": "markdown",
   "id": "e40ab9e4-3660-41e3-b311-d4d9f85981fe",
   "metadata": {},
   "source": [
    "Ex118"
   ]
  },
  {
   "cell_type": "code",
   "execution_count": 384,
   "id": "8979db1b-b473-46cf-bac6-dfcc4eca4790",
   "metadata": {},
   "outputs": [
    {
     "name": "stdout",
     "output_type": "stream",
     "text": [
      "{'cherry', 'apple'}\n"
     ]
    }
   ],
   "source": [
    "thisset = {\"apple\", \"banana\", \"cherry\"}\n",
    "\n",
    "thisset.remove(\"banana\")\n",
    "\n",
    "print(thisset)"
   ]
  },
  {
   "cell_type": "markdown",
   "id": "ebaa0484-f852-41d7-9133-06c9069f5666",
   "metadata": {},
   "source": [
    "Ex119"
   ]
  },
  {
   "cell_type": "code",
   "execution_count": 387,
   "id": "dd51aebd-d5fe-46a5-b966-d5bb6be65817",
   "metadata": {},
   "outputs": [
    {
     "name": "stdout",
     "output_type": "stream",
     "text": [
      "{'cherry', 'apple'}\n"
     ]
    }
   ],
   "source": [
    "thisset = {\"apple\", \"banana\", \"cherry\"}\n",
    "\n",
    "thisset.discard(\"banana\")\n",
    "\n",
    "print(thisset)"
   ]
  },
  {
   "cell_type": "markdown",
   "id": "d855c987-07d5-4f76-812d-50c4d56c41b9",
   "metadata": {},
   "source": [
    "Ex120"
   ]
  },
  {
   "cell_type": "code",
   "execution_count": 390,
   "id": "8b948835-0059-46f6-9fbc-630cf14e5cd5",
   "metadata": {},
   "outputs": [
    {
     "name": "stdout",
     "output_type": "stream",
     "text": [
      "banana\n",
      "{'cherry', 'apple'}\n"
     ]
    }
   ],
   "source": [
    "thisset = {\"apple\", \"banana\", \"cherry\"}\n",
    "\n",
    "x = thisset.pop()\n",
    "\n",
    "print(x)\n",
    "\n",
    "print(thisset)"
   ]
  },
  {
   "cell_type": "markdown",
   "id": "7ae50e1d-ab25-4e0e-9ff3-132671400c66",
   "metadata": {},
   "source": [
    "Ex121"
   ]
  },
  {
   "cell_type": "code",
   "execution_count": 393,
   "id": "c90e8470-c841-4784-b01c-eeeddabcbe68",
   "metadata": {},
   "outputs": [
    {
     "name": "stdout",
     "output_type": "stream",
     "text": [
      "set()\n"
     ]
    }
   ],
   "source": [
    "thisset = {\"apple\", \"banana\", \"cherry\"}\n",
    "\n",
    "thisset.clear()\n",
    "\n",
    "print(thisset)"
   ]
  },
  {
   "cell_type": "markdown",
   "id": "1df235ad-659b-4c04-b71c-e71cfee05776",
   "metadata": {},
   "source": [
    "Ex122"
   ]
  },
  {
   "cell_type": "code",
   "execution_count": 398,
   "id": "4db97dc6-e211-490c-9de3-a55070d14559",
   "metadata": {},
   "outputs": [
    {
     "name": "stdout",
     "output_type": "stream",
     "text": [
      "banana\n",
      "cherry\n",
      "apple\n"
     ]
    }
   ],
   "source": [
    "thisset = {\"apple\", \"banana\", \"cherry\"}\n",
    "\n",
    "for x in thisset:\n",
    "  print(x)"
   ]
  },
  {
   "cell_type": "markdown",
   "id": "e886a152-982a-4d7f-903a-f9028311c743",
   "metadata": {},
   "source": [
    "Ex123"
   ]
  },
  {
   "cell_type": "code",
   "execution_count": 405,
   "id": "9001bde1-69ee-4d4a-af49-d57fd302f0a6",
   "metadata": {},
   "outputs": [
    {
     "name": "stdout",
     "output_type": "stream",
     "text": [
      "{'c', 1, 2, 3, 'b', 'a'}\n"
     ]
    }
   ],
   "source": [
    "set1 = {\"a\", \"b\", \"c\"}\n",
    "set2 = {1, 2, 3}\n",
    "\n",
    "set3 = set1.union(set2)\n",
    "print(set3)"
   ]
  },
  {
   "cell_type": "markdown",
   "id": "da9e5a32-62ec-4440-b2b5-96842ceb4f6d",
   "metadata": {},
   "source": [
    "Ex124"
   ]
  },
  {
   "cell_type": "code",
   "execution_count": 408,
   "id": "1517b319-d04e-4def-9b57-37b916dec94a",
   "metadata": {},
   "outputs": [
    {
     "name": "stdout",
     "output_type": "stream",
     "text": [
      "{'c', 1, 2, 3, 'b', 'a'}\n"
     ]
    }
   ],
   "source": [
    "set1 = {\"a\", \"b\", \"c\"}\n",
    "set2 = {1, 2, 3}\n",
    "\n",
    "set3 = set1 | set2\n",
    "print(set3)"
   ]
  },
  {
   "cell_type": "markdown",
   "id": "dee6b08c-9fd7-440d-8803-0d0dd9a98858",
   "metadata": {},
   "source": [
    "Ex125"
   ]
  },
  {
   "cell_type": "code",
   "execution_count": 411,
   "id": "e9b09234-88c5-48ea-b873-c053c6ca3244",
   "metadata": {},
   "outputs": [
    {
     "name": "stdout",
     "output_type": "stream",
     "text": [
      "{'c', 1, 2, 3, 'bananas', 'cherry', 'apple', 'John', 'b', 'Elena', 'a'}\n"
     ]
    }
   ],
   "source": [
    "set1 = {\"a\", \"b\", \"c\"}\n",
    "set2 = {1, 2, 3}\n",
    "set3 = {\"John\", \"Elena\"}\n",
    "set4 = {\"apple\", \"bananas\", \"cherry\"}\n",
    "\n",
    "myset = set1.union(set2, set3, set4)\n",
    "print(myset)"
   ]
  },
  {
   "cell_type": "markdown",
   "id": "a03f9fbc-ab85-43d9-a01c-502e1a12d652",
   "metadata": {},
   "source": [
    "Ex126"
   ]
  },
  {
   "cell_type": "code",
   "execution_count": 414,
   "id": "e0dce30a-1cf1-4c58-a3cb-b1f8dd218502",
   "metadata": {},
   "outputs": [
    {
     "name": "stdout",
     "output_type": "stream",
     "text": [
      "{'c', 1, 2, 3, 'bananas', 'cherry', 'apple', 'John', 'b', 'Elena', 'a'}\n"
     ]
    }
   ],
   "source": [
    "set1 = {\"a\", \"b\", \"c\"}\n",
    "set2 = {1, 2, 3}\n",
    "set3 = {\"John\", \"Elena\"}\n",
    "set4 = {\"apple\", \"bananas\", \"cherry\"}\n",
    "\n",
    "myset = set1 | set2 | set3 |set4\n",
    "print(myset)"
   ]
  },
  {
   "cell_type": "markdown",
   "id": "29385e00-1d04-4bd1-9208-485f90503885",
   "metadata": {},
   "source": [
    "Ex128"
   ]
  },
  {
   "cell_type": "code",
   "execution_count": 417,
   "id": "e09fc9e7-f616-4436-9db9-f57d0026e789",
   "metadata": {},
   "outputs": [
    {
     "name": "stdout",
     "output_type": "stream",
     "text": [
      "{'c', 2, 1, 3, 'b', 'a'}\n"
     ]
    }
   ],
   "source": [
    "x = {\"a\", \"b\", \"c\"}\n",
    "y = (1, 2, 3)\n",
    "\n",
    "z = x.union(y)\n",
    "print(z)"
   ]
  },
  {
   "cell_type": "markdown",
   "id": "c04df372-1af0-4a5f-8ff6-e50d070dee26",
   "metadata": {},
   "source": [
    "Ex129"
   ]
  },
  {
   "cell_type": "code",
   "execution_count": 420,
   "id": "9d268736-ee98-4593-b2ae-bf3ea9fa32b8",
   "metadata": {},
   "outputs": [
    {
     "name": "stdout",
     "output_type": "stream",
     "text": [
      "{'c', 1, 2, 3, 'b', 'a'}\n"
     ]
    }
   ],
   "source": [
    "set1 = {\"a\", \"b\" , \"c\"}\n",
    "set2 = {1, 2, 3}\n",
    "\n",
    "set1.update(set2)\n",
    "print(set1)"
   ]
  },
  {
   "cell_type": "markdown",
   "id": "b3e520af-3a08-43b8-972b-c24b4c9869a8",
   "metadata": {},
   "source": [
    "Ex130"
   ]
  },
  {
   "cell_type": "code",
   "execution_count": 423,
   "id": "661b79f2-c6ee-404c-b80c-9770513946a8",
   "metadata": {},
   "outputs": [
    {
     "name": "stdout",
     "output_type": "stream",
     "text": [
      "{'apple'}\n"
     ]
    }
   ],
   "source": [
    "set1 = {\"apple\", \"banana\", \"cherry\"}\n",
    "set2 = {\"google\", \"microsoft\", \"apple\"}\n",
    "\n",
    "set3 = set1.intersection(set2)\n",
    "print(set3)"
   ]
  },
  {
   "cell_type": "markdown",
   "id": "2a742f86-1697-4e32-9e05-2dbd0c72df9e",
   "metadata": {},
   "source": [
    "Ex131"
   ]
  },
  {
   "cell_type": "code",
   "execution_count": 428,
   "id": "b6b7cc1a-ee9f-4264-bc77-3a283dbcc8b7",
   "metadata": {},
   "outputs": [
    {
     "name": "stdout",
     "output_type": "stream",
     "text": [
      "{'apple'}\n"
     ]
    }
   ],
   "source": [
    "set1 = {\"apple\", \"banana\", \"cherry\"}\n",
    "set2 = {\"google\", \"microsoft\", \"apple\"}\n",
    "\n",
    "set3 = set1 & set2\n",
    "print(set3)"
   ]
  },
  {
   "cell_type": "markdown",
   "id": "e1852afd-17ca-4227-b32c-30d329f51c24",
   "metadata": {},
   "source": [
    "Ex132"
   ]
  },
  {
   "cell_type": "code",
   "execution_count": 431,
   "id": "5fd71b01-6b63-4418-a511-8f7767bd9287",
   "metadata": {},
   "outputs": [
    {
     "name": "stdout",
     "output_type": "stream",
     "text": [
      "{'apple'}\n"
     ]
    }
   ],
   "source": [
    "set1 = {\"apple\", \"banana\", \"cherry\"}\n",
    "set2 = {\"google\", \"microsoft\", \"apple\"}\n",
    "\n",
    "set1.intersection_update(set2)\n",
    "\n",
    "print(set1)"
   ]
  },
  {
   "cell_type": "markdown",
   "id": "816982fe-5aeb-47e6-a115-2fb15fcb343b",
   "metadata": {},
   "source": [
    "Ex133"
   ]
  },
  {
   "cell_type": "code",
   "execution_count": 434,
   "id": "108484a2-7f26-4d14-9435-8ff151b0a45c",
   "metadata": {},
   "outputs": [
    {
     "name": "stdout",
     "output_type": "stream",
     "text": [
      "{False, 1, 'apple'}\n"
     ]
    }
   ],
   "source": [
    "set1 = {\"apple\", 1,  \"banana\", 0, \"cherry\"}\n",
    "set2 = {False, \"google\", 1, \"apple\", 2, True}\n",
    "\n",
    "set3 = set1.intersection(set2)\n",
    "\n",
    "print(set3)"
   ]
  },
  {
   "cell_type": "markdown",
   "id": "0396b3d9-3f01-4d69-b9b0-ac8e53b4c059",
   "metadata": {},
   "source": [
    "Ex134"
   ]
  },
  {
   "cell_type": "code",
   "execution_count": 437,
   "id": "b68530fc-557e-4d71-ace7-2e41c51aa97b",
   "metadata": {},
   "outputs": [
    {
     "name": "stdout",
     "output_type": "stream",
     "text": [
      "{'banana', 'cherry'}\n"
     ]
    }
   ],
   "source": [
    "set1 = {\"apple\", \"banana\", \"cherry\"}\n",
    "set2 = {\"google\", \"microsoft\", \"apple\"}\n",
    "\n",
    "set3 = set1.difference(set2)\n",
    "\n",
    "print(set3)"
   ]
  },
  {
   "cell_type": "markdown",
   "id": "1af40bd6-561a-4543-b179-02d57866fc3b",
   "metadata": {},
   "source": [
    "Ex135"
   ]
  },
  {
   "cell_type": "code",
   "execution_count": 440,
   "id": "9d8d49a1-e5a8-4eb2-8afc-55cded97ec54",
   "metadata": {},
   "outputs": [
    {
     "name": "stdout",
     "output_type": "stream",
     "text": [
      "{'banana', 'cherry'}\n"
     ]
    }
   ],
   "source": [
    "set1 = {\"apple\", \"banana\", \"cherry\"}\n",
    "set2 = {\"google\", \"microsoft\", \"apple\"}\n",
    "\n",
    "set3 = set1 - set2\n",
    "print(set3)"
   ]
  },
  {
   "cell_type": "markdown",
   "id": "77326300-e93a-4afd-8aa2-af45df620654",
   "metadata": {},
   "source": [
    "Ex136"
   ]
  },
  {
   "cell_type": "code",
   "execution_count": 443,
   "id": "e24ecd29-44b1-4f66-bf31-878115de113f",
   "metadata": {},
   "outputs": [
    {
     "name": "stdout",
     "output_type": "stream",
     "text": [
      "{'banana', 'cherry'}\n"
     ]
    }
   ],
   "source": [
    "set1 = {\"apple\", \"banana\", \"cherry\"}\n",
    "set2 = {\"google\", \"microsoft\", \"apple\"}\n",
    "\n",
    "set1.difference_update(set2)\n",
    "\n",
    "print(set1)"
   ]
  },
  {
   "cell_type": "markdown",
   "id": "2d7810ea-b5bd-4d6a-b24f-defaa8beddfb",
   "metadata": {},
   "source": [
    "Ex137"
   ]
  },
  {
   "cell_type": "code",
   "execution_count": 446,
   "id": "0b85b170-e081-4d77-b312-4d0f2dc544c1",
   "metadata": {},
   "outputs": [
    {
     "name": "stdout",
     "output_type": "stream",
     "text": [
      "{'banana', 'google', 'cherry', 'microsoft'}\n"
     ]
    }
   ],
   "source": [
    "set1 = {\"apple\", \"banana\", \"cherry\"}\n",
    "set2 = {\"google\", \"microsoft\", \"apple\"}\n",
    "\n",
    "set3 = set1.symmetric_difference(set2)\n",
    "\n",
    "print(set3)"
   ]
  },
  {
   "cell_type": "markdown",
   "id": "209362ae-8a15-493c-a467-0e7810b5ae18",
   "metadata": {},
   "source": [
    "Ex138"
   ]
  },
  {
   "cell_type": "code",
   "execution_count": 449,
   "id": "aae644f1-6312-4ec9-9d11-c9feca8b1c2a",
   "metadata": {},
   "outputs": [
    {
     "name": "stdout",
     "output_type": "stream",
     "text": [
      "{'banana', 'google', 'cherry', 'microsoft'}\n"
     ]
    }
   ],
   "source": [
    "set1 = {\"apple\", \"banana\", \"cherry\"}\n",
    "set2 = {\"google\", \"microsoft\", \"apple\"}\n",
    "\n",
    "set3 = set1 ^ set2\n",
    "print(set3)"
   ]
  },
  {
   "cell_type": "markdown",
   "id": "7ab9626f-c31f-460d-a190-e40022c9a25d",
   "metadata": {},
   "source": [
    "Ex139"
   ]
  },
  {
   "cell_type": "code",
   "execution_count": 452,
   "id": "70e0a80f-625f-40b5-bab2-8785518b1080",
   "metadata": {},
   "outputs": [
    {
     "name": "stdout",
     "output_type": "stream",
     "text": [
      "{'banana', 'google', 'cherry', 'microsoft'}\n"
     ]
    }
   ],
   "source": [
    "set1 = {\"apple\", \"banana\", \"cherry\"}\n",
    "set2 = {\"google\", \"microsoft\", \"apple\"}\n",
    "\n",
    "set1.symmetric_difference_update(set2)\n",
    "\n",
    "print(set1)"
   ]
  },
  {
   "cell_type": "markdown",
   "id": "1121c627-cfe2-4a5c-ba54-1c3a6dd9e6fe",
   "metadata": {},
   "source": [
    "Ex140"
   ]
  },
  {
   "cell_type": "code",
   "execution_count": 457,
   "id": "e03f3358-6140-42dc-b072-da724a4151fa",
   "metadata": {},
   "outputs": [
    {
     "name": "stdout",
     "output_type": "stream",
     "text": [
      "{'brand': 'Ford', 'model': 'Mustang', 'year': 1964}\n"
     ]
    }
   ],
   "source": [
    "thisdict = {\n",
    "  \"brand\": \"Ford\",\n",
    "  \"model\": \"Mustang\",\n",
    "  \"year\": 1964\n",
    "}\n",
    "print(thisdict)"
   ]
  },
  {
   "cell_type": "markdown",
   "id": "28ed7271-0055-473a-9860-78a166017178",
   "metadata": {},
   "source": [
    "Ex141"
   ]
  },
  {
   "cell_type": "code",
   "execution_count": 460,
   "id": "4ac6776f-60f3-4d9f-a861-0b081caf668d",
   "metadata": {},
   "outputs": [
    {
     "name": "stdout",
     "output_type": "stream",
     "text": [
      "{'brand': 'Ford', 'model': 'Mustang', 'year': 1964}\n"
     ]
    }
   ],
   "source": [
    "thisdict = {\n",
    "  \"brand\": \"Ford\",\n",
    "  \"model\": \"Mustang\",\n",
    "  \"year\": 1964\n",
    "}\n",
    "print(thisdict)"
   ]
  },
  {
   "cell_type": "markdown",
   "id": "2a768163-a648-4672-a1ca-f34fc0c1c527",
   "metadata": {},
   "source": [
    "Ex142"
   ]
  },
  {
   "cell_type": "code",
   "execution_count": 465,
   "id": "e6f3e62c-fb02-4432-a91c-3209e5c16f76",
   "metadata": {},
   "outputs": [
    {
     "name": "stdout",
     "output_type": "stream",
     "text": [
      "Ford\n"
     ]
    }
   ],
   "source": [
    "thisdict = {\n",
    "  \"brand\": \"Ford\",\n",
    "  \"model\": \"Mustang\",\n",
    "  \"year\": 1964\n",
    "}\n",
    "print(thisdict[\"brand\"])"
   ]
  },
  {
   "cell_type": "markdown",
   "id": "f519aa0b-e57e-4cdd-8198-d957ca658e3e",
   "metadata": {},
   "source": [
    "Ex143"
   ]
  },
  {
   "cell_type": "code",
   "execution_count": 468,
   "id": "44cd5a8e-051f-4eb0-815a-019e3de3288f",
   "metadata": {},
   "outputs": [
    {
     "name": "stdout",
     "output_type": "stream",
     "text": [
      "{'brand': 'Ford', 'model': 'Mustang', 'year': 2020}\n"
     ]
    }
   ],
   "source": [
    "thisdict = {\n",
    "  \"brand\": \"Ford\",\n",
    "  \"model\": \"Mustang\",\n",
    "  \"year\": 1964,\n",
    "  \"year\": 2020\n",
    "}\n",
    "print(thisdict)"
   ]
  },
  {
   "cell_type": "markdown",
   "id": "29e12442-db41-4988-b9e5-a16badadef49",
   "metadata": {},
   "source": [
    "Ex144"
   ]
  },
  {
   "cell_type": "code",
   "execution_count": 471,
   "id": "fd032bc3-ee50-4619-a7b4-69f3c507fc16",
   "metadata": {},
   "outputs": [
    {
     "name": "stdout",
     "output_type": "stream",
     "text": [
      "3\n"
     ]
    }
   ],
   "source": [
    "print(len(thisdict))"
   ]
  },
  {
   "cell_type": "markdown",
   "id": "d5ae1909-c209-407d-a96b-791c80e9dd02",
   "metadata": {},
   "source": [
    "Ex145"
   ]
  },
  {
   "cell_type": "code",
   "execution_count": 474,
   "id": "ee7bb045-0953-4bb9-ab66-8c7a92b6ca88",
   "metadata": {},
   "outputs": [],
   "source": [
    "thisdict = {\n",
    "  \"brand\": \"Ford\",\n",
    "  \"electric\": False,\n",
    "  \"year\": 1964,\n",
    "  \"colors\": [\"red\", \"white\", \"blue\"]\n",
    "}"
   ]
  },
  {
   "cell_type": "markdown",
   "id": "23aa55de-f7d8-44c5-a2f7-311c22e6ed10",
   "metadata": {},
   "source": [
    "Ex146"
   ]
  },
  {
   "cell_type": "code",
   "execution_count": 477,
   "id": "9eb29314-6386-42d1-9fe4-b098ea4a71af",
   "metadata": {},
   "outputs": [
    {
     "name": "stdout",
     "output_type": "stream",
     "text": [
      "<class 'dict'>\n"
     ]
    }
   ],
   "source": [
    "thisdict = {\n",
    "  \"brand\": \"Ford\",\n",
    "  \"model\": \"Mustang\",\n",
    "  \"year\": 1964\n",
    "}\n",
    "print(type(thisdict))"
   ]
  },
  {
   "cell_type": "markdown",
   "id": "2616d41f-b85e-401a-80c8-4760860332ea",
   "metadata": {},
   "source": [
    "Ex147"
   ]
  },
  {
   "cell_type": "code",
   "execution_count": 480,
   "id": "ea49b5eb-9e78-4ae2-ac22-76877d38441d",
   "metadata": {},
   "outputs": [
    {
     "name": "stdout",
     "output_type": "stream",
     "text": [
      "{'name': 'John', 'age': 36, 'country': 'Norway'}\n"
     ]
    }
   ],
   "source": [
    "thisdict = dict(name = \"John\", age = 36, country = \"Norway\")\n",
    "print(thisdict)"
   ]
  },
  {
   "cell_type": "markdown",
   "id": "5d82c83f-8b76-4f47-bd23-04a50bf4309c",
   "metadata": {},
   "source": [
    "Ex148"
   ]
  },
  {
   "cell_type": "code",
   "execution_count": 483,
   "id": "dc493fd3-426e-4bb4-b06f-4bb6851d24a0",
   "metadata": {},
   "outputs": [],
   "source": [
    "thisdict = {\n",
    "  \"brand\": \"Ford\",\n",
    "  \"model\": \"Mustang\",\n",
    "  \"year\": 1964\n",
    "}\n",
    "x = thisdict[\"model\"]"
   ]
  },
  {
   "cell_type": "markdown",
   "id": "153c7589-97ca-4426-92a9-dc24db95161a",
   "metadata": {},
   "source": [
    "Ex149"
   ]
  },
  {
   "cell_type": "code",
   "execution_count": 486,
   "id": "170db696-e2f8-4c97-b0ad-08298f8dc78a",
   "metadata": {},
   "outputs": [],
   "source": [
    "x = thisdict.get(\"model\")"
   ]
  },
  {
   "cell_type": "markdown",
   "id": "b35892ee-92ae-4808-a58d-9ba1f7e930bf",
   "metadata": {},
   "source": [
    "Ex150"
   ]
  },
  {
   "cell_type": "code",
   "execution_count": 489,
   "id": "20badbf0-2aac-421a-8ff3-bc4f090c9aa9",
   "metadata": {},
   "outputs": [],
   "source": [
    "x = thisdict.keys()"
   ]
  },
  {
   "cell_type": "markdown",
   "id": "23f8e7af-a460-4bbe-b027-3d8b0dcfc672",
   "metadata": {},
   "source": [
    "Ex151"
   ]
  },
  {
   "cell_type": "code",
   "execution_count": 492,
   "id": "89460077-52f4-461d-bfb7-e47c917e4f52",
   "metadata": {},
   "outputs": [
    {
     "name": "stdout",
     "output_type": "stream",
     "text": [
      "dict_keys(['brand', 'model', 'year'])\n",
      "dict_keys(['brand', 'model', 'year', 'color'])\n"
     ]
    }
   ],
   "source": [
    "car = {\n",
    "\"brand\": \"Ford\",\n",
    "\"model\": \"Mustang\",\n",
    "\"year\": 1964\n",
    "}\n",
    "\n",
    "x = car.keys()\n",
    "\n",
    "print(x) \n",
    "\n",
    "car[\"color\"] = \"white\"\n",
    "\n",
    "print(x) "
   ]
  },
  {
   "cell_type": "markdown",
   "id": "8e32b42b-7f1f-42df-9dba-d0b4f0718755",
   "metadata": {},
   "source": [
    "Ex152"
   ]
  },
  {
   "cell_type": "code",
   "execution_count": 495,
   "id": "b49767c2-055b-4e63-9dcb-00023bd7b041",
   "metadata": {},
   "outputs": [],
   "source": [
    "x = thisdict.values()"
   ]
  },
  {
   "cell_type": "markdown",
   "id": "5f8430a1-8253-4d7a-9907-9882096d2bbe",
   "metadata": {},
   "source": [
    "Ex153"
   ]
  },
  {
   "cell_type": "code",
   "execution_count": 498,
   "id": "83086bd3-4bf7-4320-b9f0-f6bc0754c94f",
   "metadata": {},
   "outputs": [
    {
     "name": "stdout",
     "output_type": "stream",
     "text": [
      "dict_values(['Ford', 'Mustang', 1964])\n",
      "dict_values(['Ford', 'Mustang', 2020])\n"
     ]
    }
   ],
   "source": [
    "car = {\n",
    "\"brand\": \"Ford\",\n",
    "\"model\": \"Mustang\",\n",
    "\"year\": 1964\n",
    "}\n",
    "\n",
    "x = car.values()\n",
    "\n",
    "print(x) \n",
    "\n",
    "car[\"year\"] = 2020\n",
    "\n",
    "print(x) "
   ]
  },
  {
   "cell_type": "markdown",
   "id": "4aae5d8b-bb85-4ad0-b068-6befe660640f",
   "metadata": {},
   "source": [
    "Ex154"
   ]
  },
  {
   "cell_type": "code",
   "execution_count": 501,
   "id": "e7afb8b7-cdeb-463e-8aa6-6f9e682585b2",
   "metadata": {},
   "outputs": [
    {
     "name": "stdout",
     "output_type": "stream",
     "text": [
      "dict_values(['Ford', 'Mustang', 1964])\n",
      "dict_values(['Ford', 'Mustang', 1964, 'red'])\n"
     ]
    }
   ],
   "source": [
    "car = {\n",
    "\"brand\": \"Ford\",\n",
    "\"model\": \"Mustang\",\n",
    "\"year\": 1964\n",
    "}\n",
    "\n",
    "x = car.values()\n",
    "\n",
    "print(x) \n",
    "\n",
    "car[\"color\"] = \"red\"\n",
    "\n",
    "print(x) "
   ]
  },
  {
   "cell_type": "markdown",
   "id": "56a11a2f-c888-4f48-ac8c-dc21a23b9cd2",
   "metadata": {},
   "source": [
    "Ex155"
   ]
  },
  {
   "cell_type": "code",
   "execution_count": 504,
   "id": "35e66e27-e38b-4d18-81ea-41401cd4b772",
   "metadata": {},
   "outputs": [],
   "source": [
    "x = thisdict.items()"
   ]
  },
  {
   "cell_type": "markdown",
   "id": "3440082f-d42b-4da2-af2d-48fcc46873b0",
   "metadata": {},
   "source": [
    "Ex156"
   ]
  },
  {
   "cell_type": "code",
   "execution_count": 507,
   "id": "6612b5d7-bad0-486e-ac30-ec021e572938",
   "metadata": {},
   "outputs": [
    {
     "name": "stdout",
     "output_type": "stream",
     "text": [
      "dict_items([('brand', 'Ford'), ('model', 'Mustang'), ('year', 1964)])\n",
      "dict_items([('brand', 'Ford'), ('model', 'Mustang'), ('year', 2020)])\n"
     ]
    }
   ],
   "source": [
    "car = {\n",
    "\"brand\": \"Ford\",\n",
    "\"model\": \"Mustang\",\n",
    "\"year\": 1964\n",
    "}\n",
    "\n",
    "x = car.items()\n",
    "\n",
    "print(x) \n",
    "\n",
    "car[\"year\"] = 2020\n",
    "\n",
    "print(x) "
   ]
  },
  {
   "cell_type": "markdown",
   "id": "836c3e43-8c40-42c0-aee5-d3f2f6969231",
   "metadata": {},
   "source": [
    "Ex157"
   ]
  },
  {
   "cell_type": "code",
   "execution_count": 510,
   "id": "7e2cfb6a-5fb1-40d5-b8b0-5230ddbd80ec",
   "metadata": {},
   "outputs": [
    {
     "name": "stdout",
     "output_type": "stream",
     "text": [
      "dict_items([('brand', 'Ford'), ('model', 'Mustang'), ('year', 1964)])\n",
      "dict_items([('brand', 'Ford'), ('model', 'Mustang'), ('year', 1964), ('color', 'red')])\n"
     ]
    }
   ],
   "source": [
    "car = {\n",
    "\"brand\": \"Ford\",\n",
    "\"model\": \"Mustang\",\n",
    "\"year\": 1964\n",
    "}\n",
    "\n",
    "x = car.items()\n",
    "\n",
    "print(x) \n",
    "\n",
    "car[\"color\"] = \"red\"\n",
    "\n",
    "print(x)"
   ]
  },
  {
   "cell_type": "markdown",
   "id": "6b96a872-c669-4b3f-ab76-5772851eaab9",
   "metadata": {},
   "source": [
    "Ex158"
   ]
  },
  {
   "cell_type": "code",
   "execution_count": 513,
   "id": "67ba920f-2913-4c1d-b15f-1ab75f4a605b",
   "metadata": {},
   "outputs": [
    {
     "name": "stdout",
     "output_type": "stream",
     "text": [
      "Yes, 'model' is one of the keys in the thisdict dictionary\n"
     ]
    }
   ],
   "source": [
    "thisdict = {\n",
    "  \"brand\": \"Ford\",\n",
    "  \"model\": \"Mustang\",\n",
    "  \"year\": 1964\n",
    "}\n",
    "if \"model\" in thisdict:\n",
    "  print(\"Yes, 'model' is one of the keys in the thisdict dictionary\")"
   ]
  },
  {
   "cell_type": "markdown",
   "id": "ad2201c0-38b1-4294-aa26-ac0f2719c26b",
   "metadata": {},
   "source": [
    "Ex159"
   ]
  },
  {
   "cell_type": "code",
   "execution_count": 516,
   "id": "ccbe2389-bb38-41bc-888f-e96355e46349",
   "metadata": {},
   "outputs": [],
   "source": [
    "thisdict = {\n",
    "  \"brand\": \"Ford\",\n",
    "  \"model\": \"Mustang\",\n",
    "  \"year\": 1964\n",
    "}\n",
    "thisdict[\"year\"] = 2018"
   ]
  },
  {
   "cell_type": "markdown",
   "id": "295de4b5-5d9e-4575-bbe2-15b42cb531bd",
   "metadata": {},
   "source": [
    "Ex160"
   ]
  },
  {
   "cell_type": "code",
   "execution_count": 519,
   "id": "853f9bcb-0c5b-4a7d-810f-12c2739dd866",
   "metadata": {},
   "outputs": [
    {
     "name": "stdout",
     "output_type": "stream",
     "text": [
      "{'brand': 'Ford', 'model': 'Mustang', 'year': 1964, 'color': 'red'}\n"
     ]
    }
   ],
   "source": [
    "thisdict = {\n",
    "  \"brand\": \"Ford\",\n",
    "  \"model\": \"Mustang\",\n",
    "  \"year\": 1964\n",
    "}\n",
    "thisdict[\"color\"] = \"red\"\n",
    "print(thisdict)"
   ]
  },
  {
   "cell_type": "markdown",
   "id": "c0ac8a27-deae-4f4b-8e28-fb83ce59313f",
   "metadata": {},
   "source": [
    "Ex161"
   ]
  },
  {
   "cell_type": "code",
   "execution_count": 522,
   "id": "18a1c7d4-8d0a-48c8-84e8-ce60697740dd",
   "metadata": {},
   "outputs": [],
   "source": [
    "thisdict = {\n",
    "  \"brand\": \"Ford\",\n",
    "  \"model\": \"Mustang\",\n",
    "  \"year\": 1964\n",
    "}\n",
    "thisdict.update({\"color\": \"red\"})"
   ]
  },
  {
   "cell_type": "markdown",
   "id": "a6926b20-178d-4672-825f-8802df9c567d",
   "metadata": {},
   "source": [
    "Ex162"
   ]
  },
  {
   "cell_type": "code",
   "execution_count": 525,
   "id": "355b4647-bb83-4920-a2d1-96d1a56cb4ee",
   "metadata": {},
   "outputs": [
    {
     "name": "stdout",
     "output_type": "stream",
     "text": [
      "{'brand': 'Ford', 'year': 1964}\n"
     ]
    }
   ],
   "source": [
    "thisdict = {\n",
    "  \"brand\": \"Ford\",\n",
    "  \"model\": \"Mustang\",\n",
    "  \"year\": 1964\n",
    "}\n",
    "thisdict.pop(\"model\")\n",
    "print(thisdict)"
   ]
  },
  {
   "cell_type": "markdown",
   "id": "dfa457f2-8b16-40fe-abb5-2b909f16db70",
   "metadata": {},
   "source": [
    "Ex163"
   ]
  },
  {
   "cell_type": "code",
   "execution_count": 528,
   "id": "f12e9b9d-dc29-4780-8c07-efbce691865d",
   "metadata": {},
   "outputs": [
    {
     "name": "stdout",
     "output_type": "stream",
     "text": [
      "{'brand': 'Ford', 'model': 'Mustang'}\n"
     ]
    }
   ],
   "source": [
    "thisdict = {\n",
    "  \"brand\": \"Ford\",\n",
    "  \"model\": \"Mustang\",\n",
    "  \"year\": 1964\n",
    "}\n",
    "thisdict.popitem()\n",
    "print(thisdict)"
   ]
  },
  {
   "cell_type": "markdown",
   "id": "c96b83c9-62ad-4cba-abd0-b91663d66991",
   "metadata": {},
   "source": [
    "Ex164"
   ]
  },
  {
   "cell_type": "code",
   "execution_count": 531,
   "id": "5418d10d-26b1-436f-ad3d-ddc3d0bf9489",
   "metadata": {},
   "outputs": [
    {
     "name": "stdout",
     "output_type": "stream",
     "text": [
      "{'brand': 'Ford', 'year': 1964}\n"
     ]
    }
   ],
   "source": [
    "thisdict = {\n",
    "  \"brand\": \"Ford\",\n",
    "  \"model\": \"Mustang\",\n",
    "  \"year\": 1964\n",
    "}\n",
    "del thisdict[\"model\"]\n",
    "print(thisdict)"
   ]
  },
  {
   "cell_type": "markdown",
   "id": "1ee88dda-3fca-4ad7-bba6-eb560f43d831",
   "metadata": {},
   "source": [
    "Ex165"
   ]
  },
  {
   "cell_type": "code",
   "execution_count": 534,
   "id": "2c77fcb7-07b4-4dcd-85da-613e21ec79af",
   "metadata": {},
   "outputs": [
    {
     "name": "stdout",
     "output_type": "stream",
     "text": [
      "{}\n"
     ]
    }
   ],
   "source": [
    "thisdict = {\n",
    "  \"brand\": \"Ford\",\n",
    "  \"model\": \"Mustang\",\n",
    "  \"year\": 1964\n",
    "}\n",
    "thisdict.clear()\n",
    "print(thisdict)"
   ]
  },
  {
   "cell_type": "markdown",
   "id": "e8c3ff07-02b8-4d6d-bb47-c7bc34e672fb",
   "metadata": {},
   "source": [
    "Ex166"
   ]
  },
  {
   "cell_type": "code",
   "execution_count": 537,
   "id": "36427538-f12d-4a7c-b05f-eb4243b29e5c",
   "metadata": {},
   "outputs": [],
   "source": [
    "for x in thisdict:\n",
    "  print(x)"
   ]
  },
  {
   "cell_type": "markdown",
   "id": "81ff8c85-df82-43e6-afd9-7f3b9e2c78b3",
   "metadata": {},
   "source": [
    "Ex167"
   ]
  },
  {
   "cell_type": "code",
   "execution_count": 540,
   "id": "c0c9c6a9-f949-4fbe-bf72-7d43d8858d70",
   "metadata": {},
   "outputs": [],
   "source": [
    "for x in thisdict:\n",
    "  print(thisdict[x])"
   ]
  },
  {
   "cell_type": "markdown",
   "id": "3419ff5a-3446-4f61-b1b2-d84b85f70e04",
   "metadata": {},
   "source": [
    "Ex168"
   ]
  },
  {
   "cell_type": "code",
   "execution_count": 543,
   "id": "18465bb7-f3cd-4811-90ba-730091cc20e6",
   "metadata": {},
   "outputs": [],
   "source": [
    "for x in thisdict.values():\n",
    "  print(x)"
   ]
  },
  {
   "cell_type": "markdown",
   "id": "47bae1b6-a2de-408b-a895-c8a0d9b3fcbc",
   "metadata": {},
   "source": [
    "Ex169"
   ]
  },
  {
   "cell_type": "code",
   "execution_count": 546,
   "id": "dcbd501f-0573-4a44-aba8-1f66baba81be",
   "metadata": {},
   "outputs": [],
   "source": [
    "for x in thisdict.keys():\n",
    "  print(x)"
   ]
  },
  {
   "cell_type": "markdown",
   "id": "91bcb613-544c-49c1-9afa-8a7fd52382ec",
   "metadata": {},
   "source": [
    "Ex170"
   ]
  },
  {
   "cell_type": "code",
   "execution_count": 549,
   "id": "d02b3057-cff3-42e6-9f9a-20ebf82847ca",
   "metadata": {},
   "outputs": [],
   "source": [
    "for x, y in thisdict.items():\n",
    "  print(x, y)"
   ]
  },
  {
   "cell_type": "markdown",
   "id": "ab459b2c-c140-4e33-9806-dae3f472b4b7",
   "metadata": {},
   "source": [
    "Ex171"
   ]
  },
  {
   "cell_type": "code",
   "execution_count": 552,
   "id": "011a6b05-6ef7-4e70-9c1e-685c8685ad7a",
   "metadata": {},
   "outputs": [
    {
     "name": "stdout",
     "output_type": "stream",
     "text": [
      "{'brand': 'Ford', 'model': 'Mustang', 'year': 1964}\n"
     ]
    }
   ],
   "source": [
    "thisdict = {\n",
    "  \"brand\": \"Ford\",\n",
    "  \"model\": \"Mustang\",\n",
    "  \"year\": 1964\n",
    "}\n",
    "mydict = thisdict.copy()\n",
    "print(mydict)"
   ]
  },
  {
   "cell_type": "markdown",
   "id": "77642801-3c75-466b-9a93-798ec1437ff6",
   "metadata": {},
   "source": [
    "Ex172"
   ]
  },
  {
   "cell_type": "code",
   "execution_count": 555,
   "id": "d42edc37-3387-4c83-ac9c-67aa1a007571",
   "metadata": {},
   "outputs": [
    {
     "name": "stdout",
     "output_type": "stream",
     "text": [
      "{'brand': 'Ford', 'model': 'Mustang', 'year': 1964}\n"
     ]
    }
   ],
   "source": [
    "thisdict = {\n",
    "  \"brand\": \"Ford\",\n",
    "  \"model\": \"Mustang\",\n",
    "  \"year\": 1964\n",
    "}\n",
    "mydict = dict(thisdict)\n",
    "print(mydict)"
   ]
  },
  {
   "cell_type": "markdown",
   "id": "59d7773c-395f-4018-87c1-d08b78fa1cb9",
   "metadata": {},
   "source": [
    "Ex173"
   ]
  },
  {
   "cell_type": "code",
   "execution_count": 558,
   "id": "1d1980b3-7b18-43b2-bb1a-dbe65e4f6b15",
   "metadata": {},
   "outputs": [],
   "source": [
    "myfamily = {\n",
    "  \"child1\" : {\n",
    "    \"name\" : \"Emil\",\n",
    "    \"year\" : 2004\n",
    "  },\n",
    "  \"child2\" : {\n",
    "    \"name\" : \"Tobias\",\n",
    "    \"year\" : 2007\n",
    "  },\n",
    "  \"child3\" : {\n",
    "    \"name\" : \"Linus\",\n",
    "    \"year\" : 2011\n",
    "  }\n",
    "}"
   ]
  },
  {
   "cell_type": "markdown",
   "id": "003a3652-d339-4b17-99d6-634565f12aff",
   "metadata": {},
   "source": [
    "Ex174"
   ]
  },
  {
   "cell_type": "code",
   "execution_count": 561,
   "id": "309a844c-4088-43d7-bf5e-a7d826ff97d5",
   "metadata": {},
   "outputs": [],
   "source": [
    "child1 = {\n",
    "  \"name\" : \"Emil\",\n",
    "  \"year\" : 2004\n",
    "}\n",
    "child2 = {\n",
    "  \"name\" : \"Tobias\",\n",
    "  \"year\" : 2007\n",
    "}\n",
    "child3 = {\n",
    "  \"name\" : \"Linus\",\n",
    "  \"year\" : 2011\n",
    "}\n",
    "\n",
    "myfamily = {\n",
    "  \"child1\" : child1,\n",
    "  \"child2\" : child2,\n",
    "  \"child3\" : child3\n",
    "}"
   ]
  },
  {
   "cell_type": "markdown",
   "id": "19ec698c-d0a1-4004-8fee-04b1456ec649",
   "metadata": {},
   "source": [
    "Ex175"
   ]
  },
  {
   "cell_type": "code",
   "execution_count": 564,
   "id": "f9f1009a-57c0-4f68-8b00-47cf1ec00784",
   "metadata": {},
   "outputs": [
    {
     "name": "stdout",
     "output_type": "stream",
     "text": [
      "Tobias\n"
     ]
    }
   ],
   "source": [
    "print(myfamily[\"child2\"][\"name\"])"
   ]
  },
  {
   "cell_type": "markdown",
   "id": "b35dd581-6b7c-478f-841a-b4178f47f686",
   "metadata": {},
   "source": [
    "Ex176"
   ]
  },
  {
   "cell_type": "code",
   "execution_count": 567,
   "id": "1a849c76-0e5a-4a9e-a7ca-8607777a9df9",
   "metadata": {},
   "outputs": [
    {
     "name": "stdout",
     "output_type": "stream",
     "text": [
      "child1\n",
      "name: Emil\n",
      "year: 2004\n",
      "child2\n",
      "name: Tobias\n",
      "year: 2007\n",
      "child3\n",
      "name: Linus\n",
      "year: 2011\n"
     ]
    }
   ],
   "source": [
    "for x, obj in myfamily.items():\n",
    "  print(x)\n",
    "\n",
    "  for y in obj:\n",
    "    print(y + ':', obj[y])"
   ]
  },
  {
   "cell_type": "markdown",
   "id": "331dab71-809d-4bbb-a7f6-3ef811c28e27",
   "metadata": {},
   "source": [
    "Ex177"
   ]
  },
  {
   "cell_type": "code",
   "execution_count": 570,
   "id": "764a142e-a2f7-4ab3-b3b8-45ab0fbfb482",
   "metadata": {},
   "outputs": [
    {
     "name": "stdout",
     "output_type": "stream",
     "text": [
      "b is greater than a\n"
     ]
    }
   ],
   "source": [
    "a = 33\n",
    "b = 200\n",
    "if b > a:\n",
    "  print(\"b is greater than a\")"
   ]
  },
  {
   "cell_type": "markdown",
   "id": "c2cfbffd-2e02-4d5b-89a8-37a4d889b0fc",
   "metadata": {},
   "source": [
    "Ex178"
   ]
  },
  {
   "cell_type": "code",
   "execution_count": 573,
   "id": "eccde916-95d9-4eb2-a02c-52f56c567b7b",
   "metadata": {},
   "outputs": [
    {
     "name": "stdout",
     "output_type": "stream",
     "text": [
      "a and b are equal\n"
     ]
    }
   ],
   "source": [
    "a = 33\n",
    "b = 33\n",
    "if b > a:\n",
    "  print(\"b is greater than a\")\n",
    "elif a == b:\n",
    "  print(\"a and b are equal\")"
   ]
  },
  {
   "cell_type": "markdown",
   "id": "72a99830-52b7-4d4a-a642-b819c815cb00",
   "metadata": {},
   "source": [
    "Ex179"
   ]
  },
  {
   "cell_type": "code",
   "execution_count": 576,
   "id": "cd718a27-8585-4857-b843-e1b5e117995c",
   "metadata": {},
   "outputs": [
    {
     "name": "stdout",
     "output_type": "stream",
     "text": [
      "a is greater than b\n"
     ]
    }
   ],
   "source": [
    "a = 200\n",
    "b = 33\n",
    "if b > a:\n",
    "  print(\"b is greater than a\")\n",
    "elif a == b:\n",
    "  print(\"a and b are equal\")\n",
    "else:\n",
    "  print(\"a is greater than b\")"
   ]
  },
  {
   "cell_type": "markdown",
   "id": "de2f7797-466a-43d1-ba61-acb9bb260177",
   "metadata": {},
   "source": [
    "Ex180"
   ]
  },
  {
   "cell_type": "code",
   "execution_count": 579,
   "id": "1aa117a7-d6d4-4ad3-b960-0d7ce4ec097d",
   "metadata": {},
   "outputs": [
    {
     "name": "stdout",
     "output_type": "stream",
     "text": [
      "b is not greater than a\n"
     ]
    }
   ],
   "source": [
    "a = 200\n",
    "b = 33\n",
    "if b > a:\n",
    "  print(\"b is greater than a\")\n",
    "else:\n",
    "  print(\"b is not greater than a\")"
   ]
  },
  {
   "cell_type": "markdown",
   "id": "1fb82c4c-4d3b-4c57-979d-6769cee899d0",
   "metadata": {},
   "source": [
    "Ex181"
   ]
  },
  {
   "cell_type": "code",
   "execution_count": 582,
   "id": "a08e4cee-38e7-44a5-b4b9-ed26003f0c3a",
   "metadata": {},
   "outputs": [
    {
     "name": "stdout",
     "output_type": "stream",
     "text": [
      "a is greater than b\n"
     ]
    }
   ],
   "source": [
    "if a > b: print(\"a is greater than b\")"
   ]
  },
  {
   "cell_type": "markdown",
   "id": "67a6490f-5c54-44d1-8dd8-92aa0a81e390",
   "metadata": {},
   "source": [
    "Ex182"
   ]
  },
  {
   "cell_type": "code",
   "execution_count": 585,
   "id": "ab0862dc-909b-4f40-9e3a-765f13c233ce",
   "metadata": {},
   "outputs": [
    {
     "name": "stdout",
     "output_type": "stream",
     "text": [
      "B\n"
     ]
    }
   ],
   "source": [
    "a = 2\n",
    "b = 330\n",
    "print(\"A\") if a > b else print(\"B\")"
   ]
  },
  {
   "cell_type": "markdown",
   "id": "7338073f-018d-4173-be92-bb5b010977ce",
   "metadata": {},
   "source": [
    "Ex183"
   ]
  },
  {
   "cell_type": "code",
   "execution_count": 588,
   "id": "dcfc524c-41ed-45cc-8f1e-dd3fb03081c4",
   "metadata": {},
   "outputs": [
    {
     "name": "stdout",
     "output_type": "stream",
     "text": [
      "=\n"
     ]
    }
   ],
   "source": [
    "a = 330\n",
    "b = 330\n",
    "print(\"A\") if a > b else print(\"=\") if a == b else print(\"B\")"
   ]
  },
  {
   "cell_type": "markdown",
   "id": "751b9960-7275-4dfa-b630-49fdc3f9674a",
   "metadata": {},
   "source": [
    "Ex184"
   ]
  },
  {
   "cell_type": "code",
   "execution_count": 591,
   "id": "3c54a573-2c0c-44a5-a645-877573390dae",
   "metadata": {},
   "outputs": [
    {
     "name": "stdout",
     "output_type": "stream",
     "text": [
      "Both conditions are True\n"
     ]
    }
   ],
   "source": [
    "a = 200\n",
    "b = 33\n",
    "c = 500\n",
    "if a > b and c > a:\n",
    "  print(\"Both conditions are True\")"
   ]
  },
  {
   "cell_type": "markdown",
   "id": "abeb1c2d-f5c2-43d2-aa22-844545941c6d",
   "metadata": {},
   "source": [
    "Ex185"
   ]
  },
  {
   "cell_type": "code",
   "execution_count": 594,
   "id": "9b843b0d-95cd-476c-a8cb-8834a131d1e3",
   "metadata": {},
   "outputs": [
    {
     "name": "stdout",
     "output_type": "stream",
     "text": [
      "At least one of the conditions is True\n"
     ]
    }
   ],
   "source": [
    "a = 200\n",
    "b = 33\n",
    "c = 500\n",
    "if a > b or a > c:\n",
    "  print(\"At least one of the conditions is True\")"
   ]
  },
  {
   "cell_type": "markdown",
   "id": "00d59699-1245-4808-830d-7d770705fbef",
   "metadata": {},
   "source": [
    "Ex186"
   ]
  },
  {
   "cell_type": "code",
   "execution_count": 597,
   "id": "904f1833-8172-45c6-851b-e203c8bae4ec",
   "metadata": {},
   "outputs": [
    {
     "name": "stdout",
     "output_type": "stream",
     "text": [
      "a is NOT greater than b\n"
     ]
    }
   ],
   "source": [
    "a = 33\n",
    "b = 200\n",
    "if not a > b:\n",
    "  print(\"a is NOT greater than b\")"
   ]
  },
  {
   "cell_type": "markdown",
   "id": "83aaeb85-3462-47db-bc80-2e399ddf0078",
   "metadata": {},
   "source": [
    "Ex187"
   ]
  },
  {
   "cell_type": "code",
   "execution_count": 600,
   "id": "26478f4a-1ef3-4c70-9714-2ea7fdef9400",
   "metadata": {},
   "outputs": [
    {
     "name": "stdout",
     "output_type": "stream",
     "text": [
      "Above ten,\n",
      "and also above 20!\n"
     ]
    }
   ],
   "source": [
    "x = 41\n",
    "\n",
    "if x > 10:\n",
    "  print(\"Above ten,\")\n",
    "  if x > 20:\n",
    "    print(\"and also above 20!\")\n",
    "  else:\n",
    "    print(\"but not above 20.\")"
   ]
  },
  {
   "cell_type": "markdown",
   "id": "74e6517d-0654-4c3a-b123-aeacacf7cb49",
   "metadata": {},
   "source": [
    "Ex188"
   ]
  },
  {
   "cell_type": "code",
   "execution_count": 603,
   "id": "cf0b9eab-5271-4096-98ce-a5bdb8462b99",
   "metadata": {},
   "outputs": [],
   "source": [
    "a = 33\n",
    "b = 200\n",
    "\n",
    "if b > a:\n",
    "  pass"
   ]
  },
  {
   "cell_type": "markdown",
   "id": "1564752a-9cf4-4cbe-bdfb-d964cebbb79d",
   "metadata": {},
   "source": [
    "Ex189"
   ]
  },
  {
   "cell_type": "code",
   "execution_count": 606,
   "id": "be1dd038-0759-4665-9cac-262477c15376",
   "metadata": {},
   "outputs": [
    {
     "name": "stdout",
     "output_type": "stream",
     "text": [
      "1\n",
      "2\n",
      "3\n",
      "4\n",
      "5\n"
     ]
    }
   ],
   "source": [
    "i = 1\n",
    "while i < 6:\n",
    "  print(i)\n",
    "  i += 1"
   ]
  },
  {
   "cell_type": "markdown",
   "id": "39a46209-7e6a-4fc8-97d1-e134b4eaf472",
   "metadata": {},
   "source": [
    "Ex190"
   ]
  },
  {
   "cell_type": "code",
   "execution_count": 609,
   "id": "ff43d3d1-8733-441b-bba4-f684cc4e79cf",
   "metadata": {},
   "outputs": [
    {
     "name": "stdout",
     "output_type": "stream",
     "text": [
      "1\n",
      "2\n",
      "3\n"
     ]
    }
   ],
   "source": [
    "i = 1\n",
    "while i < 6:\n",
    "  print(i)\n",
    "  if i == 3:\n",
    "    break\n",
    "  i += 1"
   ]
  },
  {
   "cell_type": "markdown",
   "id": "6599a675-3a36-4746-9f51-67758229500e",
   "metadata": {},
   "source": [
    "Ex191"
   ]
  },
  {
   "cell_type": "code",
   "execution_count": 612,
   "id": "bbf71de6-4b4d-4a11-a0f9-d6bc60622026",
   "metadata": {},
   "outputs": [
    {
     "name": "stdout",
     "output_type": "stream",
     "text": [
      "1\n",
      "2\n",
      "4\n",
      "5\n",
      "6\n"
     ]
    }
   ],
   "source": [
    "i = 0\n",
    "while i < 6:\n",
    "  i += 1\n",
    "  if i == 3:\n",
    "    continue\n",
    "  print(i)"
   ]
  },
  {
   "cell_type": "markdown",
   "id": "713bd983-d054-47a8-b337-c7cfe0a2b4c6",
   "metadata": {},
   "source": [
    "Ex192"
   ]
  },
  {
   "cell_type": "code",
   "execution_count": 615,
   "id": "d6efd06d-26c2-4267-8171-5f35e7e84790",
   "metadata": {},
   "outputs": [
    {
     "name": "stdout",
     "output_type": "stream",
     "text": [
      "1\n",
      "2\n",
      "3\n",
      "4\n",
      "5\n",
      "i is no longer less than 6\n"
     ]
    }
   ],
   "source": [
    "i = 1\n",
    "while i < 6:\n",
    "  print(i)\n",
    "  i += 1\n",
    "else:\n",
    "  print(\"i is no longer less than 6\")"
   ]
  },
  {
   "cell_type": "markdown",
   "id": "85805c2f-a1b2-4cb8-a315-ccb1f26e4386",
   "metadata": {},
   "source": [
    "Ex193"
   ]
  },
  {
   "cell_type": "code",
   "execution_count": 618,
   "id": "c19b9bb2-462a-4371-9632-38b7e62d8590",
   "metadata": {},
   "outputs": [
    {
     "name": "stdout",
     "output_type": "stream",
     "text": [
      "apple\n",
      "banana\n",
      "cherry\n"
     ]
    }
   ],
   "source": [
    "fruits = [\"apple\", \"banana\", \"cherry\"]\n",
    "for x in fruits:\n",
    "  print(x)"
   ]
  },
  {
   "cell_type": "markdown",
   "id": "05b47991-e657-49a5-9f07-67e8b3013ad4",
   "metadata": {},
   "source": [
    "Ex194"
   ]
  },
  {
   "cell_type": "code",
   "execution_count": 621,
   "id": "af29cfeb-250d-4643-85db-ccbd481bedd0",
   "metadata": {},
   "outputs": [
    {
     "name": "stdout",
     "output_type": "stream",
     "text": [
      "b\n",
      "a\n",
      "n\n",
      "a\n",
      "n\n",
      "a\n"
     ]
    }
   ],
   "source": [
    "for x in \"banana\":\n",
    "  print(x)"
   ]
  },
  {
   "cell_type": "markdown",
   "id": "2187f3ae-51a4-466c-810c-5cc640bc4517",
   "metadata": {},
   "source": [
    "Ex195"
   ]
  },
  {
   "cell_type": "code",
   "execution_count": 624,
   "id": "4396e0b9-e299-463f-8f66-34d8fbfc765b",
   "metadata": {},
   "outputs": [
    {
     "name": "stdout",
     "output_type": "stream",
     "text": [
      "apple\n",
      "banana\n"
     ]
    }
   ],
   "source": [
    "fruits = [\"apple\", \"banana\", \"cherry\"]\n",
    "for x in fruits:\n",
    "  print(x)\n",
    "  if x == \"banana\":\n",
    "    break"
   ]
  },
  {
   "cell_type": "markdown",
   "id": "6fb481ff-500d-43fb-8019-bff0308b3ccc",
   "metadata": {},
   "source": [
    "Ex196"
   ]
  },
  {
   "cell_type": "code",
   "execution_count": 627,
   "id": "bf1d2795-6305-4fde-8bbd-a2f39d10b941",
   "metadata": {},
   "outputs": [
    {
     "name": "stdout",
     "output_type": "stream",
     "text": [
      "apple\n"
     ]
    }
   ],
   "source": [
    "fruits = [\"apple\", \"banana\", \"cherry\"]\n",
    "for x in fruits:\n",
    "  if x == \"banana\":\n",
    "    break\n",
    "  print(x)"
   ]
  },
  {
   "cell_type": "markdown",
   "id": "3997d000-8e1b-42d5-a24c-c15a81fbdd3f",
   "metadata": {},
   "source": [
    "Ex197"
   ]
  },
  {
   "cell_type": "code",
   "execution_count": 630,
   "id": "e6f78e0d-5e02-46a2-8b05-4165a9b508c8",
   "metadata": {},
   "outputs": [
    {
     "name": "stdout",
     "output_type": "stream",
     "text": [
      "apple\n",
      "cherry\n"
     ]
    }
   ],
   "source": [
    "fruits = [\"apple\", \"banana\", \"cherry\"]\n",
    "for x in fruits:\n",
    "  if x == \"banana\":\n",
    "    continue\n",
    "  print(x)"
   ]
  },
  {
   "cell_type": "markdown",
   "id": "36c6f4c8-5c4d-4b2a-8e56-80a937a96588",
   "metadata": {},
   "source": [
    "Ex198"
   ]
  },
  {
   "cell_type": "code",
   "execution_count": 633,
   "id": "c4e414b1-0c03-4089-a3db-76466cfbe122",
   "metadata": {},
   "outputs": [
    {
     "name": "stdout",
     "output_type": "stream",
     "text": [
      "0\n",
      "1\n",
      "2\n",
      "3\n",
      "4\n",
      "5\n"
     ]
    }
   ],
   "source": [
    "for x in range(6):\n",
    "  print(x)"
   ]
  },
  {
   "cell_type": "markdown",
   "id": "21a9146b-84a3-44e7-90d8-1c755d7d00e2",
   "metadata": {},
   "source": [
    "Ex199"
   ]
  },
  {
   "cell_type": "code",
   "execution_count": 636,
   "id": "91e5b103-611d-4940-86dc-123ba733f146",
   "metadata": {},
   "outputs": [
    {
     "name": "stdout",
     "output_type": "stream",
     "text": [
      "2\n",
      "3\n",
      "4\n",
      "5\n"
     ]
    }
   ],
   "source": [
    "for x in range(2, 6):\n",
    "  print(x)"
   ]
  },
  {
   "cell_type": "markdown",
   "id": "925d5a86-e0c9-4b4e-81ff-cdedd96f4ee7",
   "metadata": {},
   "source": [
    "Ex200"
   ]
  },
  {
   "cell_type": "code",
   "execution_count": 639,
   "id": "000ed244-ece1-46ff-a518-afbdec86e413",
   "metadata": {},
   "outputs": [
    {
     "name": "stdout",
     "output_type": "stream",
     "text": [
      "2\n",
      "5\n",
      "8\n",
      "11\n",
      "14\n",
      "17\n",
      "20\n",
      "23\n",
      "26\n",
      "29\n"
     ]
    }
   ],
   "source": [
    "for x in range(2, 30, 3):\n",
    "  print(x)"
   ]
  },
  {
   "cell_type": "markdown",
   "id": "f1439309-1978-4e96-ba50-90435a54b1fc",
   "metadata": {},
   "source": [
    "Ex201"
   ]
  },
  {
   "cell_type": "code",
   "execution_count": 642,
   "id": "990159ee-9394-4fcd-8c51-66bf4004cd1d",
   "metadata": {},
   "outputs": [
    {
     "name": "stdout",
     "output_type": "stream",
     "text": [
      "0\n",
      "1\n",
      "2\n",
      "3\n",
      "4\n",
      "5\n",
      "Finally finished!\n"
     ]
    }
   ],
   "source": [
    "for x in range(6):\n",
    "  print(x)\n",
    "else:\n",
    "  print(\"Finally finished!\")"
   ]
  },
  {
   "cell_type": "markdown",
   "id": "e58f8c7a-9a45-4a61-b945-43c66ad66abf",
   "metadata": {},
   "source": [
    "Ex202"
   ]
  },
  {
   "cell_type": "code",
   "execution_count": 645,
   "id": "79b29b22-045f-4a9f-8b68-5031bc98a6b9",
   "metadata": {},
   "outputs": [
    {
     "name": "stdout",
     "output_type": "stream",
     "text": [
      "0\n",
      "1\n",
      "2\n"
     ]
    }
   ],
   "source": [
    "for x in range(6):\n",
    "  if x == 3: break\n",
    "  print(x)\n",
    "else:\n",
    "  print(\"Finally finished!\")"
   ]
  },
  {
   "cell_type": "markdown",
   "id": "9802a3f5-f6bd-46c3-bdfe-4f8158076c3d",
   "metadata": {},
   "source": [
    "Ex203"
   ]
  },
  {
   "cell_type": "code",
   "execution_count": 648,
   "id": "41967b70-ba9e-4483-974b-eefe97fc8e3d",
   "metadata": {},
   "outputs": [
    {
     "name": "stdout",
     "output_type": "stream",
     "text": [
      "red apple\n",
      "red banana\n",
      "red cherry\n",
      "big apple\n",
      "big banana\n",
      "big cherry\n",
      "tasty apple\n",
      "tasty banana\n",
      "tasty cherry\n"
     ]
    }
   ],
   "source": [
    "adj = [\"red\", \"big\", \"tasty\"]\n",
    "fruits = [\"apple\", \"banana\", \"cherry\"]\n",
    "\n",
    "for x in adj:\n",
    "  for y in fruits:\n",
    "    print(x, y)"
   ]
  },
  {
   "cell_type": "markdown",
   "id": "7361a786-f239-4d32-8b48-8aa60d12c77a",
   "metadata": {},
   "source": [
    "Ex204"
   ]
  },
  {
   "cell_type": "code",
   "execution_count": 651,
   "id": "270893fe-9afe-4769-ad9d-b737be7431e1",
   "metadata": {},
   "outputs": [],
   "source": [
    "for x in [0, 1, 2]:\n",
    "  pass"
   ]
  },
  {
   "cell_type": "code",
   "execution_count": null,
   "id": "fb398e9f-3711-476c-85e1-bbb0b63ca082",
   "metadata": {},
   "outputs": [],
   "source": []
  }
 ],
 "metadata": {
  "kernelspec": {
   "display_name": "Python [conda env:base] *",
   "language": "python",
   "name": "conda-base-py"
  },
  "language_info": {
   "codemirror_mode": {
    "name": "ipython",
    "version": 3
   },
   "file_extension": ".py",
   "mimetype": "text/x-python",
   "name": "python",
   "nbconvert_exporter": "python",
   "pygments_lexer": "ipython3",
   "version": "3.12.7"
  }
 },
 "nbformat": 4,
 "nbformat_minor": 5
}
