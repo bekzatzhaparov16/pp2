{
 "cells": [
  {
   "cell_type": "markdown",
   "id": "0baf27ff-0213-40e9-bde2-499904a568c3",
   "metadata": {},
   "source": [
    "Example1"
   ]
  },
  {
   "cell_type": "code",
   "execution_count": 10,
   "id": "8b508c93-db18-42a4-8a13-76bd359f22b7",
   "metadata": {},
   "outputs": [
    {
     "name": "stdout",
     "output_type": "stream",
     "text": [
      "Hello, World!\n"
     ]
    }
   ],
   "source": [
    "print('Hello, World!')"
   ]
  },
  {
   "cell_type": "markdown",
   "id": "de050990-05fb-4600-8ecb-9d5e5d00cffd",
   "metadata": {},
   "source": [
    "Example2"
   ]
  },
  {
   "cell_type": "code",
   "execution_count": 13,
   "id": "8838d47c-6446-4d24-983a-628b22cb7aaa",
   "metadata": {},
   "outputs": [
    {
     "name": "stdout",
     "output_type": "stream",
     "text": [
      "3.12.7 | packaged by Anaconda, Inc. | (main, Oct  4 2024, 13:17:27) [MSC v.1929 64 bit (AMD64)]\n"
     ]
    }
   ],
   "source": [
    "import sys\n",
    "print(sys.version)"
   ]
  },
  {
   "cell_type": "markdown",
   "id": "730c808b-de41-4188-b952-d04dfff9f501",
   "metadata": {},
   "source": [
    "Example3"
   ]
  },
  {
   "cell_type": "code",
   "execution_count": 16,
   "id": "f10817dc-62fd-490f-b4d6-d3facd82bce2",
   "metadata": {},
   "outputs": [
    {
     "name": "stdout",
     "output_type": "stream",
     "text": [
      "Five is greater than two!\n"
     ]
    }
   ],
   "source": [
    "if 5 > 2:\n",
    "    print(\"Five is greater than two!\")"
   ]
  },
  {
   "cell_type": "markdown",
   "id": "dfe1f92b-b76e-4f69-8c08-aeca9d3bddf3",
   "metadata": {},
   "source": [
    "Example4"
   ]
  },
  {
   "cell_type": "code",
   "execution_count": 25,
   "id": "74481ea5-3d68-4d43-a0fc-6d060cbb9ee8",
   "metadata": {},
   "outputs": [
    {
     "name": "stdout",
     "output_type": "stream",
     "text": [
      "Five is greater than two!\n",
      "Five is greater than two!\n"
     ]
    }
   ],
   "source": [
    "if 5 > 2:\n",
    "    print(\"Five is greater than two!\")\n",
    "if 5 > 2:\n",
    "        print(\"Five is greater than two!\")"
   ]
  },
  {
   "cell_type": "markdown",
   "id": "b78c1a9e-42a5-4656-a09c-a1fcc0ed9033",
   "metadata": {},
   "source": [
    "Example5"
   ]
  },
  {
   "cell_type": "code",
   "execution_count": 42,
   "id": "9f9a58ee-6097-4b5c-b2cd-89688b36ab4e",
   "metadata": {},
   "outputs": [],
   "source": [
    "x = 5\n",
    "y = \"Hello, World!\""
   ]
  },
  {
   "cell_type": "markdown",
   "id": "d4347f1a-afda-49f0-bb4e-f4c630226f84",
   "metadata": {},
   "source": [
    "Ex6"
   ]
  },
  {
   "cell_type": "code",
   "execution_count": 37,
   "id": "07794c06-2fbf-4a18-bd3f-68fd5822c9bb",
   "metadata": {},
   "outputs": [
    {
     "name": "stdout",
     "output_type": "stream",
     "text": [
      "Hello, World!\n"
     ]
    }
   ],
   "source": [
    "#This is a comment.\n",
    "print(\"Hello, World!\")"
   ]
  },
  {
   "cell_type": "markdown",
   "id": "84c68fe3-0361-4c3d-9e65-6278d2964cc3",
   "metadata": {},
   "source": [
    "Ex7"
   ]
  },
  {
   "cell_type": "code",
   "execution_count": 40,
   "id": "14d1db13-cc0f-42ec-9181-ccda3ec7bef5",
   "metadata": {},
   "outputs": [
    {
     "name": "stdout",
     "output_type": "stream",
     "text": [
      "Hello, World!\n"
     ]
    }
   ],
   "source": [
    "print(\"Hello, World!\") #This is a comment"
   ]
  },
  {
   "cell_type": "markdown",
   "id": "190e8ad7-d9a9-4adb-8a21-310881ed7ba6",
   "metadata": {},
   "source": [
    "Ex8"
   ]
  },
  {
   "cell_type": "code",
   "execution_count": 45,
   "id": "cf4049e9-1d40-4215-9204-be52a304b1e9",
   "metadata": {},
   "outputs": [
    {
     "name": "stdout",
     "output_type": "stream",
     "text": [
      "Cheers, Mate!\n"
     ]
    }
   ],
   "source": [
    "#print(\"Hello, World!\")\n",
    "print(\"Cheers, Mate!\")"
   ]
  },
  {
   "cell_type": "markdown",
   "id": "2040c5ac-fc34-4eda-8e9f-2f71937c5aa5",
   "metadata": {},
   "source": [
    "Ex9"
   ]
  },
  {
   "cell_type": "code",
   "execution_count": 48,
   "id": "5e053591-cee2-426d-ab09-6f1d8ebdcba2",
   "metadata": {},
   "outputs": [
    {
     "name": "stdout",
     "output_type": "stream",
     "text": [
      "Hello, World!\n"
     ]
    }
   ],
   "source": [
    "#This is a comment\n",
    "#written in\n",
    "#more than just one line\n",
    "print(\"Hello, World!\")"
   ]
  },
  {
   "cell_type": "markdown",
   "id": "dd2fa032-99b6-4c0f-a959-7177a0014faf",
   "metadata": {},
   "source": [
    "Ex10"
   ]
  },
  {
   "cell_type": "code",
   "execution_count": 51,
   "id": "9d16c99f-a11c-4ad1-8267-45a0325e8beb",
   "metadata": {},
   "outputs": [
    {
     "name": "stdout",
     "output_type": "stream",
     "text": [
      "Hello, World!\n"
     ]
    }
   ],
   "source": [
    "\"\"\"\n",
    "This is a comment\n",
    "written in more just one line\n",
    "\"\"\"\n",
    "print(\"Hello, World!\")"
   ]
  },
  {
   "cell_type": "markdown",
   "id": "3e2badd3-8f6b-43be-815a-bab41c65e964",
   "metadata": {},
   "source": [
    "Ex11"
   ]
  },
  {
   "cell_type": "code",
   "execution_count": 54,
   "id": "8827eca3-f1ee-4036-a2fd-6074cbe80cda",
   "metadata": {},
   "outputs": [
    {
     "name": "stdout",
     "output_type": "stream",
     "text": [
      "5\n",
      "John\n"
     ]
    }
   ],
   "source": [
    "x = 5\n",
    "y = \"John\"\n",
    "print(x)\n",
    "print(y)"
   ]
  },
  {
   "cell_type": "markdown",
   "id": "6cc4432d-4220-4f8b-ae04-6180c3b2090f",
   "metadata": {},
   "source": [
    "Ex12"
   ]
  },
  {
   "cell_type": "code",
   "execution_count": 64,
   "id": "8ce06eee-63ea-4277-ba41-2b1b0823584d",
   "metadata": {},
   "outputs": [
    {
     "name": "stdout",
     "output_type": "stream",
     "text": [
      "Sally\n"
     ]
    }
   ],
   "source": [
    "x = 4   #int\n",
    "x = \"Sally\"  #str\n",
    "print(x)"
   ]
  },
  {
   "cell_type": "markdown",
   "id": "3e0d755e-671d-4508-bb26-f689d47c31c5",
   "metadata": {},
   "source": [
    "Ex13"
   ]
  },
  {
   "cell_type": "code",
   "execution_count": 67,
   "id": "c1740fb6-7074-4fd1-8f0a-9ea82d664036",
   "metadata": {},
   "outputs": [],
   "source": [
    "x = int(3)    #x is 3\n",
    "y = str(3)    #x is '3'\n",
    "z = float(3)  #x is 3.0"
   ]
  },
  {
   "cell_type": "markdown",
   "id": "8395aa71-7816-438d-b9e4-444151ce56b2",
   "metadata": {},
   "source": [
    "Ex14"
   ]
  },
  {
   "cell_type": "code",
   "execution_count": 70,
   "id": "e9d0a6ae-a186-40a6-8556-9fcd408b7c13",
   "metadata": {},
   "outputs": [
    {
     "name": "stdout",
     "output_type": "stream",
     "text": [
      "<class 'int'>\n",
      "<class 'str'>\n"
     ]
    }
   ],
   "source": [
    "x = 5\n",
    "y = \"John\"\n",
    "print(type(x))\n",
    "print(type(y))"
   ]
  },
  {
   "cell_type": "markdown",
   "id": "7c364666-1f2f-4fb0-8948-4f3eacaf42c6",
   "metadata": {},
   "source": [
    "Ex15"
   ]
  },
  {
   "cell_type": "code",
   "execution_count": 75,
   "id": "c3fc9965-9080-4f22-9ed1-c9c4ae583ccd",
   "metadata": {},
   "outputs": [],
   "source": [
    "x = \"John\"\n",
    "#x is the same as\n",
    "x = 'John'"
   ]
  },
  {
   "cell_type": "markdown",
   "id": "ef7c62d1-f094-4cd9-a14c-cfb7360345a5",
   "metadata": {},
   "source": [
    "Ex16"
   ]
  },
  {
   "cell_type": "code",
   "execution_count": 84,
   "id": "9627ca69-5f81-4fb3-ab6b-8760ed4a3d3c",
   "metadata": {},
   "outputs": [],
   "source": [
    "a = 4\n",
    "A = \"Sally\"\n",
    "#'A' is not overwrite 'a'"
   ]
  },
  {
   "cell_type": "markdown",
   "id": "1063dee5-6ff1-47db-b106-846cd979a177",
   "metadata": {},
   "source": [
    "Ex17"
   ]
  },
  {
   "cell_type": "code",
   "execution_count": 87,
   "id": "9ca08067-9158-4692-9f17-d1d806f79cdb",
   "metadata": {},
   "outputs": [],
   "source": [
    "myvar = \"John\"\n",
    "my_var = \"John\"\n",
    "_my_var = \"John\"\n",
    "myVar = \"John\"\n",
    "MYVAR = \"John\"\n",
    "myvar2 = \"John\""
   ]
  },
  {
   "cell_type": "markdown",
   "id": "e87f5b3f-fffa-4193-b935-ef4de0577423",
   "metadata": {},
   "source": [
    "Ex18"
   ]
  },
  {
   "cell_type": "code",
   "execution_count": 90,
   "id": "5e530136-dc9c-472a-bc6c-0a326955bc7b",
   "metadata": {},
   "outputs": [
    {
     "name": "stdout",
     "output_type": "stream",
     "text": [
      "Orange\n",
      "Orange\n",
      "Orange\n"
     ]
    }
   ],
   "source": [
    "x = y = z = \"Orange\"\n",
    "print(x)\n",
    "print(y)\n",
    "print(z)"
   ]
  },
  {
   "cell_type": "markdown",
   "id": "e69f9d29-e387-45ec-aff9-2420c67bb8fc",
   "metadata": {},
   "source": [
    "Ex19"
   ]
  },
  {
   "cell_type": "code",
   "execution_count": 93,
   "id": "aeb9070d-1f1c-4cd2-ac3c-3b6e2764515f",
   "metadata": {},
   "outputs": [
    {
     "name": "stdout",
     "output_type": "stream",
     "text": [
      "Apple\n",
      "Banana\n",
      "Cherry\n"
     ]
    }
   ],
   "source": [
    "fruits = [\"Apple\",\"Banana\",\"Cherry\"]\n",
    "x,y,z = fruits\n",
    "print(x)\n",
    "print(y)\n",
    "print(z)"
   ]
  },
  {
   "cell_type": "markdown",
   "id": "569085bb-e5a2-458c-9259-52e7ac42e4aa",
   "metadata": {},
   "source": [
    "Ex20"
   ]
  },
  {
   "cell_type": "code",
   "execution_count": 96,
   "id": "b1e195aa-8381-48e6-830e-03073d7a8205",
   "metadata": {},
   "outputs": [
    {
     "name": "stdout",
     "output_type": "stream",
     "text": [
      "Python is awesome!\n"
     ]
    }
   ],
   "source": [
    "x = \"Python is awesome!\"\n",
    "print(x)"
   ]
  },
  {
   "cell_type": "markdown",
   "id": "e9b9255b-7ffb-42c7-8966-32806a633b1f",
   "metadata": {},
   "source": [
    "Ex21"
   ]
  },
  {
   "cell_type": "code",
   "execution_count": 99,
   "id": "be40bc0c-2e86-4787-8ed2-9ce455091543",
   "metadata": {},
   "outputs": [
    {
     "name": "stdout",
     "output_type": "stream",
     "text": [
      "Python is awesome\n"
     ]
    }
   ],
   "source": [
    "x = \"Python\"\n",
    "y = \"is\"\n",
    "z = \"awesome\"\n",
    "print(x,y,z)"
   ]
  },
  {
   "cell_type": "markdown",
   "id": "65ca0ae2-55b8-4da5-bf54-f9f147d665cf",
   "metadata": {},
   "source": [
    "Ex22"
   ]
  },
  {
   "cell_type": "code",
   "execution_count": 104,
   "id": "a1d74723-056b-4b08-9dd9-fb737ded72c5",
   "metadata": {},
   "outputs": [
    {
     "name": "stdout",
     "output_type": "stream",
     "text": [
      "Python is awesome\n"
     ]
    }
   ],
   "source": [
    "x = \"Python \"\n",
    "y = \"is \"\n",
    "z = \"awesome\"\n",
    "print(x+y+z)"
   ]
  },
  {
   "cell_type": "markdown",
   "id": "7df8d764-6657-4b01-9ea9-dd8e2a80983a",
   "metadata": {},
   "source": [
    "Ex 23"
   ]
  },
  {
   "cell_type": "code",
   "execution_count": 107,
   "id": "9c1c663b-87ad-4b07-9a6c-fb3284123ede",
   "metadata": {},
   "outputs": [
    {
     "name": "stdout",
     "output_type": "stream",
     "text": [
      "15\n"
     ]
    }
   ],
   "source": [
    "x = 5\n",
    "y = 10\n",
    "print(x + y)"
   ]
  },
  {
   "cell_type": "markdown",
   "id": "1fcbd485-c01f-4757-8ace-dcbfdbe1e4cb",
   "metadata": {},
   "source": [
    "Ex24"
   ]
  },
  {
   "cell_type": "code",
   "execution_count": 110,
   "id": "6100c11e-27ce-48d2-ae28-72b561b5a8e9",
   "metadata": {},
   "outputs": [
    {
     "name": "stdout",
     "output_type": "stream",
     "text": [
      "5 John\n"
     ]
    }
   ],
   "source": [
    "x = 5\n",
    "y = \"John\"\n",
    "print(x,y)"
   ]
  },
  {
   "cell_type": "markdown",
   "id": "ebe212a2-224a-418b-a367-04f96b67dc75",
   "metadata": {},
   "source": [
    "Ex25"
   ]
  },
  {
   "cell_type": "code",
   "execution_count": 113,
   "id": "193a4466-62da-4faf-b3e5-1254f95e0d5d",
   "metadata": {},
   "outputs": [
    {
     "name": "stdout",
     "output_type": "stream",
     "text": [
      "python is awesome\n"
     ]
    }
   ],
   "source": [
    "x = \"awesome\"\n",
    "\n",
    "def myfunc():\n",
    "    print(\"python is \" + x)\n",
    "myfunc()"
   ]
  },
  {
   "cell_type": "markdown",
   "id": "9b939482-3a94-4e2c-b255-c36511935ddb",
   "metadata": {},
   "source": [
    "Ex26"
   ]
  },
  {
   "cell_type": "code",
   "execution_count": 116,
   "id": "00bf115c-d415-4f18-bf44-534a6fa8dc95",
   "metadata": {},
   "outputs": [
    {
     "name": "stdout",
     "output_type": "stream",
     "text": [
      "python is fantastic\n",
      "python is awesome\n"
     ]
    }
   ],
   "source": [
    "x = \"awesome\"\n",
    "\n",
    "def myfunc():\n",
    "    x = \"fantastic\"\n",
    "    print(\"python is \" + x)\n",
    "myfunc()\n",
    "\n",
    "print(\"python is \" + x)"
   ]
  },
  {
   "cell_type": "markdown",
   "id": "04474701-4f66-4b4b-a702-f9b9b94893cd",
   "metadata": {},
   "source": [
    "Ex27"
   ]
  },
  {
   "cell_type": "code",
   "execution_count": 121,
   "id": "ad1c04af-ed73-4c66-b97d-395dbaccfac3",
   "metadata": {},
   "outputs": [
    {
     "name": "stdout",
     "output_type": "stream",
     "text": [
      "python is Fantastic\n"
     ]
    }
   ],
   "source": [
    "def myfunc():\n",
    "    global x #normally variable declared within a function is local, but with global we can use it everywhere\n",
    "    x = \"Fantastic\"\n",
    "\n",
    "myfunc()\n",
    "\n",
    "print(\"python is \" + x)"
   ]
  },
  {
   "cell_type": "markdown",
   "id": "9b2d9b49-1f5a-4015-824f-5143b7503eac",
   "metadata": {},
   "source": [
    "Ex28"
   ]
  },
  {
   "cell_type": "code",
   "execution_count": 124,
   "id": "c50a9b1d-ddbb-4af9-b124-ce58d687315d",
   "metadata": {},
   "outputs": [
    {
     "name": "stdout",
     "output_type": "stream",
     "text": [
      "python is fantastic\n"
     ]
    }
   ],
   "source": [
    "x = \"awesome\"\n",
    "\n",
    "def myfunc():\n",
    "    global x\n",
    "    x = \"fantastic\"\n",
    "\n",
    "myfunc()\n",
    "\n",
    "print(\"python is \" + x)"
   ]
  },
  {
   "cell_type": "markdown",
   "id": "0523f985-bae0-4603-8059-3729f75c4e35",
   "metadata": {},
   "source": [
    "Ex29"
   ]
  },
  {
   "cell_type": "code",
   "execution_count": 137,
   "id": "be5a8a1c-0c49-4a70-9e6f-d39b4d38c905",
   "metadata": {},
   "outputs": [
    {
     "name": "stdout",
     "output_type": "stream",
     "text": [
      "<class 'str'>\n",
      "<class 'int'>\n",
      "<class 'float'>\n",
      "<class 'complex'>\n",
      "<class 'list'>\n",
      "<class 'tuple'>\n",
      "<class 'range'>\n",
      "<class 'dict'>\n",
      "<class 'set'>\n",
      "<class 'frozenset'>\n",
      "<class 'bool'>\n",
      "<class 'bytes'>\n",
      "<class 'bytearray'>\n",
      "<class 'memoryview'>\n",
      "<class 'NoneType'>\n"
     ]
    }
   ],
   "source": [
    "x = \"Hello World\"\n",
    "print(type(x))\n",
    "x = 20\n",
    "print(type(x))\n",
    "x = 20.5\n",
    "print(type(x))\n",
    "x = 1j\n",
    "print(type(x))\n",
    "x = [\"apple\", \"banana\", \"cherry\"]\n",
    "print(type(x))\n",
    "x = (\"apple\", \"banana\", \"cherry\")\n",
    "print(type(x))\n",
    "x = range(6)\n",
    "print(type(x))\n",
    "x = {\"name\" : \"John\", \"age\" : 36}\n",
    "print(type(x))\n",
    "x = {\"apple\", \"banana\", \"cherry\"}\n",
    "print(type(x))\n",
    "x = frozenset({\"apple\", \"banana\", \"cherry\"})\n",
    "print(type(x))\n",
    "x = True\n",
    "print(type(x))\n",
    "x = b\"Hello\"\n",
    "print(type(x))\n",
    "x = bytearray(5)\t\n",
    "print(type(x))\n",
    "x = memoryview(bytes(5))\t\n",
    "print(type(x))\n",
    "x = None\t\n",
    "print(type(x))"
   ]
  },
  {
   "cell_type": "markdown",
   "id": "5823188d-62a9-4ae8-8e5b-6879ed2dde6b",
   "metadata": {},
   "source": [
    "Ex30"
   ]
  },
  {
   "cell_type": "code",
   "execution_count": 142,
   "id": "278dff15-6868-4640-9f98-e15ed06d8c36",
   "metadata": {},
   "outputs": [
    {
     "name": "stdout",
     "output_type": "stream",
     "text": [
      "<class 'int'>\n",
      "<class 'float'>\n",
      "<class 'complex'>\n"
     ]
    }
   ],
   "source": [
    "x = 1    # int\n",
    "y = 2.8  # float\n",
    "z = 1j   # complex\n",
    "print(type(x))\n",
    "print(type(y))\n",
    "print(type(z))"
   ]
  },
  {
   "cell_type": "markdown",
   "id": "e6c7c49a-b483-46c3-ba1f-01bd7548f6ae",
   "metadata": {},
   "source": [
    "Ex31"
   ]
  },
  {
   "cell_type": "code",
   "execution_count": 145,
   "id": "f3dfe9cd-ae20-4674-8466-3c7baa90e0e6",
   "metadata": {},
   "outputs": [
    {
     "name": "stdout",
     "output_type": "stream",
     "text": [
      "<class 'int'>\n",
      "<class 'int'>\n",
      "<class 'int'>\n"
     ]
    }
   ],
   "source": [
    "x = 1\n",
    "y = 35656222554887711\n",
    "z = -3255522\n",
    "print(type(x))\n",
    "print(type(y))\n",
    "print(type(z))"
   ]
  },
  {
   "cell_type": "markdown",
   "id": "c3c48e7f-43fc-44f4-bbcb-9f357fa8bea8",
   "metadata": {},
   "source": [
    "Ex32"
   ]
  },
  {
   "cell_type": "code",
   "execution_count": 148,
   "id": "f9b719b3-aa4c-438f-bf6f-fab41c045050",
   "metadata": {},
   "outputs": [
    {
     "name": "stdout",
     "output_type": "stream",
     "text": [
      "<class 'float'>\n",
      "<class 'float'>\n",
      "<class 'float'>\n"
     ]
    }
   ],
   "source": [
    "x = 1.10\n",
    "y = 1.0\n",
    "z = -35.59\n",
    "print(type(x))\n",
    "print(type(y))\n",
    "print(type(z))"
   ]
  },
  {
   "cell_type": "markdown",
   "id": "7dfbb970-0613-4cef-bf25-8ba7f582e6fe",
   "metadata": {},
   "source": [
    "Ex33"
   ]
  },
  {
   "cell_type": "code",
   "execution_count": 155,
   "id": "6c18a991-acc8-471a-ad55-8b5f6b425cca",
   "metadata": {},
   "outputs": [
    {
     "name": "stdout",
     "output_type": "stream",
     "text": [
      "<class 'float'>\n",
      "<class 'float'>\n",
      "<class 'float'>\n"
     ]
    }
   ],
   "source": [
    "x = 35e3\n",
    "y = 12E4\n",
    "z = -87.7e100\n",
    "print(type(x))\n",
    "print(type(y))\n",
    "print(type(z))"
   ]
  },
  {
   "cell_type": "markdown",
   "id": "f9eecd1c-646b-46e1-8120-ba8d4ff4769b",
   "metadata": {},
   "source": [
    "Ex34"
   ]
  },
  {
   "cell_type": "code",
   "execution_count": 166,
   "id": "5e615699-f01f-4b58-ab5b-cbc43a6e3601",
   "metadata": {},
   "outputs": [
    {
     "name": "stdout",
     "output_type": "stream",
     "text": [
      "<class 'complex'>\n",
      "<class 'complex'>\n",
      "<class 'complex'>\n"
     ]
    }
   ],
   "source": [
    "x = 3+5j\n",
    "y = 5j\n",
    "z = -5j\n",
    "print(type(x))\n",
    "print(type(y))\n",
    "print(type(z))"
   ]
  },
  {
   "cell_type": "markdown",
   "id": "13717315-66e9-4919-9318-80d5de5e148e",
   "metadata": {},
   "source": [
    "Ex35"
   ]
  },
  {
   "cell_type": "code",
   "execution_count": 170,
   "id": "a57b65c4-8da3-4009-a33d-52a78da9d943",
   "metadata": {},
   "outputs": [
    {
     "name": "stdout",
     "output_type": "stream",
     "text": [
      "1.0\n",
      "2\n",
      "(1+0j)\n",
      "<class 'float'>\n",
      "<class 'int'>\n",
      "<class 'complex'>\n"
     ]
    }
   ],
   "source": [
    "x = 1    # int\n",
    "y = 2.8  # float\n",
    "z = 1j   # complex\n",
    "\n",
    "#convert from int to float:\n",
    "a = float(x)\n",
    "\n",
    "#convert from float to int:\n",
    "b = int(y) #int rounding value down\n",
    "\n",
    "#convert from int to complex:\n",
    "c = complex(x)\n",
    "\n",
    "print(a)\n",
    "print(b)\n",
    "print(c)\n",
    "\n",
    "print(type(a))\n",
    "print(type(b))\n",
    "print(type(c))"
   ]
  },
  {
   "cell_type": "markdown",
   "id": "6fd2c54f-dd06-4bb0-aa24-e346d9fc5d66",
   "metadata": {},
   "source": [
    "Ex36"
   ]
  },
  {
   "cell_type": "code",
   "execution_count": 214,
   "id": "3c2f4f8d-8d6e-491c-bcfe-74b855d3bcfe",
   "metadata": {},
   "outputs": [
    {
     "name": "stdout",
     "output_type": "stream",
     "text": [
      "1\n"
     ]
    }
   ],
   "source": [
    "import random \n",
    "print(random.randrange(1,3))"
   ]
  },
  {
   "cell_type": "markdown",
   "id": "0841887a-aa0e-420a-a3d6-2df0998d484c",
   "metadata": {},
   "source": [
    "Ex37"
   ]
  },
  {
   "cell_type": "code",
   "execution_count": 218,
   "id": "dd9cc55a-e357-4dbd-a6e6-8d15dfd53055",
   "metadata": {},
   "outputs": [
    {
     "name": "stdout",
     "output_type": "stream",
     "text": [
      "1\n",
      "2\n",
      "3\n"
     ]
    }
   ],
   "source": [
    "x = int(1)   # x will be 1\n",
    "y = int(2.8) # y will be 2\n",
    "z = int(\"3\") # z will be 3\n",
    "print(x)\n",
    "print(y)\n",
    "print(z)"
   ]
  },
  {
   "cell_type": "markdown",
   "id": "1eb4aace-2b09-4099-bc71-37cad2785076",
   "metadata": {},
   "source": [
    "Ex38"
   ]
  },
  {
   "cell_type": "code",
   "execution_count": 220,
   "id": "3367236e-ed89-4a54-8fe7-1faff2767964",
   "metadata": {},
   "outputs": [
    {
     "name": "stdout",
     "output_type": "stream",
     "text": [
      "1.0\n",
      "2.8\n",
      "3.0\n",
      "4.2\n"
     ]
    }
   ],
   "source": [
    "x = float(1)     # x will be 1.0\n",
    "y = float(2.8)   # y will be 2.8\n",
    "z = float(\"3\")   # z will be 3.0\n",
    "w = float(\"4.2\") # w will be 4.2\n",
    "print(x)\n",
    "print(y)\n",
    "print(z)\n",
    "print(w)"
   ]
  },
  {
   "cell_type": "markdown",
   "id": "c39a443b-ea95-4072-aef4-6da7f5026203",
   "metadata": {},
   "source": [
    "Ex39"
   ]
  },
  {
   "cell_type": "code",
   "execution_count": 222,
   "id": "ad6b713d-5dfd-4ab0-b87b-ad88c403dbc7",
   "metadata": {},
   "outputs": [
    {
     "name": "stdout",
     "output_type": "stream",
     "text": [
      "s1\n",
      "2\n",
      "3.0\n"
     ]
    }
   ],
   "source": [
    "x = str(\"s1\") # x will be 's1'\n",
    "y = str(2)    # y will be '2'\n",
    "z = str(3.0)  # z will be '3.0'\n",
    "print(x)\n",
    "print(y)\n",
    "print(z)"
   ]
  },
  {
   "cell_type": "markdown",
   "id": "83e663d1-e8ad-4745-8e44-89aee57b6426",
   "metadata": {},
   "source": [
    "Ex40"
   ]
  },
  {
   "cell_type": "code",
   "execution_count": 225,
   "id": "52a5180d-cc93-4d36-aa6c-0ba5faac67bd",
   "metadata": {},
   "outputs": [
    {
     "name": "stdout",
     "output_type": "stream",
     "text": [
      "Hello\n",
      "Hello\n"
     ]
    }
   ],
   "source": [
    "print(\"Hello\")\n",
    "print('Hello')"
   ]
  },
  {
   "cell_type": "markdown",
   "id": "10aa986a-4833-4560-b57d-35bf7b2bc12e",
   "metadata": {},
   "source": [
    "Ex41"
   ]
  },
  {
   "cell_type": "code",
   "execution_count": 227,
   "id": "c9523360-7eda-4698-bc28-7623bcf93a7b",
   "metadata": {},
   "outputs": [
    {
     "name": "stdout",
     "output_type": "stream",
     "text": [
      "It's alright\n",
      "He is called 'Johnny'\n",
      "He is called \"Johnny\"\n"
     ]
    }
   ],
   "source": [
    "print(\"It's alright\")\n",
    "print(\"He is called 'Johnny'\")\n",
    "print('He is called \"Johnny\"')"
   ]
  },
  {
   "cell_type": "markdown",
   "id": "24f929a3-e7d0-4d24-a680-5031f2cc5c7e",
   "metadata": {},
   "source": [
    "Ex42"
   ]
  },
  {
   "cell_type": "code",
   "execution_count": null,
   "id": "acf8843e-70b2-482f-bf6d-25ab32645dc9",
   "metadata": {},
   "outputs": [],
   "source": [
    "a = \"Hello\"\n",
    "print(a)"
   ]
  },
  {
   "cell_type": "markdown",
   "id": "c6bccd54-3ead-4541-ac9c-d756de8fb8cb",
   "metadata": {},
   "source": [
    "Ex43"
   ]
  },
  {
   "cell_type": "code",
   "execution_count": 229,
   "id": "27a174d1-68ea-458a-99ce-7a38e4f00ecf",
   "metadata": {},
   "outputs": [
    {
     "name": "stdout",
     "output_type": "stream",
     "text": [
      "Lorem ipsum dolor sit amet,\n",
      "consectetur adipiscing elit,\n",
      "sed do eiusmod tempor incididunt\n",
      "ut labore et dolore magna aliqua.\n"
     ]
    }
   ],
   "source": [
    "a = \"\"\"Lorem ipsum dolor sit amet,\n",
    "consectetur adipiscing elit,\n",
    "sed do eiusmod tempor incididunt\n",
    "ut labore et dolore magna aliqua.\"\"\"\n",
    "print(a)"
   ]
  },
  {
   "cell_type": "markdown",
   "id": "a867374d-1406-4c7b-ae59-dcc9a41d679d",
   "metadata": {},
   "source": [
    "Ex44"
   ]
  },
  {
   "cell_type": "code",
   "execution_count": 234,
   "id": "f235f76c-fbca-406e-9c87-39f802129f55",
   "metadata": {},
   "outputs": [
    {
     "name": "stdout",
     "output_type": "stream",
     "text": [
      "Lorem ipsum dolor sit amet,\n",
      "consectetur adipiscing elit,\n",
      "sed do eiusmod tempor incididunt\n",
      "ut labore et dolore magna aliqua.\n"
     ]
    }
   ],
   "source": [
    "a = '''Lorem ipsum dolor sit amet,\n",
    "consectetur adipiscing elit,\n",
    "sed do eiusmod tempor incididunt\n",
    "ut labore et dolore magna aliqua.'''\n",
    "print(a)"
   ]
  },
  {
   "cell_type": "markdown",
   "id": "da4eec65-ab9f-41a2-aed9-f6c2027d4e9d",
   "metadata": {},
   "source": [
    "Ex45"
   ]
  },
  {
   "cell_type": "code",
   "execution_count": 237,
   "id": "767bacb2-3270-4b8f-ad08-fe1fc3a8a20d",
   "metadata": {},
   "outputs": [
    {
     "name": "stdout",
     "output_type": "stream",
     "text": [
      "e\n"
     ]
    }
   ],
   "source": [
    "a = \"Hello, World!\"\n",
    "print(a[1])"
   ]
  },
  {
   "cell_type": "markdown",
   "id": "46fcc8d4-ac81-4f24-b4de-e5d0eaaebf03",
   "metadata": {},
   "source": [
    "Ex47"
   ]
  },
  {
   "cell_type": "code",
   "execution_count": 240,
   "id": "c424661d-2972-40f2-bd0c-2c0c9c0dc10e",
   "metadata": {},
   "outputs": [
    {
     "name": "stdout",
     "output_type": "stream",
     "text": [
      "b\n",
      "a\n",
      "n\n",
      "a\n",
      "n\n",
      "a\n"
     ]
    }
   ],
   "source": [
    "for x in \"banana\":\n",
    "  print(x)"
   ]
  },
  {
   "cell_type": "markdown",
   "id": "cb742093-b23f-4882-8816-04f3de32454b",
   "metadata": {},
   "source": [
    "Ex48"
   ]
  },
  {
   "cell_type": "code",
   "execution_count": 242,
   "id": "83870832-f8cb-4ffd-90b7-c18be0267f58",
   "metadata": {},
   "outputs": [
    {
     "name": "stdout",
     "output_type": "stream",
     "text": [
      "13\n"
     ]
    }
   ],
   "source": [
    "a = \"Hello, World!\"\n",
    "print(len(a))"
   ]
  },
  {
   "cell_type": "markdown",
   "id": "b589f763-6b66-477f-993c-396cd7347d88",
   "metadata": {},
   "source": [
    "Ex49"
   ]
  },
  {
   "cell_type": "code",
   "execution_count": 245,
   "id": "015f0f86-8712-4343-8539-b52b09fa6353",
   "metadata": {},
   "outputs": [
    {
     "name": "stdout",
     "output_type": "stream",
     "text": [
      "True\n"
     ]
    }
   ],
   "source": [
    "txt = \"The best things in life are free!\"\n",
    "print(\"free\" in txt)"
   ]
  },
  {
   "cell_type": "markdown",
   "id": "3ef340df-7b06-4db7-bcb0-a7ed9899c1d3",
   "metadata": {},
   "source": [
    "Ex50"
   ]
  },
  {
   "cell_type": "code",
   "execution_count": 248,
   "id": "09467240-9d35-46dc-a16b-c838fcff0481",
   "metadata": {},
   "outputs": [
    {
     "name": "stdout",
     "output_type": "stream",
     "text": [
      "Yes,'free' is present\n"
     ]
    }
   ],
   "source": [
    "txt = \"The best things in life are free!\"\n",
    "if \"free\" in txt:\n",
    "  print(\"Yes,'free' is present\")"
   ]
  },
  {
   "cell_type": "markdown",
   "id": "3583f70f-6950-472e-b853-1d0e32395891",
   "metadata": {},
   "source": [
    "Ex51"
   ]
  },
  {
   "cell_type": "code",
   "execution_count": 251,
   "id": "bcb39e70-1099-41a3-b61c-86c36ccc6663",
   "metadata": {},
   "outputs": [
    {
     "name": "stdout",
     "output_type": "stream",
     "text": [
      "True\n"
     ]
    }
   ],
   "source": [
    "txt = \"The best things in life are free!\"\n",
    "print(\"expensive\" not in txt)"
   ]
  },
  {
   "cell_type": "markdown",
   "id": "6b1da994-f959-4e7a-98c0-6763b1bd17ea",
   "metadata": {},
   "source": [
    "Ex52"
   ]
  },
  {
   "cell_type": "code",
   "execution_count": 256,
   "id": "fd6dcea0-f871-4243-8b2c-dc41e64773e9",
   "metadata": {},
   "outputs": [
    {
     "name": "stdout",
     "output_type": "stream",
     "text": [
      "No,'expensive' is NOT present.\n"
     ]
    }
   ],
   "source": [
    "txt = \"The best things in life are free!\"\n",
    "if \"expensive\" not in txt:\n",
    "  print(\"No,'expensive' is NOT present.\")"
   ]
  },
  {
   "cell_type": "markdown",
   "id": "4274d316-2777-4acf-bba4-f8518cfecc5e",
   "metadata": {},
   "source": [
    "Ex53"
   ]
  },
  {
   "cell_type": "code",
   "execution_count": 261,
   "id": "e90f1eb8-f559-4ef4-bb85-e8eaf092250a",
   "metadata": {},
   "outputs": [
    {
     "name": "stdout",
     "output_type": "stream",
     "text": [
      "llo\n"
     ]
    }
   ],
   "source": [
    "b = \"Hello, World!\"\n",
    "print(b[2:5])  #not included"
   ]
  },
  {
   "cell_type": "markdown",
   "id": "8c8fdecb-2327-4c6b-af38-800b6ceba4d4",
   "metadata": {},
   "source": [
    "Ex54"
   ]
  },
  {
   "cell_type": "code",
   "execution_count": 264,
   "id": "999f9051-ed6f-4e85-99af-ccd8a0b33c4f",
   "metadata": {},
   "outputs": [
    {
     "name": "stdout",
     "output_type": "stream",
     "text": [
      "Hello\n"
     ]
    }
   ],
   "source": [
    "b = \"Hello, World!\"\n",
    "print(b[:5]) #not included"
   ]
  },
  {
   "cell_type": "markdown",
   "id": "73800043-d2c8-4858-bd6d-1b4bcf734aaf",
   "metadata": {},
   "source": [
    "Ex55"
   ]
  },
  {
   "cell_type": "code",
   "execution_count": 267,
   "id": "a2e20feb-76a2-4296-9e24-c20b42a87750",
   "metadata": {},
   "outputs": [
    {
     "name": "stdout",
     "output_type": "stream",
     "text": [
      "llo, World!\n"
     ]
    }
   ],
   "source": [
    "b = \"Hello, World!\"\n",
    "print(b[2:])"
   ]
  },
  {
   "cell_type": "markdown",
   "id": "11ace30f-ee8b-4aaa-9848-cddd7042bca5",
   "metadata": {},
   "source": [
    "Ex56"
   ]
  },
  {
   "cell_type": "code",
   "execution_count": 272,
   "id": "d5424a03-8459-4906-94b8-ceaaf9ca72aa",
   "metadata": {},
   "outputs": [
    {
     "name": "stdout",
     "output_type": "stream",
     "text": [
      "orl\n"
     ]
    }
   ],
   "source": [
    "b = \"Hello, World!\"\n",
    "print(b[-5:-2]) #negative index starts from the end"
   ]
  },
  {
   "cell_type": "markdown",
   "id": "d87847e3-5d08-488b-b578-64c20b28e09b",
   "metadata": {},
   "source": [
    "Ex57"
   ]
  },
  {
   "cell_type": "code",
   "execution_count": 1,
   "id": "b73d55b4-adfb-4477-aaad-8a887ef6aec7",
   "metadata": {},
   "outputs": [
    {
     "name": "stdout",
     "output_type": "stream",
     "text": [
      "HELLO, WORLD!\n"
     ]
    }
   ],
   "source": [
    "a = \"Hello, World!\"\n",
    "print(a.upper())"
   ]
  },
  {
   "cell_type": "markdown",
   "id": "400a5777-48c7-4cd3-86e6-9185c4d90a28",
   "metadata": {},
   "source": [
    "Ex58"
   ]
  },
  {
   "cell_type": "code",
   "execution_count": 3,
   "id": "ba632296-7373-4f18-a15b-f91e618ba5a0",
   "metadata": {},
   "outputs": [
    {
     "name": "stdout",
     "output_type": "stream",
     "text": [
      "hello, world!\n"
     ]
    }
   ],
   "source": [
    "a = \"Hello, World!\"\n",
    "print(a.lower())"
   ]
  },
  {
   "cell_type": "markdown",
   "id": "566a810a-49fc-4c45-936f-93854890b78d",
   "metadata": {},
   "source": [
    "Ex59"
   ]
  },
  {
   "cell_type": "code",
   "execution_count": 7,
   "id": "065cd23e-6a25-4cda-9c8f-ec195eb5f1af",
   "metadata": {},
   "outputs": [
    {
     "name": "stdout",
     "output_type": "stream",
     "text": [
      "Hello, World!\n"
     ]
    }
   ],
   "source": [
    "a = \" Hello, World! \"\n",
    "print(a.strip()) #remove empty space from beginning or the end"
   ]
  },
  {
   "cell_type": "markdown",
   "id": "77082a5b-fe05-438b-8c22-f8b8a22890af",
   "metadata": {},
   "source": [
    "Ex60"
   ]
  },
  {
   "cell_type": "code",
   "execution_count": 10,
   "id": "5f882c1f-6e13-46a5-86ae-b15b30ccc0d7",
   "metadata": {},
   "outputs": [
    {
     "name": "stdout",
     "output_type": "stream",
     "text": [
      "Jello, World!\n"
     ]
    }
   ],
   "source": [
    "a = \"Hello, World!\"\n",
    "print(a.replace(\"H\", \"J\"))"
   ]
  },
  {
   "cell_type": "markdown",
   "id": "3ab9df7d-f7ac-448d-86ce-6940886862a6",
   "metadata": {},
   "source": [
    "Ex61"
   ]
  },
  {
   "cell_type": "code",
   "execution_count": 18,
   "id": "69727d31-6e0b-4cd4-ad6f-521236723e71",
   "metadata": {},
   "outputs": [
    {
     "name": "stdout",
     "output_type": "stream",
     "text": [
      "['Hello', ' World!']\n"
     ]
    }
   ],
   "source": [
    "a = \"Hello, World!\"\n",
    "print(a.split(\",\")) #splits string into two parts before and after the argument"
   ]
  },
  {
   "cell_type": "markdown",
   "id": "dfcf7422-76c4-4915-9883-27acd5643975",
   "metadata": {},
   "source": [
    "Ex62"
   ]
  },
  {
   "cell_type": "code",
   "execution_count": 20,
   "id": "495363b4-a1d3-4aa1-b990-d5cd175c672a",
   "metadata": {},
   "outputs": [
    {
     "name": "stdout",
     "output_type": "stream",
     "text": [
      "HelloWorld\n"
     ]
    }
   ],
   "source": [
    "a = \"Hello\"\n",
    "b = \"World\"\n",
    "c = a + b\n",
    "print(c)"
   ]
  },
  {
   "cell_type": "markdown",
   "id": "8b03ae70-704a-4344-a090-1921775038cc",
   "metadata": {},
   "source": [
    "Ex63"
   ]
  },
  {
   "cell_type": "code",
   "execution_count": 23,
   "id": "5b049705-9647-4ac0-ac3e-0cc4798fcd26",
   "metadata": {},
   "outputs": [
    {
     "name": "stdout",
     "output_type": "stream",
     "text": [
      "Hello World\n"
     ]
    }
   ],
   "source": [
    "a = \"Hello\"\n",
    "b = \"World\"\n",
    "c = a + \" \" + b\n",
    "print(c)"
   ]
  },
  {
   "cell_type": "markdown",
   "id": "3c2057b4-8187-47d3-a22b-154bc7438a9f",
   "metadata": {},
   "source": [
    "Ex64"
   ]
  },
  {
   "cell_type": "code",
   "execution_count": 2,
   "id": "a6faf38c-b845-4e63-9485-7b4f1fda77a8",
   "metadata": {},
   "outputs": [
    {
     "name": "stdout",
     "output_type": "stream",
     "text": [
      "My name is John, I am 36\n"
     ]
    }
   ],
   "source": [
    "age = 36\n",
    "txt = f\"My name is John, I am {age}\"\n",
    "print(txt)"
   ]
  },
  {
   "cell_type": "markdown",
   "id": "80ca241b-399f-473d-82a9-5149d40cf874",
   "metadata": {},
   "source": [
    "Ex65"
   ]
  },
  {
   "cell_type": "code",
   "execution_count": 5,
   "id": "65e9c481-d73c-4128-ae6e-6dc5a767b0df",
   "metadata": {},
   "outputs": [
    {
     "name": "stdout",
     "output_type": "stream",
     "text": [
      "The price is 59 dollars\n"
     ]
    }
   ],
   "source": [
    "price = 59\n",
    "txt = f\"The price is {59} dollars\"\n",
    "print(txt)"
   ]
  },
  {
   "cell_type": "markdown",
   "id": "9be2a7c2-e7de-48ff-aea1-38154876db2e",
   "metadata": {},
   "source": [
    "Ex66"
   ]
  },
  {
   "cell_type": "code",
   "execution_count": 8,
   "id": "f6016f43-ac36-466b-9071-788ab526ecdc",
   "metadata": {},
   "outputs": [
    {
     "name": "stdout",
     "output_type": "stream",
     "text": [
      "The price is 59.00 dollars\n"
     ]
    }
   ],
   "source": [
    "price = 59\n",
    "txt = f\"The price is {price:.2f} dollars\"\n",
    "print(txt)"
   ]
  },
  {
   "cell_type": "markdown",
   "id": "dc8da2e6-e15e-4992-9a3e-c45f91391cba",
   "metadata": {},
   "source": [
    "Ex67"
   ]
  },
  {
   "cell_type": "code",
   "execution_count": 11,
   "id": "110cd0a4-16eb-4b07-b32e-3502a2315ff1",
   "metadata": {},
   "outputs": [
    {
     "name": "stdout",
     "output_type": "stream",
     "text": [
      "The price is 1180 dollars\n"
     ]
    }
   ],
   "source": [
    "txt = f\"The price is {20*59} dollars\"\n",
    "print(txt)"
   ]
  },
  {
   "cell_type": "markdown",
   "id": "e181ea28-da10-4630-862b-d38f3b7e2eb5",
   "metadata": {},
   "source": [
    "Ex68"
   ]
  },
  {
   "cell_type": "code",
   "execution_count": 18,
   "id": "c6e24d78-1230-4cc7-9d6c-3ef3a0a7d89c",
   "metadata": {},
   "outputs": [
    {
     "name": "stdout",
     "output_type": "stream",
     "text": [
      "We the so-called \"Vikings\" from the north.\n"
     ]
    }
   ],
   "source": [
    "txt = \"We the so-called \\\"Vikings\\\" from the north.\"\n",
    "print(txt)"
   ]
  },
  {
   "cell_type": "markdown",
   "id": "417a6443-b539-42b2-bc83-63ae1356289a",
   "metadata": {},
   "source": [
    "Ex69"
   ]
  },
  {
   "cell_type": "code",
   "execution_count": 25,
   "id": "5dfd6d6f-6913-4f2b-a68f-375ae55a6ab3",
   "metadata": {},
   "outputs": [
    {
     "name": "stdout",
     "output_type": "stream",
     "text": [
      "pencil\n"
     ]
    }
   ],
   "source": [
    "mydict = {83:  80}\n",
    "txt = \"pencil\"\n",
    "print(txt.translate(mydict))"
   ]
  },
  {
   "cell_type": "markdown",
   "id": "44fa1d44-36d7-4383-b593-7bee3fe8f42c",
   "metadata": {},
   "source": [
    "Ex70"
   ]
  },
  {
   "cell_type": "code",
   "execution_count": 29,
   "id": "2b6f1865-6f67-4a26-9f4a-2c2d782adea9",
   "metadata": {},
   "outputs": [
    {
     "name": "stdout",
     "output_type": "stream",
     "text": [
      "bekzat\n"
     ]
    }
   ],
   "source": [
    "txt = \"BEKZAT\"\n",
    "print(txt.casefold())"
   ]
  }
 ],
 "metadata": {
  "kernelspec": {
   "display_name": "Python [conda env:base] *",
   "language": "python",
   "name": "conda-base-py"
  },
  "language_info": {
   "codemirror_mode": {
    "name": "ipython",
    "version": 3
   },
   "file_extension": ".py",
   "mimetype": "text/x-python",
   "name": "python",
   "nbconvert_exporter": "python",
   "pygments_lexer": "ipython3",
   "version": "3.12.7"
  }
 },
 "nbformat": 4,
 "nbformat_minor": 5
}
