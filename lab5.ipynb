{
 "cells": [
  {
   "cell_type": "markdown",
   "id": "c274e277-9746-4783-bb4e-20cf98e91be9",
   "metadata": {},
   "source": [
    "Ex1"
   ]
  },
  {
   "cell_type": "code",
   "execution_count": 5,
   "id": "079dc949-0902-41d1-af32-53b574300424",
   "metadata": {},
   "outputs": [
    {
     "name": "stdout",
     "output_type": "stream",
     "text": [
      "ab ba bb aab abba abab\n"
     ]
    }
   ],
   "source": [
    "import re\n",
    "s = \"ab ba bb aab abba abab\"\n",
    "pattern = re.findall(r\"ab*\",s)\n",
    "print(s)"
   ]
  },
  {
   "cell_type": "markdown",
   "id": "8d220e98-eeb3-4e67-8458-0bada225554b",
   "metadata": {},
   "source": [
    "Ex2"
   ]
  },
  {
   "cell_type": "code",
   "execution_count": 17,
   "id": "bd0b7f15-d793-4251-aa0f-a319a1c2ff2e",
   "metadata": {},
   "outputs": [
    {
     "name": "stdin",
     "output_type": "stream",
     "text": [
      " abbba\n"
     ]
    },
    {
     "name": "stdout",
     "output_type": "stream",
     "text": [
      "Yes, it matches!\n"
     ]
    },
    {
     "name": "stdin",
     "output_type": "stream",
     "text": [
      " abab\n"
     ]
    }
   ],
   "source": [
    "import re\n",
    "while True:\n",
    "    s=input()\n",
    "    p = r\"ab{2,3}\"\n",
    "    check = re.search(pattern,s)\n",
    "    if check:\n",
    "        print(\"Yes, it matches!\")\n",
    "    else:\n",
    "        break"
   ]
  },
  {
   "cell_type": "code",
   "execution_count": 19,
   "id": "bf4e30a1-2f27-46cf-8b9f-839c187e553c",
   "metadata": {},
   "outputs": [
    {
     "name": "stdout",
     "output_type": "stream",
     "text": [
      "5\n"
     ]
    }
   ],
   "source": [
    "print(5)"
   ]
  },
  {
   "cell_type": "markdown",
   "id": "b2f38224-470a-446d-8dd8-78a264b93831",
   "metadata": {},
   "source": [
    "Ex3"
   ]
  },
  {
   "cell_type": "code",
   "execution_count": 57,
   "id": "4c93c120-1ce7-4c4a-9533-98b536daf14f",
   "metadata": {},
   "outputs": [
    {
     "name": "stdin",
     "output_type": "stream",
     "text": [
      " word_hello_world_\n"
     ]
    },
    {
     "name": "stdout",
     "output_type": "stream",
     "text": [
      "Yes,it matches\n"
     ]
    },
    {
     "name": "stdin",
     "output_type": "stream",
     "text": [
      " word_\n"
     ]
    }
   ],
   "source": [
    "import re \n",
    "while True:\n",
    "    s=input()\n",
    "    p=r'[a-z]+(_[a-z]+)+'\n",
    "    ch=re.findall(p,s)\n",
    "    if ch:\n",
    "        print(\"Yes,it matches\")\n",
    "    else:\n",
    "        break"
   ]
  },
  {
   "cell_type": "markdown",
   "id": "aaa6cdd1-c724-47a3-b50e-14bf16f6858b",
   "metadata": {},
   "source": [
    "Ex4"
   ]
  },
  {
   "cell_type": "code",
   "execution_count": 5,
   "id": "b8b277fc-4566-49fd-b600-661fb7854eb3",
   "metadata": {},
   "outputs": [
    {
     "name": "stdin",
     "output_type": "stream",
     "text": [
      " Beka\n"
     ]
    },
    {
     "name": "stdout",
     "output_type": "stream",
     "text": [
      "Yes,it matches\n"
     ]
    },
    {
     "name": "stdin",
     "output_type": "stream",
     "text": [
      " beka\n"
     ]
    }
   ],
   "source": [
    "import re \n",
    "while True:\n",
    "    s=input()\n",
    "    p=r'[A-Z][a-z]+'\n",
    "    ch=re.findall(p,s)\n",
    "    if ch:\n",
    "        print(\"Yes,it matches\")\n",
    "    else:\n",
    "        break"
   ]
  },
  {
   "cell_type": "markdown",
   "id": "7a18a467-5b3e-4ec7-993c-50dbeaad57a2",
   "metadata": {},
   "source": [
    "Ex5"
   ]
  },
  {
   "cell_type": "code",
   "execution_count": 7,
   "id": "0fe82e26-1b37-43b3-8c48-e393a3b6bf25",
   "metadata": {},
   "outputs": [
    {
     "name": "stdin",
     "output_type": "stream",
     "text": [
      " acvbcdb\n"
     ]
    },
    {
     "name": "stdout",
     "output_type": "stream",
     "text": [
      "Yes,it matches\n"
     ]
    },
    {
     "name": "stdin",
     "output_type": "stream",
     "text": [
      " acv\n"
     ]
    }
   ],
   "source": [
    "import re \n",
    "while True:\n",
    "    s=input()\n",
    "    p=r'a.*b'\n",
    "    ch=re.findall(p,s)\n",
    "    if ch:\n",
    "        print(\"Yes,it matches\")\n",
    "    else:\n",
    "        break"
   ]
  },
  {
   "cell_type": "markdown",
   "id": "058d5b9a-9a7b-4c0b-ad6f-90e7a26061cd",
   "metadata": {},
   "source": [
    "Ex6"
   ]
  },
  {
   "cell_type": "code",
   "execution_count": 17,
   "id": "b4bacfb7-a185-4714-8b2f-cc85ad0a48cf",
   "metadata": {},
   "outputs": [
    {
     "name": "stdin",
     "output_type": "stream",
     "text": [
      " beka hello, world\n"
     ]
    },
    {
     "name": "stdout",
     "output_type": "stream",
     "text": [
      "beka:hello::world\n"
     ]
    }
   ],
   "source": [
    "import re \n",
    "s=input()\n",
    "p=r'[ ,.]'\n",
    "ch=re.sub(p,\":\",s)\n",
    "print(ch)"
   ]
  },
  {
   "cell_type": "markdown",
   "id": "22fb049b-aca8-474d-848d-1fd192f385c6",
   "metadata": {},
   "source": [
    "Ex7"
   ]
  },
  {
   "cell_type": "code",
   "execution_count": 26,
   "id": "a1bdc09b-23bd-4b09-b811-8f7dbc6f8b55",
   "metadata": {},
   "outputs": [
    {
     "name": "stdin",
     "output_type": "stream",
     "text": [
      " Beka_camel_string\n"
     ]
    },
    {
     "name": "stdout",
     "output_type": "stream",
     "text": [
      "bekaCamelString\n"
     ]
    }
   ],
   "source": [
    "s=input()\n",
    "word=s.split(\"_\")\n",
    "print(word[0].lower() + ''.join(i.capitalize() for i in word[1:]))"
   ]
  },
  {
   "cell_type": "markdown",
   "id": "04642294-6c97-4acd-aec9-9fedd6d29499",
   "metadata": {},
   "source": [
    "Ex8"
   ]
  },
  {
   "cell_type": "code",
   "execution_count": 35,
   "id": "edfdc137-0446-4bcd-8ca5-2db0936832ca",
   "metadata": {},
   "outputs": [
    {
     "name": "stdin",
     "output_type": "stream",
     "text": [
      " ThisIsAString\n"
     ]
    },
    {
     "name": "stdout",
     "output_type": "stream",
     "text": [
      "['This', 'Is', 'A', 'String']\n"
     ]
    }
   ],
   "source": [
    "import re\n",
    "s=input()\n",
    "word=re.split(r'(?=[A-Z])',s)\n",
    "print(word[1:])"
   ]
  },
  {
   "cell_type": "markdown",
   "id": "ebfacb0c-c55c-40a2-a11e-253ad7428b6c",
   "metadata": {},
   "source": [
    "Ex9"
   ]
  },
  {
   "cell_type": "code",
   "execution_count": 45,
   "id": "e98e2b00-ebc7-4e96-ae6a-d829c21fed9d",
   "metadata": {},
   "outputs": [
    {
     "name": "stdin",
     "output_type": "stream",
     "text": [
      " BekaHelloWorld\n"
     ]
    },
    {
     "name": "stdout",
     "output_type": "stream",
     "text": [
      "Beka Hello World\n"
     ]
    }
   ],
   "source": [
    "s=input()\n",
    "res = s[0]  \n",
    "for i in range(1, len(s)):\n",
    "    if s[i].isupper():\n",
    "        res += ' '  \n",
    "    res += s[i]\n",
    "print(res)"
   ]
  },
  {
   "cell_type": "markdown",
   "id": "9f615c11-4321-43c0-a7af-da42c187067f",
   "metadata": {},
   "source": [
    "Ex10"
   ]
  },
  {
   "cell_type": "code",
   "execution_count": 51,
   "id": "62d0da98-e841-43e4-8e79-2a34c6b0cb2a",
   "metadata": {},
   "outputs": [
    {
     "name": "stdin",
     "output_type": "stream",
     "text": [
      " thisIsCamelCaseString\n"
     ]
    },
    {
     "name": "stdout",
     "output_type": "stream",
     "text": [
      "this_is_camel_case_string\n"
     ]
    }
   ],
   "source": [
    "s=input()\n",
    "sns=[s[0].lower()]\n",
    "for i in s[1:]:\n",
    "    if i.isupper():\n",
    "        sns.append('_')\n",
    "        sns.append(i.lower())\n",
    "    else:\n",
    "        sns.append(i)\n",
    "print(''.join(sns))"
   ]
  },
  {
   "cell_type": "code",
   "execution_count": null,
   "id": "2fb24a6d-cb91-477c-a988-1ea225729905",
   "metadata": {},
   "outputs": [],
   "source": []
  }
 ],
 "metadata": {
  "kernelspec": {
   "display_name": "Python [conda env:base] *",
   "language": "python",
   "name": "conda-base-py"
  },
  "language_info": {
   "codemirror_mode": {
    "name": "ipython",
    "version": 3
   },
   "file_extension": ".py",
   "mimetype": "text/x-python",
   "name": "python",
   "nbconvert_exporter": "python",
   "pygments_lexer": "ipython3",
   "version": "3.12.7"
  }
 },
 "nbformat": 4,
 "nbformat_minor": 5
}
