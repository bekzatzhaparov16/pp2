{
 "cells": [
  {
   "cell_type": "markdown",
   "id": "7c5ffc3a-c398-47a4-bec3-fa4ec8cb78e0",
   "metadata": {},
   "source": [
    "Ex1"
   ]
  },
  {
   "cell_type": "code",
   "execution_count": 11,
   "id": "8f485611-c078-4a65-86cf-1f8920457bcf",
   "metadata": {},
   "outputs": [
    {
     "name": "stdout",
     "output_type": "stream",
     "text": [
      "2025-02-06 21:27:06.234573\n"
     ]
    }
   ],
   "source": [
    "from datetime import datetime, timedelta\n",
    "x = datetime.now()\n",
    "y = x - timedelta(days=5)\n",
    "print(y)"
   ]
  },
  {
   "cell_type": "markdown",
   "id": "aba9d118-7106-4430-8e78-2bbf52b18f2c",
   "metadata": {},
   "source": [
    "Ex2"
   ]
  },
  {
   "cell_type": "code",
   "execution_count": 21,
   "id": "58449f70-79bc-4ad7-96ef-2b104c11fb25",
   "metadata": {},
   "outputs": [
    {
     "name": "stdout",
     "output_type": "stream",
     "text": [
      "10\n",
      "11\n",
      "12\n"
     ]
    }
   ],
   "source": [
    "from datetime import datetime, timedelta\n",
    "x = datetime.now()\n",
    "y = x - timedelta(days=1)\n",
    "t = x + timedelta(days=1)\n",
    "print(y.strftime('%d'))\n",
    "print(x.strftime('%d'))\n",
    "print(t.strftime('%d'))"
   ]
  },
  {
   "cell_type": "markdown",
   "id": "ae488aa1-5f27-4bf9-b849-13ec54d2e494",
   "metadata": {},
   "source": [
    "Ex3"
   ]
  },
  {
   "cell_type": "code",
   "execution_count": 33,
   "id": "9dbed66a-2d64-49dd-b537-58ca93dc71a4",
   "metadata": {},
   "outputs": [
    {
     "name": "stdout",
     "output_type": "stream",
     "text": [
      "2025-02-11 21:32:37\n"
     ]
    }
   ],
   "source": [
    "from datetime import datetime, timedelta\n",
    "x = datetime.now()\n",
    "print(x.strftime('%Y-%m-%d %H:%M:%S'))"
   ]
  },
  {
   "cell_type": "markdown",
   "id": "58991a5e-6b95-4e38-b940-a4ff70783c76",
   "metadata": {},
   "source": [
    "Ex4"
   ]
  },
  {
   "cell_type": "code",
   "execution_count": 38,
   "id": "20910405-3fde-4cd0-b894-d5c169b3cd39",
   "metadata": {},
   "outputs": [
    {
     "name": "stdout",
     "output_type": "stream",
     "text": [
      "172800.0\n"
     ]
    }
   ],
   "source": [
    "from datetime import datetime\n",
    "x = \"2025-02-11\"\n",
    "y = \"2025-02-09\"\n",
    "dx = datetime.strptime(x,'%Y-%m-%d')\n",
    "dy = datetime.strptime(y,'%Y-%m-%d')\n",
    "df = dx - dy\n",
    "ds = df.total_seconds()\n",
    "print(ds)"
   ]
  },
  {
   "cell_type": "markdown",
   "id": "e69fc425-b394-45f7-9bdf-936d26d0b672",
   "metadata": {},
   "source": [
    "Ex5"
   ]
  },
  {
   "cell_type": "code",
   "execution_count": 47,
   "id": "59005138-5517-49ec-a41e-c368f869f8ff",
   "metadata": {},
   "outputs": [
    {
     "name": "stdout",
     "output_type": "stream",
     "text": [
      "0\n",
      "1\n",
      "4\n",
      "9\n",
      "16\n",
      "25\n"
     ]
    }
   ],
   "source": [
    "def sqr(n):\n",
    "    for i in range(n+1):\n",
    "        yield i**2\n",
    "\n",
    "x = sqr(5)\n",
    "for i in x:\n",
    "    print(i)"
   ]
  },
  {
   "cell_type": "markdown",
   "id": "31fcd39b-5cd0-439f-9ec1-d8e07ea439d8",
   "metadata": {},
   "source": [
    "Ex6"
   ]
  },
  {
   "cell_type": "code",
   "execution_count": 56,
   "id": "469ed996-c301-4cd6-9657-65e09326a2de",
   "metadata": {},
   "outputs": [
    {
     "name": "stdin",
     "output_type": "stream",
     "text": [
      " 10\n"
     ]
    },
    {
     "name": "stdout",
     "output_type": "stream",
     "text": [
      "[0, 2, 4, 6, 8, 10]\n"
     ]
    }
   ],
   "source": [
    "def ev(n):\n",
    "    for i in range(n+1):\n",
    "        if i%2==0:\n",
    "            yield i\n",
    "\n",
    "n = int(input())\n",
    "evgen = ev(n)\n",
    "ans=[]\n",
    "for i in evgen:\n",
    "    ans.append(i)\n",
    "print(ans)"
   ]
  },
  {
   "cell_type": "markdown",
   "id": "266c8121-3f84-4b50-bf92-324fc7f3953d",
   "metadata": {},
   "source": [
    "Ex7"
   ]
  },
  {
   "cell_type": "code",
   "execution_count": 61,
   "id": "972f0c1c-c403-4150-8ee6-c33ce2308833",
   "metadata": {},
   "outputs": [
    {
     "name": "stdout",
     "output_type": "stream",
     "text": [
      "0\n",
      "12\n",
      "24\n"
     ]
    }
   ],
   "source": [
    "def th_f(n):\n",
    "    for i in range(n+1):\n",
    "        if i%3==0 and i%4==0:\n",
    "            yield i\n",
    "\n",
    "x = th_f(30)\n",
    "for i in x:\n",
    "    print(i)"
   ]
  },
  {
   "cell_type": "markdown",
   "id": "666a2079-89c3-44f5-8902-38a5573105e0",
   "metadata": {},
   "source": [
    "Ex8"
   ]
  },
  {
   "cell_type": "code",
   "execution_count": 73,
   "id": "cf9dac30-e687-4f3b-9bd5-b7cdd0bdb047",
   "metadata": {},
   "outputs": [
    {
     "name": "stdin",
     "output_type": "stream",
     "text": [
      " 4\n",
      " 10\n"
     ]
    },
    {
     "name": "stdout",
     "output_type": "stream",
     "text": [
      "16\n",
      "25\n",
      "36\n",
      "49\n",
      "64\n",
      "81\n",
      "100\n"
     ]
    }
   ],
   "source": [
    "def squares(a,b):\n",
    "    for i in range(a,b+1):\n",
    "        yield i**2\n",
    "\n",
    "a = int(input())\n",
    "b = int(input())\n",
    "x = squares(a,b)\n",
    "for i in x:\n",
    "    print(i)"
   ]
  },
  {
   "cell_type": "markdown",
   "id": "8712b104-93ae-45fe-afd6-5d119dbb3e0a",
   "metadata": {},
   "source": [
    "Ex9"
   ]
  },
  {
   "cell_type": "code",
   "execution_count": 79,
   "id": "e89421ae-2bb0-437c-9352-dab08f12c26c",
   "metadata": {},
   "outputs": [
    {
     "name": "stdout",
     "output_type": "stream",
     "text": [
      "10\n",
      "9\n",
      "8\n",
      "7\n",
      "6\n",
      "5\n",
      "4\n",
      "3\n",
      "2\n",
      "1\n",
      "0\n"
     ]
    }
   ],
   "source": [
    "def func(n):\n",
    "    for i in range(n,-1,-1):\n",
    "        yield i\n",
    "\n",
    "x = func(10)\n",
    "for i in x:\n",
    "    print(i)"
   ]
  },
  {
   "cell_type": "markdown",
   "id": "6f996757-dc7d-4586-a611-9f5ea96766a1",
   "metadata": {},
   "source": [
    "Ex10"
   ]
  },
  {
   "cell_type": "code",
   "execution_count": 83,
   "id": "58c54cae-5fa6-4852-8b41-743d85926ff2",
   "metadata": {},
   "outputs": [
    {
     "name": "stdin",
     "output_type": "stream",
     "text": [
      " 15\n"
     ]
    },
    {
     "name": "stdout",
     "output_type": "stream",
     "text": [
      "0.2617993877991494\n"
     ]
    }
   ],
   "source": [
    "import math\n",
    "n = int(input())\n",
    "print(math.radians(n))"
   ]
  },
  {
   "cell_type": "markdown",
   "id": "f1e88ba8-4989-49ee-9bee-48922a5844f0",
   "metadata": {},
   "source": [
    "Ex11"
   ]
  },
  {
   "cell_type": "code",
   "execution_count": 89,
   "id": "9f7372a4-e1c8-4cb2-973f-4709d958ab58",
   "metadata": {},
   "outputs": [
    {
     "name": "stdin",
     "output_type": "stream",
     "text": [
      " 5\n",
      " 5\n",
      " 6\n"
     ]
    },
    {
     "name": "stdout",
     "output_type": "stream",
     "text": [
      "27.5\n"
     ]
    }
   ],
   "source": [
    "h = int(input())\n",
    "b1 = int(input())\n",
    "b2 = int(input())\n",
    "area = (b1+b2)*h/2\n",
    "print(area)"
   ]
  },
  {
   "cell_type": "markdown",
   "id": "d5b6d665-88dd-42b4-8664-f961ea840ffa",
   "metadata": {},
   "source": [
    "Ex12"
   ]
  },
  {
   "cell_type": "code",
   "execution_count": 94,
   "id": "b983b5e8-b160-47db-b483-3cf4b7d1f268",
   "metadata": {},
   "outputs": [
    {
     "name": "stdin",
     "output_type": "stream",
     "text": [
      " 4\n",
      " 25\n"
     ]
    },
    {
     "name": "stdout",
     "output_type": "stream",
     "text": [
      "625\n"
     ]
    }
   ],
   "source": [
    "import math\n",
    "n = int(input())\n",
    "ls = int(input())\n",
    "area = (n * ls**2) / (4 * math.tan(math.pi / n))\n",
    "ans = round(area)\n",
    "print(ans)"
   ]
  },
  {
   "cell_type": "markdown",
   "id": "6deb9202-2ee0-4900-af6f-754f428f46c2",
   "metadata": {},
   "source": [
    "Ex13"
   ]
  },
  {
   "cell_type": "code",
   "execution_count": 97,
   "id": "909f4711-d830-4df4-a427-9905ca11bcef",
   "metadata": {},
   "outputs": [
    {
     "name": "stdin",
     "output_type": "stream",
     "text": [
      " 5\n",
      " 6\n"
     ]
    },
    {
     "name": "stdout",
     "output_type": "stream",
     "text": [
      "30\n"
     ]
    }
   ],
   "source": [
    "a = int(input())\n",
    "b = int(input())\n",
    "print(a*b)"
   ]
  },
  {
   "cell_type": "code",
   "execution_count": 204,
   "id": "5543784e-1714-4319-a825-062505b5891a",
   "metadata": {},
   "outputs": [
    {
     "name": "stdout",
     "output_type": "stream",
     "text": [
      "Interface status\n",
      "================================================================================\n",
      "DN                                                 Description            Speed    MTU\n",
      "-------------------------------------------------- --------------------   ------   ----\n",
      "topology/pod-1/node-201/sys/phys-[eth1/33] \t \t\t\t inherit   9150\n",
      "topology/pod-1/node-201/sys/phys-[eth1/34] \t \t\t\t inherit   9150\n",
      "topology/pod-1/node-201/sys/phys-[eth1/35] \t \t\t\t inherit   9150\n",
      "topology/pod-1/node-201/sys/phys-[eth1/36] \t \t\t\t inherit   9150\n",
      "topology/pod-1/node-201/sys/phys-[eth1/1] \t \t\t\t inherit   9150\n",
      "topology/pod-1/node-201/sys/phys-[eth1/2] \t \t\t\t inherit   9150\n",
      "topology/pod-1/node-201/sys/phys-[eth1/3] \t \t\t\t inherit   9150\n",
      "topology/pod-1/node-201/sys/phys-[eth1/4] \t \t\t\t inherit   9150\n",
      "topology/pod-1/node-201/sys/phys-[eth1/5] \t \t\t\t inherit   9150\n",
      "topology/pod-1/node-201/sys/phys-[eth1/6] \t \t\t\t inherit   9150\n",
      "topology/pod-1/node-201/sys/phys-[eth1/7] \t \t\t\t inherit   9150\n",
      "topology/pod-1/node-201/sys/phys-[eth1/8] \t \t\t\t inherit   9150\n",
      "topology/pod-1/node-201/sys/phys-[eth1/9] \t \t\t\t inherit   9150\n",
      "topology/pod-1/node-201/sys/phys-[eth1/10] \t \t\t\t inherit   9150\n",
      "topology/pod-1/node-201/sys/phys-[eth1/11] \t \t\t\t inherit   9150\n",
      "topology/pod-1/node-201/sys/phys-[eth1/12] \t \t\t\t inherit   9150\n",
      "topology/pod-1/node-201/sys/phys-[eth1/13] \t \t\t\t inherit   9150\n",
      "topology/pod-1/node-201/sys/phys-[eth1/14] \t \t\t\t inherit   9150\n"
     ]
    }
   ],
   "source": [
    "import json\n",
    "\n",
    "with open(\"sample-data.json\", \"r\") as file:\n",
    "    data = json.load(file)\n",
    "\n",
    "print(\"Interface status\")\n",
    "print(\"=\" * 80)\n",
    "print(\"DN\", \" \" * 47, \"Description\",\" \"*10, \"Speed\", \" \"*2 , \"MTU\")\n",
    "print(\"-\" * 50, \"-\" * 20,\" \", \"-\" * 6,\" \", \"-\" * 4)\n",
    "for imdata in data[\"imdata\"]:\n",
    "    for i in imdata:\n",
    "        for j in imdata[i]:\n",
    "            print(imdata[i][j][\"dn\"],\"\\t\",\"\\t\\t\\t\", imdata[i][j][\"speed\"]  ,\" \",imdata[i][j][\"mtu\"])\n"
   ]
  }
 ],
 "metadata": {
  "kernelspec": {
   "display_name": "Python [conda env:base] *",
   "language": "python",
   "name": "conda-base-py"
  },
  "language_info": {
   "codemirror_mode": {
    "name": "ipython",
    "version": 3
   },
   "file_extension": ".py",
   "mimetype": "text/x-python",
   "name": "python",
   "nbconvert_exporter": "python",
   "pygments_lexer": "ipython3",
   "version": "3.12.7"
  }
 },
 "nbformat": 4,
 "nbformat_minor": 5
}
