{
 "cells": [
  {
   "cell_type": "markdown",
   "id": "800c8aea-0ba3-4a41-a80e-c5c1d99377d4",
   "metadata": {},
   "source": [
    "Ex1"
   ]
  },
  {
   "cell_type": "code",
   "execution_count": 10,
   "id": "7329679e-184f-480f-9d23-3fc4a8dc9b35",
   "metadata": {},
   "outputs": [
    {
     "name": "stdout",
     "output_type": "stream",
     "text": [
      "24\n"
     ]
    }
   ],
   "source": [
    "import math\n",
    "x=[1,2,3,4]\n",
    "res = math.prod(x)\n",
    "print(res)"
   ]
  },
  {
   "cell_type": "markdown",
   "id": "aa7c2c61-1dd2-4c0f-8fd6-d6fec8011a51",
   "metadata": {},
   "source": [
    "Ex2"
   ]
  },
  {
   "cell_type": "code",
   "execution_count": 20,
   "id": "fd4bf9e8-f137-4293-8007-40d58ad92dcf",
   "metadata": {},
   "outputs": [
    {
     "name": "stdout",
     "output_type": "stream",
     "text": [
      "4 6\n"
     ]
    }
   ],
   "source": [
    "s = \"HEllo WOrld!\"\n",
    "resu = sum(1 for i in s if i.isupper())\n",
    "resl = sum(1 for i in s if i.islower())\n",
    "print(resu,resl)"
   ]
  },
  {
   "cell_type": "markdown",
   "id": "e436f9b5-4e47-4aa0-b541-59787b9c9588",
   "metadata": {},
   "source": [
    "Ex3"
   ]
  },
  {
   "cell_type": "code",
   "execution_count": 37,
   "id": "cdd77a2b-a4a8-447e-8dba-5a2123d2a252",
   "metadata": {},
   "outputs": [
    {
     "name": "stdin",
     "output_type": "stream",
     "text": [
      " abcba\n"
     ]
    },
    {
     "name": "stdout",
     "output_type": "stream",
     "text": [
      "Yes,it is palindrome!\n"
     ]
    }
   ],
   "source": [
    "s=input()\n",
    "s1=s[::-1]\n",
    "if s==s1:\n",
    "    print(\"Yes,it is palindrome!\")\n",
    "else:\n",
    "    print(\"No, it is not palindrome!\")"
   ]
  },
  {
   "cell_type": "markdown",
   "id": "c6dc739f-1051-4469-a226-1826bac74ee0",
   "metadata": {},
   "source": [
    "Ex4"
   ]
  },
  {
   "cell_type": "code",
   "execution_count": 40,
   "id": "736b0f04-1e98-43ad-811d-4c790eb7489b",
   "metadata": {},
   "outputs": [
    {
     "name": "stdin",
     "output_type": "stream",
     "text": [
      " 25100\n",
      " 2123\n"
     ]
    },
    {
     "name": "stdout",
     "output_type": "stream",
     "text": [
      "158.42979517754858\n"
     ]
    }
   ],
   "source": [
    "import math\n",
    "import time\n",
    "n=int(input())\n",
    "ms=int(input())\n",
    "ms=ms/1000\n",
    "time.sleep(ms)\n",
    "print(math.sqrt(n))"
   ]
  },
  {
   "cell_type": "markdown",
   "id": "42df1bf6-20be-47c1-af40-93b1cf71a264",
   "metadata": {},
   "source": [
    "Ex5"
   ]
  },
  {
   "cell_type": "code",
   "execution_count": 49,
   "id": "6055051f-fcbc-469c-8b61-583a3ce46698",
   "metadata": {},
   "outputs": [
    {
     "name": "stdout",
     "output_type": "stream",
     "text": [
      "True\n",
      "False\n"
     ]
    }
   ],
   "source": [
    "x=(1,2,3,True,\"beka\")\n",
    "print(all(x))\n",
    "y=(1,2,0,True,\"beka\")\n",
    "print(all(y))"
   ]
  },
  {
   "cell_type": "markdown",
   "id": "83b30c3e-a7b9-4922-b0d6-8a8d343992ec",
   "metadata": {},
   "source": [
    "Ex6"
   ]
  },
  {
   "cell_type": "code",
   "execution_count": 91,
   "id": "37c96706-83a9-4fbb-9712-a6567bba4277",
   "metadata": {},
   "outputs": [
    {
     "name": "stdout",
     "output_type": "stream",
     "text": [
      "\"Hello! Welcome to demofile.txt\n",
      "\n"
     ]
    }
   ],
   "source": [
    "f = open(\"test.txt\", \"r\")\n",
    "print(f.readline())\n",
    "f.close()"
   ]
  },
  {
   "cell_type": "markdown",
   "id": "fe593e34-8f30-4829-9554-80c7bcdf6085",
   "metadata": {},
   "source": [
    "Ex7"
   ]
  },
  {
   "cell_type": "code",
   "execution_count": 121,
   "id": "d311336f-a08e-4e90-a59a-4e499fff4983",
   "metadata": {},
   "outputs": [
    {
     "name": "stdout",
     "output_type": "stream",
     "text": [
      "['lab2.ipynb', 'lab3.ipynb', 'lab4.ipynb', 'lab5.ipynb', 'lab6.ipynb', 'lecture1.ipynb', 'myfile.txt', 'sample-data.json', 'test.txt']\n",
      "['.ipynb_checkpoints']\n",
      "['.ipynb_checkpoints', 'lab2.ipynb', 'lab3.ipynb', 'lab4.ipynb', 'lab5.ipynb', 'lab6.ipynb', 'lecture1.ipynb', 'myfile.txt', 'sample-data.json', 'test.txt']\n"
     ]
    },
    {
     "name": "stderr",
     "output_type": "stream",
     "text": [
      "<>:2: SyntaxWarning: invalid escape sequence '\\A'\n",
      "<>:2: SyntaxWarning: invalid escape sequence '\\A'\n",
      "<>:3: SyntaxWarning: invalid escape sequence '\\A'\n",
      "<>:3: SyntaxWarning: invalid escape sequence '\\A'\n",
      "<>:4: SyntaxWarning: invalid escape sequence '\\A'\n",
      "<>:2: SyntaxWarning: invalid escape sequence '\\A'\n",
      "<>:2: SyntaxWarning: invalid escape sequence '\\A'\n",
      "<>:3: SyntaxWarning: invalid escape sequence '\\A'\n",
      "<>:3: SyntaxWarning: invalid escape sequence '\\A'\n",
      "<>:4: SyntaxWarning: invalid escape sequence '\\A'\n",
      "C:\\Users\\Admin\\AppData\\Local\\Temp\\ipykernel_24148\\4225361791.py:2: SyntaxWarning: invalid escape sequence '\\A'\n",
      "  files = [f for f in os.listdir(\"C:\\\\Users\\Admin\\Desktop\\pp2\") if os.path.isfile(os.path.join(\"C:\\\\Users\\Admin\\Desktop\\pp2\", f))]\n",
      "C:\\Users\\Admin\\AppData\\Local\\Temp\\ipykernel_24148\\4225361791.py:2: SyntaxWarning: invalid escape sequence '\\A'\n",
      "  files = [f for f in os.listdir(\"C:\\\\Users\\Admin\\Desktop\\pp2\") if os.path.isfile(os.path.join(\"C:\\\\Users\\Admin\\Desktop\\pp2\", f))]\n",
      "C:\\Users\\Admin\\AppData\\Local\\Temp\\ipykernel_24148\\4225361791.py:3: SyntaxWarning: invalid escape sequence '\\A'\n",
      "  directories = [d for d in os.listdir(\"C:\\\\Users\\Admin\\Desktop\\pp2\") if os.path.isdir(os.path.join(\"C:\\\\Users\\Admin\\Desktop\\pp2\", d))]\n",
      "C:\\Users\\Admin\\AppData\\Local\\Temp\\ipykernel_24148\\4225361791.py:3: SyntaxWarning: invalid escape sequence '\\A'\n",
      "  directories = [d for d in os.listdir(\"C:\\\\Users\\Admin\\Desktop\\pp2\") if os.path.isdir(os.path.join(\"C:\\\\Users\\Admin\\Desktop\\pp2\", d))]\n",
      "C:\\Users\\Admin\\AppData\\Local\\Temp\\ipykernel_24148\\4225361791.py:4: SyntaxWarning: invalid escape sequence '\\A'\n",
      "  comb = os.listdir(\"C:\\\\Users\\Admin\\Desktop\\pp2\")\n"
     ]
    }
   ],
   "source": [
    "import os\n",
    "files = [f for f in os.listdir(\"C:\\\\Users\\Admin\\Desktop\\pp2\") if os.path.isfile(os.path.join(\"C:\\\\Users\\Admin\\Desktop\\pp2\", f))]\n",
    "directories = [d for d in os.listdir(\"C:\\\\Users\\Admin\\Desktop\\pp2\") if os.path.isdir(os.path.join(\"C:\\\\Users\\Admin\\Desktop\\pp2\", d))]\n",
    "comb = os.listdir(\"C:\\\\Users\\Admin\\Desktop\\pp2\")\n",
    "print(files)\n",
    "print(directories)\n",
    "print(comb)"
   ]
  },
  {
   "cell_type": "markdown",
   "id": "84f1b8a0-5536-4dc9-afb8-de2df190eed1",
   "metadata": {},
   "source": [
    "Ex8"
   ]
  },
  {
   "cell_type": "code",
   "execution_count": 126,
   "id": "d59d5db5-2a33-4cb6-a259-c658ddb9b734",
   "metadata": {},
   "outputs": [
    {
     "name": "stdout",
     "output_type": "stream",
     "text": [
      "True\n",
      "True\n",
      "True\n",
      "True\n"
     ]
    },
    {
     "name": "stderr",
     "output_type": "stream",
     "text": [
      "<>:2: SyntaxWarning: invalid escape sequence '\\A'\n",
      "<>:3: SyntaxWarning: invalid escape sequence '\\A'\n",
      "<>:4: SyntaxWarning: invalid escape sequence '\\A'\n",
      "<>:5: SyntaxWarning: invalid escape sequence '\\A'\n",
      "<>:2: SyntaxWarning: invalid escape sequence '\\A'\n",
      "<>:3: SyntaxWarning: invalid escape sequence '\\A'\n",
      "<>:4: SyntaxWarning: invalid escape sequence '\\A'\n",
      "<>:5: SyntaxWarning: invalid escape sequence '\\A'\n",
      "C:\\Users\\Admin\\AppData\\Local\\Temp\\ipykernel_24148\\2771981662.py:2: SyntaxWarning: invalid escape sequence '\\A'\n",
      "  print(os.path.exists(\"C:\\\\Users\\Admin\\Desktop\\pp2\"))\n",
      "C:\\Users\\Admin\\AppData\\Local\\Temp\\ipykernel_24148\\2771981662.py:3: SyntaxWarning: invalid escape sequence '\\A'\n",
      "  print(os.access(\"C:\\\\Users\\Admin\\Desktop\\pp2\", os.R_OK))\n",
      "C:\\Users\\Admin\\AppData\\Local\\Temp\\ipykernel_24148\\2771981662.py:4: SyntaxWarning: invalid escape sequence '\\A'\n",
      "  print(os.access(\"C:\\\\Users\\Admin\\Desktop\\pp2\", os.W_OK))\n",
      "C:\\Users\\Admin\\AppData\\Local\\Temp\\ipykernel_24148\\2771981662.py:5: SyntaxWarning: invalid escape sequence '\\A'\n",
      "  print(os.access(\"C:\\\\Users\\Admin\\Desktop\\pp2\", os.X_OK))\n"
     ]
    }
   ],
   "source": [
    "import os\n",
    "print(os.path.exists(\"C:\\\\Users\\Admin\\Desktop\\pp2\"))\n",
    "print(os.access(\"C:\\\\Users\\Admin\\Desktop\\pp2\", os.R_OK))\n",
    "print(os.access(\"C:\\\\Users\\Admin\\Desktop\\pp2\", os.W_OK))\n",
    "print(os.access(\"C:\\\\Users\\Admin\\Desktop\\pp2\", os.X_OK))"
   ]
  },
  {
   "cell_type": "markdown",
   "id": "b8311530-f15a-4cb4-bde7-2f1a0299f28e",
   "metadata": {},
   "source": [
    "Ex9"
   ]
  },
  {
   "cell_type": "code",
   "execution_count": 138,
   "id": "18aae3d7-d831-49c2-a6db-8d10e34ae950",
   "metadata": {},
   "outputs": [
    {
     "name": "stdout",
     "output_type": "stream",
     "text": [
      "Yes\n",
      "C:\\Users\\Admin\\Desktop\n",
      "pp2\n"
     ]
    },
    {
     "name": "stderr",
     "output_type": "stream",
     "text": [
      "<>:2: SyntaxWarning: invalid escape sequence '\\A'\n",
      "<>:4: SyntaxWarning: invalid escape sequence '\\A'\n",
      "<>:5: SyntaxWarning: invalid escape sequence '\\A'\n",
      "<>:2: SyntaxWarning: invalid escape sequence '\\A'\n",
      "<>:4: SyntaxWarning: invalid escape sequence '\\A'\n",
      "<>:5: SyntaxWarning: invalid escape sequence '\\A'\n",
      "C:\\Users\\Admin\\AppData\\Local\\Temp\\ipykernel_24148\\4085641947.py:2: SyntaxWarning: invalid escape sequence '\\A'\n",
      "  if os.path.exists(\"C:\\\\Users\\Admin\\Desktop\\pp2\"):\n",
      "C:\\Users\\Admin\\AppData\\Local\\Temp\\ipykernel_24148\\4085641947.py:4: SyntaxWarning: invalid escape sequence '\\A'\n",
      "  print(os.path.dirname(\"C:\\\\Users\\Admin\\Desktop\\pp2\"))\n",
      "C:\\Users\\Admin\\AppData\\Local\\Temp\\ipykernel_24148\\4085641947.py:5: SyntaxWarning: invalid escape sequence '\\A'\n",
      "  print(os.path.basename(\"C:\\\\Users\\Admin\\Desktop\\pp2\"))\n"
     ]
    }
   ],
   "source": [
    "import os\n",
    "if os.path.exists(\"C:\\\\Users\\Admin\\Desktop\\pp2\"):\n",
    "    print(\"Yes\")\n",
    "    print(os.path.dirname(\"C:\\\\Users\\Admin\\Desktop\\pp2\"))\n",
    "    print(os.path.basename(\"C:\\\\Users\\Admin\\Desktop\\pp2\"))\n",
    "else:\n",
    "    print(\"Path does not exist\")"
   ]
  },
  {
   "cell_type": "markdown",
   "id": "9016ed93-e66f-4d05-b570-845f6fc4c237",
   "metadata": {},
   "source": [
    "Ex10"
   ]
  },
  {
   "cell_type": "code",
   "execution_count": 141,
   "id": "be89faab-e9ed-4805-81d3-cbddb03b84f5",
   "metadata": {},
   "outputs": [
    {
     "name": "stdout",
     "output_type": "stream",
     "text": [
      "3\n"
     ]
    }
   ],
   "source": [
    "file = open(\"test.txt\",\"r\")\n",
    "lines = 0\n",
    "for i in file:\n",
    "    lines = lines+1\n",
    "print(lines)"
   ]
  },
  {
   "cell_type": "markdown",
   "id": "6071fbea-1c16-4d58-868e-6e228897520a",
   "metadata": {},
   "source": [
    "Ex11"
   ]
  },
  {
   "cell_type": "code",
   "execution_count": 144,
   "id": "48bbbd83-b35d-4093-9c45-97ef7bb1baac",
   "metadata": {},
   "outputs": [
    {
     "name": "stdout",
     "output_type": "stream",
     "text": [
      "\"Hello! Welcome to demofile.txt\n",
      "This file is for testing purposes.\n",
      "Good Luck!\"[1,2,3,4,5]\n"
     ]
    }
   ],
   "source": [
    "file = open(\"test.txt\",\"a\")\n",
    "file.write(\"[1,2,3,4,5]\")\n",
    "file=open(\"test.txt\",\"r\")\n",
    "print(file.read())"
   ]
  },
  {
   "cell_type": "markdown",
   "id": "b44cc82a-5ca0-41c8-8114-9989a43245ed",
   "metadata": {},
   "source": [
    "Ex12"
   ]
  },
  {
   "cell_type": "code",
   "execution_count": 148,
   "id": "250caf71-ac6c-40eb-acf4-97de3cea4c61",
   "metadata": {},
   "outputs": [],
   "source": [
    "for i in range(26):\n",
    "    name = chr(65 + i) + \".txt\"\n",
    "    files = open(name,\"w\")"
   ]
  },
  {
   "cell_type": "markdown",
   "id": "0b30f12d-666b-402e-ad28-b19e3f6430f1",
   "metadata": {},
   "source": [
    "Ex13"
   ]
  },
  {
   "cell_type": "code",
   "execution_count": 161,
   "id": "fad2806a-5b8b-45fd-91ff-17451faf2dd2",
   "metadata": {},
   "outputs": [],
   "source": [
    "with open('test.txt', 'r') as src, open('new2.txt', 'w') as n:\n",
    "    n.write(src.read())"
   ]
  },
  {
   "cell_type": "markdown",
   "id": "b1cad679-0957-40b8-8de2-fb7690360f36",
   "metadata": {},
   "source": [
    "Ex14"
   ]
  },
  {
   "cell_type": "code",
   "execution_count": 174,
   "id": "6dacea7c-6081-4adf-94df-cb0343dbb5d7",
   "metadata": {},
   "outputs": [
    {
     "name": "stdout",
     "output_type": "stream",
     "text": [
      "File has been deleted!\n"
     ]
    },
    {
     "name": "stderr",
     "output_type": "stream",
     "text": [
      "<>:2: SyntaxWarning: invalid escape sequence '\\A'\n",
      "<>:3: SyntaxWarning: invalid escape sequence '\\A'\n",
      "<>:4: SyntaxWarning: invalid escape sequence '\\A'\n",
      "<>:2: SyntaxWarning: invalid escape sequence '\\A'\n",
      "<>:3: SyntaxWarning: invalid escape sequence '\\A'\n",
      "<>:4: SyntaxWarning: invalid escape sequence '\\A'\n",
      "C:\\Users\\Admin\\AppData\\Local\\Temp\\ipykernel_24148\\1795029832.py:2: SyntaxWarning: invalid escape sequence '\\A'\n",
      "  if os.path.exists(\"C:\\\\Users\\Admin\\Desktop\\pp2\\P.txt\"):\n",
      "C:\\Users\\Admin\\AppData\\Local\\Temp\\ipykernel_24148\\1795029832.py:3: SyntaxWarning: invalid escape sequence '\\A'\n",
      "  if os.access(\"C:\\\\Users\\Admin\\Desktop\\pp2\\P.txt\", os.R_OK):\n",
      "C:\\Users\\Admin\\AppData\\Local\\Temp\\ipykernel_24148\\1795029832.py:4: SyntaxWarning: invalid escape sequence '\\A'\n",
      "  os.remove(\"C:\\\\Users\\Admin\\Desktop\\pp2\\P.txt\")\n"
     ]
    }
   ],
   "source": [
    "import os\n",
    "if os.path.exists(\"C:\\\\Users\\Admin\\Desktop\\pp2\\P.txt\"):\n",
    "    if os.access(\"C:\\\\Users\\Admin\\Desktop\\pp2\\P.txt\", os.R_OK):\n",
    "        os.remove(\"C:\\\\Users\\Admin\\Desktop\\pp2\\P.txt\")\n",
    "        print(\"File has been deleted!\")"
   ]
  },
  {
   "cell_type": "code",
   "execution_count": null,
   "id": "4d818889-ee2b-468e-ae58-d67b4893509a",
   "metadata": {},
   "outputs": [],
   "source": []
  }
 ],
 "metadata": {
  "kernelspec": {
   "display_name": "Python [conda env:base] *",
   "language": "python",
   "name": "conda-base-py"
  },
  "language_info": {
   "codemirror_mode": {
    "name": "ipython",
    "version": 3
   },
   "file_extension": ".py",
   "mimetype": "text/x-python",
   "name": "python",
   "nbconvert_exporter": "python",
   "pygments_lexer": "ipython3",
   "version": "3.12.7"
  }
 },
 "nbformat": 4,
 "nbformat_minor": 5
}
